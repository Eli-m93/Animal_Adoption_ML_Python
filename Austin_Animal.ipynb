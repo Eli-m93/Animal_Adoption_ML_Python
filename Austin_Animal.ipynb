{
 "cells": [
  {
   "cell_type": "code",
   "execution_count": null,
   "metadata": {},
   "outputs": [],
   "source": [
    "import folium\n",
    "from folium.plugins import HeatMap\n",
    "import numpy as np \n",
    "import pandas as pd\n",
    "import matplotlib.pyplot as plt\n",
    "import seaborn as sns \n",
    "from sklearn.preprocessing import OneHotEncoder, StandardScaler\n",
    "from sklearn.model_selection import GridSearchCV, train_test_split \n",
    "from sklearn.tree import DecisionTreeClassifier, plot_tree\n",
    "from sklearn.ensemble import RandomForestClassifier, AdaBoostClassifier\n",
    "from sklearn.metrics import confusion_matrix,classification_report,plot_confusion_matrix,accuracy_score\n",
    "from sklearn.pipeline import Pipeline\n",
    "from sklearn.compose import ColumnTransformer\n",
    "from sklearn.impute import SimpleImputer\n",
    "from sklearn.feature_extraction.text import CountVectorizer\n",
    "import matplotlib.pyplot as plt\n",
    "from sklearn.linear_model import LogisticRegression, LogisticRegressionCV\n",
    "import re, string\n",
    "from nltk.stem import SnowballStemmer\n",
    "from sklearn.feature_extraction.text import CountVectorizer\n",
    "\n"
   ]
  },
  {
   "cell_type": "markdown",
   "metadata": {},
   "source": [
    "# Predicting if an Animal will be re-homed in <30 Days Using Government Data.\n",
    "\n",
    "Below is a mini-project I started that attempts to predict if an animal taken in from Austin animal shelter will be re-homed in 30 days. I did this to better understand Tree + Ensemble methods in Sklearn.\n",
    "\n",
    "- This project was inspired by a [mini-course on decision trees from AWS](https://github.com/aws-samples/aws-machine-learning-university-dte). \n",
    "- Raw data is taken from [The City of Austin Texas's government data page](https://data.austintexas.gov/Health-and-Community-Services/Austin-Animal-Center-Intakes/wter-evkm).\n",
    "\n",
    "This project is ongoing, please excuse any grammatical mistakes or unfinished parts!\n",
    "\n",
    "### Ongoing goals to add (As of 4/13/22):\n",
    "1. Pull data via SODA API or create local SQL server to perform pulls. Problematic as SODA API won't let me pull \"max rows.\"\n",
    "2. Attempt other ensemble methods. Ideally ADA boosted trees and NN (when I master this).\n",
    "3. Finish with fine tuning and assessing over test set.\n",
    "4. Create final table of results + takeaways.\n",
    "5. Expand on EDA, clean up as part of presentation to Austin Shelter team."
   ]
  },
  {
   "cell_type": "code",
   "execution_count": null,
   "metadata": {},
   "outputs": [],
   "source": [
    "#Create Datasets\n",
    "intake_df = pd.read_csv('Austin_Animal_Center_Intakes.csv')\n",
    "outcome_df = pd.read_csv('Austin_Animal_Center_Outcomes.csv')\n",
    "geocoded_df = pd.read_csv('geocoded_locations.csv')"
   ]
  },
  {
   "cell_type": "markdown",
   "metadata": {},
   "source": [
    "## Data Intake + Prep\n",
    "\n",
    "Cleaning is one of the most important aspects of any project. Below I attempt to:\n",
    "\n",
    "1. Simplify variable names, this can lower any confusion to the reader and for long term analysis.\n",
    "2. Find missing or bad data, these rows could skew our analysis, especially if features contain many missing values or behave in unexpected ways.\n",
    "3. Merged datasets to have a beginning endline dataset to run EDA over.\n",
    "\n",
    "-------------------------------------------------"
   ]
  },
  {
   "cell_type": "markdown",
   "metadata": {},
   "source": [
    "### 1. Simplify columns names"
   ]
  },
  {
   "cell_type": "code",
   "execution_count": null,
   "metadata": {},
   "outputs": [],
   "source": [
    "\n",
    "#Let's simplify all the column names to lower case\n",
    "def lower_case_col(dataset):\n",
    "    for i in dataset.columns:\n",
    "        new_name = i.replace(\" \", \"_\").lower()\n",
    "        dataset.rename(columns = {i:new_name}, inplace=True)\n",
    "\n",
    "lower_case_col(intake_df)\n",
    "lower_case_col(outcome_df)"
   ]
  },
  {
   "cell_type": "markdown",
   "metadata": {},
   "source": [
    "### 2. Find bad/missing data:\n",
    "\n",
    "Here I am looking for any columns that might be problematic to our analysis (many missing values, extreme values, or nonsensical values that require more digging)."
   ]
  },
  {
   "cell_type": "code",
   "execution_count": null,
   "metadata": {},
   "outputs": [],
   "source": [
    "#Let's make a function to output what's missing\n",
    "def percent_missing(df):\n",
    "    percent_nan = 100* df.isnull().sum() / len(df)\n",
    "    percent_nan = percent_nan[percent_nan>0].sort_values()\n",
    "    return percent_nan"
   ]
  },
  {
   "cell_type": "code",
   "execution_count": null,
   "metadata": {},
   "outputs": [],
   "source": [
    "#Only one row contains a missing sex, lets drop this.\n",
    "percent_missing(intake_df) \n"
   ]
  },
  {
   "cell_type": "code",
   "execution_count": null,
   "metadata": {},
   "outputs": [],
   "source": [
    "#Drop one row that contains missing sex\n",
    "intake_df_clean = intake_df.dropna(subset=['sex_upon_intake']).copy()\n",
    "\n",
    "#Replace missing names with \"Missing\"\n",
    "intake_df_clean['name'] = intake_df_clean['name'].fillna(\"Missing\")"
   ]
  },
  {
   "cell_type": "code",
   "execution_count": null,
   "metadata": {},
   "outputs": [],
   "source": [
    "#Outcome data has a few observations with missing values, especially in some important metrics. However, its only outcome_type that matters for this analysis (this tells us wether an animal was adopted, transferred, euthanized, etc..). \n",
    "#Outcome_subtype is useful for EDA and further analysis but not so much for prediction so we can ignore for now.\n",
    "percent_missing(outcome_df) "
   ]
  },
  {
   "cell_type": "code",
   "execution_count": null,
   "metadata": {},
   "outputs": [],
   "source": [
    "#Drop rows that missing outcome\n",
    "outcome_df_clean =  outcome_df.dropna(subset=['outcome_type']).copy()\n",
    "\n",
    "#Replace missing names with \"Missing\"\n",
    "outcome_df_clean['name'] = intake_df_clean['name'].fillna(\"Missing\")"
   ]
  },
  {
   "cell_type": "markdown",
   "metadata": {},
   "source": [
    "### 3. Merge Intake & Outcome Data:\n",
    "\n",
    "Now merge the semi-cleaned data together so I can continue with feature engineering and EDA. To do this I first create merging variables.\n",
    "\n",
    "The same animal can show up multiple times, however their intake and subsequent outcome are always in order. For instance if dog A has been intaken 5 times in our data, then they'll be in the outcome 5 times, if not the animal is still waiting for an outcome. I can't merge these multiple instances on ID and date as an animal will come in a different date it leaves, but I can sort on date in both dataframes and create a unique merge variable instead."
   ]
  },
  {
   "cell_type": "code",
   "execution_count": null,
   "metadata": {},
   "outputs": [],
   "source": [
    "#Let's make an \"month taken in\" variable, it might be the case adoptions happen more often during holidays?\n",
    "def d_m_y(var,name):\n",
    "    date = pd.to_datetime(var.loc[:,'datetime'])\n",
    "    var[name + '_month'] = date.dt.month\n",
    "    var[name + '_datetime'] = date\n",
    "    var = var.drop(['datetime'], axis=1)\n",
    "    \n",
    "d_m_y(intake_df_clean, 'intake')\n",
    "d_m_y(outcome_df_clean, 'outcome')\n",
    "\n"
   ]
  },
  {
   "cell_type": "code",
   "execution_count": null,
   "metadata": {},
   "outputs": [],
   "source": [
    "def sort_for_merge(var, name):\n",
    "    var['merge_counter'] = var.sort_values(by=[name + '_datetime']).groupby(['animal_id']).cumcount()+1\n",
    "    \n",
    "sort_for_merge(intake_df_clean, 'intake')\n",
    "sort_for_merge(outcome_df_clean, 'outcome')\n",
    "\n",
    "#Now merge\n",
    "merged_df = intake_df_clean.merge(outcome_df_clean[['outcome_datetime',\n",
    "                                                        'outcome_month',\n",
    "                                                        'outcome_type',\n",
    "                                                        'animal_id',\n",
    "                                                        'merge_counter']],\n",
    "                                  on = ['animal_id',\n",
    "                                        'merge_counter'],\n",
    "                                    how='inner')"
   ]
  },
  {
   "cell_type": "markdown",
   "metadata": {},
   "source": [
    "## EDA + Feature Engineering\n",
    "\n",
    "This step attempts to combine multiple aspects of any data science project together:\n",
    "1. Identify worthwhile features to use and determine what features to create.\n",
    "2. Create new features. Many of the raw features given are not ready to run EDA over. I need to still fix and create features.\n",
    "3. Perform EDA and identify any issues or interesting relationships.\n",
    "4. Drop observations or clean features of interest.\n",
    "5. Specify features types and transform as needed\n",
    "\n",
    "Feature Engineering is an ongoing process however, so what is listed above is only a portion of what I do on this project. Moreover, this process is an overarching step of this project. Under the hood and behind the curtains lies hundreds of lines of depreciated code, useless features, and other analysis not included. Later on I will continue feature engineering by dummying our variables (after EDA).\n",
    "\n",
    "------------------------------------"
   ]
  },
  {
   "cell_type": "markdown",
   "metadata": {},
   "source": [
    "### 1.Identify\n",
    "First I need to think of what features in the intake data could potentially predict if an animal will be rehomed, I don't want to throw the whole kitchen sink of features in potentially adding noise to my analysis. Second, I need to understand and define \"rehomed.\" What is the key performance metric I should use?\n",
    "\n",
    "Much of this \"Identify\" comes during EDA or via simple inspection of my data. I already know by looking that intake Age is important, breed, and time of adoption."
   ]
  },
  {
   "cell_type": "markdown",
   "metadata": {},
   "source": [
    "### 2. Create\n",
    "\n",
    "After Identifying what I could use in the intake data, I need to create additional features and retool existing ones to my liking. Some potential ideas I saw:\n",
    "1. Seasonality might matter, having an animal come in near Christmas might spur higher adoptions.\n",
    "2. Age needs to be standard across animals, lets turn it into months.\n",
    "3. How should we deal with purebred and mixed animals?"
   ]
  },
  {
   "cell_type": "code",
   "execution_count": null,
   "metadata": {},
   "outputs": [],
   "source": [
    "#Lets make age in terms of months \n",
    "def age_to_num(var):\n",
    "    num, date = var.split(' ')\n",
    "    num = int(num)\n",
    "    if 'year' in date :\n",
    "        num = num*12\n",
    "    elif 'week' in date:\n",
    "        num = num/4\n",
    "    elif 'day' in date:\n",
    "        num = num/30\n",
    "    else:\n",
    "        num   \n",
    "    if num < 0:\n",
    "        num = np.nan    \n",
    "    return(num)   \n",
    "\n",
    "merged_df['age'] = merged_df['age_upon_intake'].apply(age_to_num)"
   ]
  },
  {
   "cell_type": "code",
   "execution_count": null,
   "metadata": {},
   "outputs": [],
   "source": [
    "#Let's make a \"purebred\" variable for dogs. This should only really matter for dogs, as for cats \"shorthair mix\" & \"shorthair\" for a cat are identical. Moreover, what is the difference between a \"cow\" and \"cow mix?\"\n",
    "merged_df.loc[(merged_df.animal_type == \"Dog\") & ~(merged_df.breed.str.contains(\"Mix|/\")), \"purebred\"] = 1\n",
    "merged_df['purebred']=merged_df['purebred'].fillna(0)"
   ]
  },
  {
   "cell_type": "code",
   "execution_count": null,
   "metadata": {},
   "outputs": [],
   "source": [
    "#Create our Y outcomes:\n",
    "merged_df['days'] = (merged_df['outcome_datetime'] - merged_df['intake_datetime']) / np.timedelta64(1,'D')\n",
    "merged_df['rehomed_in_30_days'] = np.where( (merged_df['days'] <= 30) & (merged_df['outcome_type'].str.contains('Adopt|Rto|Return to Owner')), 1, 0)\n",
    "merged_df['rehomed'] = np.where(merged_df['outcome_type'].str.contains('Adopt|Rto|Return to Owner'), 1, 0)\n",
    "merged_df['adopted'] = np.where(merged_df['outcome_type'].str.contains('Adopt'), 1, 0)"
   ]
  },
  {
   "cell_type": "markdown",
   "metadata": {},
   "source": [
    "## EDA"
   ]
  },
  {
   "cell_type": "code",
   "execution_count": null,
   "metadata": {},
   "outputs": [],
   "source": [
    "#Maps\n",
    "def generateBaseMap(default_location=[30, -97.733330], default_zoom_start=10):\n",
    "    base_map = folium.Map(location=default_location, control_scale=True, zoom_start=default_zoom_start)\n",
    "    return base_map\n",
    "basemap = generateBaseMap()\n",
    "\n",
    "folium.TileLayer('cartodbpositron').add_to(basemap)\n",
    "folium.Marker(location=[30.2527847, -97.6926073],\n",
    "              popup='Austin Animal Shelter', \n",
    "              icon = folium.Icon(color='green',icon='info-sign')).add_to(basemap)\n",
    "HeatMap(data=geocoded_df[['latitude','longitude']].groupby(['latitude','longitude']).sum().reset_index().values.tolist(), radius=8,max_zoom=13,name='Heat Map').add_to(basemap)\n",
    "folium.LayerControl(collapsed=False).add_to(basemap)\n",
    "basemap\n"
   ]
  },
  {
   "cell_type": "markdown",
   "metadata": {},
   "source": [
    "First lets plot animal age by type. As we can see there's a concerning amount of outliers by animal type in our data (that is observations 1.5*IQR + 3Q). This is something we ought to drop later on."
   ]
  },
  {
   "cell_type": "code",
   "execution_count": null,
   "metadata": {},
   "outputs": [],
   "source": [
    "#animal ages\n",
    "ax = sns.boxplot(x=\"animal_type\", y=\"age\", showfliers=True,data=merged_df)\n",
    "ax.set_ylabel(\"Age (Months)\")\n",
    "ax.set_xlabel(\"Animal Type\")\n",
    "ax.set_title(\"Average Ages of Animals (All)\")"
   ]
  },
  {
   "cell_type": "markdown",
   "metadata": {},
   "source": [
    "It seems like there's a fair amount of outliers by animal type, lets fix this now before I move on with EDA."
   ]
  },
  {
   "cell_type": "code",
   "execution_count": null,
   "metadata": {},
   "outputs": [],
   "source": [
    "def iqr_drop(df):\n",
    "    q1 = df.age.quantile(0.25)\n",
    "    q3 = df.age.quantile(0.75)\n",
    "    iqr = q3 - q1 \n",
    "    df = df.iloc[np.where((q1 - 1.5*iqr < df.age) & (df.age < q3 + 1.5*iqr))[0], :] \n",
    "    return df\n",
    "\n",
    "df = merged_df\n",
    "for i in merged_df.animal_type.unique():\n",
    "    q1 = df[df.animal_type == i].age.quantile(0.25)\n",
    "    q3 = df[df.animal_type == i].age.quantile(0.75)\n",
    "    iqr = q3 - q1 \n",
    "    drop_q1 = q1 - 1.5*iqr\n",
    "    drop_q3 = q3 + 1.5*iqr\n",
    "    df = df.drop(df[(df.animal_type == i) &\n",
    "                                         (df.age < drop_q1)].index)\n",
    "    df = df.drop(df[(df.animal_type == i) &\n",
    "                                        (df.age > drop_q3)].index)\n",
    "\n",
    "merged_df_clean = df\n",
    "    \n",
    "        \n",
    "\n",
    "ax = sns.boxplot(x=\"animal_type\", y=\"age\", showfliers=True,data=merged_df_clean)\n",
    "ax.set_title(\"Ages without Outliers\")\n"
   ]
  },
  {
   "cell_type": "code",
   "execution_count": null,
   "metadata": {},
   "outputs": [],
   "source": [
    "ax = sns.violinplot(x='animal_type',y=\"age\",data=merged_df_clean, hue='rehomed_in_30_days', split='True', palette='rainbow')\n",
    "ax.set_ylabel(\"Age (Months)\")\n",
    "ax.set_xlabel(\"Animal Type\")\n",
    "ax.set_title(\"Adoption, Age, and Animal Type\")\n",
    "ax.legend(title=\"Rehomed in 30 Days\",\n",
    "          loc='best', fontsize='small')\n",
    "\n"
   ]
  },
  {
   "cell_type": "code",
   "execution_count": null,
   "metadata": {},
   "outputs": [],
   "source": [
    "table_df = pd.DataFrame()\n",
    "table_df['Rehomed'] = merged_df_clean['rehomed']\n",
    "table_df['Rehomed Within 30 Days'] = merged_df_clean['rehomed_in_30_days']\n",
    "table_df['Animal Type'] = merged_df_clean['animal_type']\n",
    "table_df['Intake Type'] = merged_df_clean['intake_type']\n",
    "\n",
    "pivot = np.round(pd.pivot_table(table_df, index=['Animal Type'],\n",
    "               values=['Rehomed','Rehomed Within 30 Days'],\n",
    "               aggfunc=[np.mean, np.sum],\n",
    "               margins=True,\n",
    "               margins_name='Total'),2)\n",
    "\n",
    "pivot"
   ]
  },
  {
   "cell_type": "code",
   "execution_count": null,
   "metadata": {},
   "outputs": [],
   "source": [
    "pivot = np.round(pd.pivot_table(table_df, index=['Intake Type'],\n",
    "               values=['Rehomed','Rehomed Within 30 Days'],\n",
    "               aggfunc=[np.mean, np.sum],\n",
    "               margins=True,\n",
    "               margins_name='Total'),2)\n",
    "\n",
    "pivot"
   ]
  },
  {
   "cell_type": "code",
   "execution_count": null,
   "metadata": {},
   "outputs": [],
   "source": [
    "sns.set(style=\"darkgrid\")\n",
    "ax = sns.catplot(\n",
    "    x = 'animal_type',\n",
    "    y= 'rehomed_in_30_days',\n",
    "    col = 'intake_type',\n",
    "    data = merged_df_clean,\n",
    "    kind = 'bar',\n",
    "    ci = None\n",
    ")\n",
    "ax.set_ylabels('Adopted Within 30 Days')\n",
    "ax.set_xlabels('')"
   ]
  },
  {
   "cell_type": "code",
   "execution_count": null,
   "metadata": {},
   "outputs": [],
   "source": [
    "sns.countplot(x='animal_type', data=merged_df_clean)"
   ]
  },
  {
   "cell_type": "code",
   "execution_count": null,
   "metadata": {},
   "outputs": [],
   "source": [
    "sns.kdeplot(x='outcome_month', \n",
    "            data=merged_df_clean,\n",
    "            fill=True)"
   ]
  },
  {
   "cell_type": "code",
   "execution_count": null,
   "metadata": {},
   "outputs": [],
   "source": [
    "mode = lambda x: x.mode() if len(x) > 2 else np.array(x)\n",
    "merged_df_clean.groupby('animal_type')['breed'].agg(mode)"
   ]
  },
  {
   "cell_type": "code",
   "execution_count": null,
   "metadata": {},
   "outputs": [],
   "source": [
    "merged_df_clean.groupby('animal_type')['breed'].nunique()"
   ]
  },
  {
   "cell_type": "markdown",
   "metadata": {},
   "source": [
    "### Dealing with Strings\n",
    "\n",
    "I have a strong interest in using the animal's name, found location, intake type, condition, breed, and color in our analysis. First I need to actually clean the text before I can vectorize them. \n",
    "\n",
    "As a note: This portion was heavily inspired by the AWS course where they introduced me to text cleaning and vectorization tools.\n",
    "\n",
    "What I have in mind is this:\n",
    "1. Use SnowballStemmer to simplify longer strings like colors, address, or name\n",
    "2. Get rid of useless characters such as \"/\" \"*\" \"()\" \".\" in strings\n",
    "3. Remove any white space"
   ]
  },
  {
   "cell_type": "code",
   "execution_count": null,
   "metadata": {},
   "outputs": [],
   "source": [
    "#First SnowballStemmer\n",
    "\n",
    "#specify stop_words: words that can be ignored when simplifying our strings\n",
    "stop_words = [\"a\", \"an\", \"the\", \"this\", \"that\", \"is\", \"it\", \"to\", \"and\"]\n",
    "\n",
    "stemmer = SnowballStemmer('english')\n",
    "\n",
    "def preProcessText(text):\n",
    "    # lowercase and strip leading/trailing white space\n",
    "    text = text.lower().strip()\n",
    "    \n",
    "    # remove HTML tags\n",
    "    text = re.compile('<.*?>').sub('', text)\n",
    "    \n",
    "    # remove punctuation\n",
    "    text = re.compile('[%s]' % re.escape(string.punctuation)).sub(' ', text)\n",
    "    \n",
    "    # remove extra white space\n",
    "    text = re.sub('\\s+', ' ', text)\n",
    "    \n",
    "    return text\n",
    "\n",
    "def lexiconProcess(text, stop_words, stemmer):\n",
    "    filtered_sentence = []\n",
    "    words = text.split(\" \")\n",
    "    for w in words:\n",
    "        if w not in stop_words:\n",
    "            filtered_sentence.append(stemmer.stem(w))\n",
    "    text = \" \".join(filtered_sentence)\n",
    "    \n",
    "    return text\n",
    "\n",
    "\n",
    "def cleanSentence(text, stop_words, stemmer):\n",
    "    return lexiconProcess(preProcessText(text), stop_words, stemmer)\n",
    "\n",
    "# Clean the text features\n",
    "for c in ['name', 'breed', 'color', 'found_location', 'intake_condition']:\n",
    "    print('Text cleaning: ', c)\n",
    "    merged_df_clean[c] = [cleanSentence(item, stop_words, stemmer) for item in merged_df_clean[c].values]\n",
    "    merged_df[c] = [cleanSentence(item, stop_words, stemmer) for item in merged_df[c].values]"
   ]
  },
  {
   "cell_type": "markdown",
   "metadata": {},
   "source": [
    "## Feature Selection & Train Test Split"
   ]
  },
  {
   "cell_type": "markdown",
   "metadata": {},
   "source": [
    "### Selecting Features + Outcome:\n",
    "After EDA and some manual observation I believe I found a set of interesting features to use to predict adoption and rehoming. To simplfy this process down the road I will specify three type of features that I will use (and subsequently clean).\n",
    "\n",
    "1. Numerical: Any feature that is continuos or ordinal, i.e. the feature is coded in such a way that high or lower values correspond to some implicit ordering or intensity. Think age, income, weight, size, etc..\n",
    "2. Categorical: Any feature that can be broken in discrete values, however unlike ordinal, higher or lower values do not correspond to any ordering or intensity. Think color, breed, etc..\n",
    "3. String: Any feature whose information is encoded as a string, where no well defined structure is present. Think name, address, review, etc.."
   ]
  },
  {
   "cell_type": "code",
   "execution_count": null,
   "metadata": {},
   "outputs": [],
   "source": [
    "merged_df_clean.columns"
   ]
  },
  {
   "cell_type": "code",
   "execution_count": null,
   "metadata": {},
   "outputs": [],
   "source": [
    "num_feats = ['age']\n",
    "cat_feats = ['animal_type', 'intake_month', 'sex_upon_intake', 'intake_condition', 'purebred']\n",
    "#Include color + breed in strings as these features contain multiple values that can be seemingly mixed up. I don't want to treat a pit-bull/lab mix any differently as a lab/put-bull mix.\n",
    "str_feats = ['name', 'color', 'breed', 'found_location']"
   ]
  },
  {
   "cell_type": "code",
   "execution_count": null,
   "metadata": {},
   "outputs": [],
   "source": [
    "#Lets specify our Y for now:\n",
    "x = num_feats + cat_feats + str_feats\n",
    "y = 'rehomed_in_30_days'"
   ]
  },
  {
   "cell_type": "code",
   "execution_count": null,
   "metadata": {},
   "outputs": [],
   "source": [
    "train_data, test_data = train_test_split(merged_df, test_size=0.2, shuffle=True, random_state=1)\n",
    "\n",
    "#From the test data further split into validation (we use throughout process) & test (use only at end)\n",
    "val_data, test_data = train_test_split(test_data, test_size=0.5, shuffle=True, random_state=1)\n"
   ]
  },
  {
   "cell_type": "markdown",
   "metadata": {},
   "source": [
    "Let's ensure the training and test data have an equal size amount of outcomes to train over."
   ]
  },
  {
   "cell_type": "code",
   "execution_count": null,
   "metadata": {},
   "outputs": [],
   "source": [
    "outcome_0_train = train_data[train_data[y] == 0]\n",
    "outcome_1_train = train_data[train_data[y] == 1]\n",
    "\n",
    "print(f'Class 0 in Training proportion is: {len(outcome_0_train)}')\n",
    "print(f'Class 1 in Training proportion is: {len(outcome_1_train)}')\n",
    "\n",
    "outcome_0_test = test_data[test_data[y] == 0]\n",
    "outcome_1_test = test_data[test_data[y] == 1]\n",
    "\n",
    "print(f'Class 0 in Testing proportion is:{len(outcome_0_test)}')\n",
    "print(f'Class 1 in Testing proportion is:{len(outcome_1_test)}')\n"
   ]
  },
  {
   "cell_type": "code",
   "execution_count": null,
   "metadata": {},
   "outputs": [],
   "source": [
    "upsampled_class_1_no = outcome_1_train.sample(n=len(outcome_0_train), replace=True, random_state=1)\n",
    "train_data = pd.concat([outcome_0_train, upsampled_class_1_no])\n",
    "train_data = train_data.sample(frac=1).reset_index(drop=True)\n",
    "\n",
    "outcome_0_train = train_data[train_data[y] == 0]\n",
    "outcome_1_train = train_data[train_data[y] == 1]\n",
    "\n",
    "print(f'Class 0 in Training proportion is: {len(outcome_0_train)}')\n",
    "print(f'Class 1 in Training proportion is: {len(outcome_1_train)}')\n"
   ]
  },
  {
   "cell_type": "markdown",
   "metadata": {},
   "source": [
    "## Process Data + Build Pipline\n",
    "\n",
    "Below we will process our data (transform categorical into dummies and vectorize text data), then create a pipeline that can take in any new data and work it into our models seamlessly. \n",
    "\n",
    "For numerical values we'll: \n",
    "1. Impute any missing values with the mean (we saw very early on not many age's were missing, so a simple imputation will work well)\n",
    "2. Standardize values (for non-tree models)\n",
    "\n",
    "For categorical we'll:\n",
    "1. Impute any missing with a unique categorical value (missing column = 1)\n",
    "2. Transform into dummies with onehotencoder.\n",
    "\n",
    "For Strings we'll:\n",
    "1. Vectorize (just like creating dummies that equal 1 if the word exist in the row)\n"
   ]
  },
  {
   "cell_type": "markdown",
   "metadata": {},
   "source": []
  },
  {
   "cell_type": "code",
   "execution_count": 57,
   "metadata": {},
   "outputs": [],
   "source": [
    "num_pipe_tree = Pipeline([\n",
    "    ('num_tree_imputer', SimpleImputer(strategy='mean'))\n",
    "    ])\n",
    "\n",
    "num_pipe = Pipeline([\n",
    "    ('num_imputer', SimpleImputer(strategy='mean')),\n",
    "    ('standardize', StandardScaler())\n",
    "                     ])\n",
    "\n",
    "cat_pipe = Pipeline([\n",
    "    ('cat_imputer', SimpleImputer(strategy='constant', \n",
    "                                  fill_value='missing')),\n",
    "    ('coder',OneHotEncoder(handle_unknown='ignore'))\n",
    "                     ])\n",
    "\n",
    "\n",
    "text_pipe_name = Pipeline([\n",
    "    ('text_vect_name', CountVectorizer(binary=True, max_features=50))\n",
    "    ])\n",
    "text_pipe_location = Pipeline([\n",
    "    ('text_vect_name', CountVectorizer(binary=True, max_features=150))\n",
    "    ])\n",
    "text_pipe_breed = Pipeline([\n",
    "    ('text_vect_name', CountVectorizer(binary=True))\n",
    "    ])\n",
    "text_pipe_color = Pipeline([\n",
    "    ('text_vect_name', CountVectorizer(binary=True,max_features=50) )\n",
    "    ])\n",
    "\n",
    "\n",
    "#Put all into a single transformer\n",
    "tree_transformer = ColumnTransformer([\n",
    "    ('numerical_transform', num_pipe_tree, num_feats),\n",
    "    ('categorical_transform', cat_pipe, cat_feats),\n",
    "    ('text_transform_name', text_pipe_name, str_feats[0]),\n",
    "    ('text_transform_color', text_pipe_color, str_feats[1]),\n",
    "    ('text_transform_breed', text_pipe_breed, str_feats[2]),\n",
    "    ('text_transform_loc', text_pipe_location, str_feats[3])\n",
    "    \n",
    "])\n",
    "\n",
    "logit_transformer = ColumnTransformer([\n",
    "    ('numerical_transform', num_pipe, num_feats),\n",
    "    ('categorical_transform', cat_pipe, cat_feats),\n",
    "    ('text_transform_name', text_pipe_name, str_feats[0]),\n",
    "    ('text_transform_color', text_pipe_color, str_feats[1]),\n",
    "    ('text_transform_breed', text_pipe_breed, str_feats[2]),\n",
    "    ('text_transform_loc', text_pipe_location, str_feats[3])\n",
    "])\n",
    "\n"
   ]
  },
  {
   "cell_type": "markdown",
   "metadata": {},
   "source": [
    "### Specify Models to Run"
   ]
  },
  {
   "cell_type": "code",
   "execution_count": 58,
   "metadata": {},
   "outputs": [
    {
     "name": "stdout",
     "output_type": "stream",
     "text": [
      "Datasets shapes before processing:  (113004, 10) (13632, 10) (13633, 10)\n",
      "Datasets shapes after processing:  (113004, 665) (13632, 665) (13633, 665)\n"
     ]
    }
   ],
   "source": [
    "# Get train data to train the network\n",
    "X_train = train_data[x]\n",
    "y_train = train_data[y]\n",
    "\n",
    "# Get validation data to validate the network \n",
    "X_val = val_data[x]\n",
    "y_val = val_data[y]\n",
    "\n",
    "# Get test data to test the network\n",
    "X_test = test_data[x]\n",
    "y_test = test_data[y]\n",
    "\n",
    "print('Datasets shapes before processing: ', X_train.shape, X_val.shape, X_test.shape)\n",
    "\n",
    "a = tree_transformer.fit_transform(X_train)\n",
    "b = tree_transformer.transform(X_val)\n",
    "c = tree_transformer.transform(X_test)\n",
    "\n",
    "print('Datasets shapes after processing: ', a.shape, b.shape, c.shape)"
   ]
  },
  {
   "cell_type": "code",
   "execution_count": 67,
   "metadata": {},
   "outputs": [],
   "source": [
    "#Classic Tree\n",
    "classic_tree = DecisionTreeClassifier(random_state=1)\n",
    "classic = Pipeline([\n",
    "    (\"preprocessor\", tree_transformer), \n",
    "     (\"classic_tree\", classic_tree)\n",
    "])\n",
    "\n",
    "#Random Tree\n",
    "rfc_tree = RandomForestClassifier(random_state=1)\n",
    "rfc = Pipeline([\n",
    "    (\"preprocessor\", tree_transformer), \n",
    "     (\"rfc_tree\", rfc_tree)\n",
    "])\n",
    "\n",
    "#log\n",
    "log = Pipeline([\n",
    "    (\"preprocessor\", logit_transformer), \n",
    "     (\"log\", LogisticRegression(max_iter=1000000000000))\n",
    "])\n",
    "\n",
    "#regularized log\n",
    "log_l2_pipe = Pipeline([\n",
    "    (\"preprocessor\", logit_transformer), \n",
    "     (\"log\", LogisticRegression(penalty='l2',\n",
    "                            solver='saga',\n",
    "                            C=.01,\n",
    "                            max_iter=1000))])\n"
   ]
  },
  {
   "cell_type": "code",
   "execution_count": 68,
   "metadata": {},
   "outputs": [
    {
     "data": {
      "text/html": [
       "<style>#sk-ca957c8d-8d79-4d86-91c8-3381778ab1f1 {color: black;background-color: white;}#sk-ca957c8d-8d79-4d86-91c8-3381778ab1f1 pre{padding: 0;}#sk-ca957c8d-8d79-4d86-91c8-3381778ab1f1 div.sk-toggleable {background-color: white;}#sk-ca957c8d-8d79-4d86-91c8-3381778ab1f1 label.sk-toggleable__label {cursor: pointer;display: block;width: 100%;margin-bottom: 0;padding: 0.2em 0.3em;box-sizing: border-box;text-align: center;}#sk-ca957c8d-8d79-4d86-91c8-3381778ab1f1 div.sk-toggleable__content {max-height: 0;max-width: 0;overflow: hidden;text-align: left;background-color: #f0f8ff;}#sk-ca957c8d-8d79-4d86-91c8-3381778ab1f1 div.sk-toggleable__content pre {margin: 0.2em;color: black;border-radius: 0.25em;background-color: #f0f8ff;}#sk-ca957c8d-8d79-4d86-91c8-3381778ab1f1 input.sk-toggleable__control:checked~div.sk-toggleable__content {max-height: 200px;max-width: 100%;overflow: auto;}#sk-ca957c8d-8d79-4d86-91c8-3381778ab1f1 div.sk-estimator input.sk-toggleable__control:checked~label.sk-toggleable__label {background-color: #d4ebff;}#sk-ca957c8d-8d79-4d86-91c8-3381778ab1f1 div.sk-label input.sk-toggleable__control:checked~label.sk-toggleable__label {background-color: #d4ebff;}#sk-ca957c8d-8d79-4d86-91c8-3381778ab1f1 input.sk-hidden--visually {border: 0;clip: rect(1px 1px 1px 1px);clip: rect(1px, 1px, 1px, 1px);height: 1px;margin: -1px;overflow: hidden;padding: 0;position: absolute;width: 1px;}#sk-ca957c8d-8d79-4d86-91c8-3381778ab1f1 div.sk-estimator {font-family: monospace;background-color: #f0f8ff;margin: 0.25em 0.25em;border: 1px dotted black;border-radius: 0.25em;box-sizing: border-box;}#sk-ca957c8d-8d79-4d86-91c8-3381778ab1f1 div.sk-estimator:hover {background-color: #d4ebff;}#sk-ca957c8d-8d79-4d86-91c8-3381778ab1f1 div.sk-parallel-item::after {content: \"\";width: 100%;border-bottom: 1px solid gray;flex-grow: 1;}#sk-ca957c8d-8d79-4d86-91c8-3381778ab1f1 div.sk-label:hover label.sk-toggleable__label {background-color: #d4ebff;}#sk-ca957c8d-8d79-4d86-91c8-3381778ab1f1 div.sk-serial::before {content: \"\";position: absolute;border-left: 1px solid gray;box-sizing: border-box;top: 2em;bottom: 0;left: 50%;}#sk-ca957c8d-8d79-4d86-91c8-3381778ab1f1 div.sk-serial {display: flex;flex-direction: column;align-items: center;background-color: white;}#sk-ca957c8d-8d79-4d86-91c8-3381778ab1f1 div.sk-item {z-index: 1;}#sk-ca957c8d-8d79-4d86-91c8-3381778ab1f1 div.sk-parallel {display: flex;align-items: stretch;justify-content: center;background-color: white;}#sk-ca957c8d-8d79-4d86-91c8-3381778ab1f1 div.sk-parallel-item {display: flex;flex-direction: column;position: relative;background-color: white;}#sk-ca957c8d-8d79-4d86-91c8-3381778ab1f1 div.sk-parallel-item:first-child::after {align-self: flex-end;width: 50%;}#sk-ca957c8d-8d79-4d86-91c8-3381778ab1f1 div.sk-parallel-item:last-child::after {align-self: flex-start;width: 50%;}#sk-ca957c8d-8d79-4d86-91c8-3381778ab1f1 div.sk-parallel-item:only-child::after {width: 0;}#sk-ca957c8d-8d79-4d86-91c8-3381778ab1f1 div.sk-dashed-wrapped {border: 1px dashed gray;margin: 0.2em;box-sizing: border-box;padding-bottom: 0.1em;background-color: white;position: relative;}#sk-ca957c8d-8d79-4d86-91c8-3381778ab1f1 div.sk-label label {font-family: monospace;font-weight: bold;background-color: white;display: inline-block;line-height: 1.2em;}#sk-ca957c8d-8d79-4d86-91c8-3381778ab1f1 div.sk-label-container {position: relative;z-index: 2;text-align: center;}#sk-ca957c8d-8d79-4d86-91c8-3381778ab1f1 div.sk-container {display: inline-block;position: relative;}</style><div id=\"sk-ca957c8d-8d79-4d86-91c8-3381778ab1f1\" class\"sk-top-container\"><div class=\"sk-container\"><div class=\"sk-item sk-dashed-wrapped\"><div class=\"sk-label-container\"><div class=\"sk-label sk-toggleable\"><input class=\"sk-toggleable__control sk-hidden--visually\" id=\"a0f1b96f-a15c-4dc1-8eee-7c3ed26f6db3\" type=\"checkbox\" ><label class=\"sk-toggleable__label\" for=\"a0f1b96f-a15c-4dc1-8eee-7c3ed26f6db3\">Pipeline</label><div class=\"sk-toggleable__content\"><pre>Pipeline(steps=[('preprocessor',\n",
       "                 ColumnTransformer(transformers=[('numerical_transform',\n",
       "                                                  Pipeline(steps=[('num_tree_imputer',\n",
       "                                                                   SimpleImputer())]),\n",
       "                                                  ['age']),\n",
       "                                                 ('categorical_transform',\n",
       "                                                  Pipeline(steps=[('cat_imputer',\n",
       "                                                                   SimpleImputer(fill_value='missing',\n",
       "                                                                                 strategy='constant')),\n",
       "                                                                  ('coder',\n",
       "                                                                   OneHotEncoder(handle_unknown='ignore'))]),\n",
       "                                                  ['animal_type',\n",
       "                                                   'intake_month',\n",
       "                                                   'sex_...\n",
       "                                                  Pipeline(steps=[('text_vect_name',\n",
       "                                                                   CountVectorizer(binary=True,\n",
       "                                                                                   max_features=50))]),\n",
       "                                                  'color'),\n",
       "                                                 ('text_transform_breed',\n",
       "                                                  Pipeline(steps=[('text_vect_name',\n",
       "                                                                   CountVectorizer(binary=True))]),\n",
       "                                                  'breed'),\n",
       "                                                 ('text_transform_loc',\n",
       "                                                  Pipeline(steps=[('text_vect_name',\n",
       "                                                                   CountVectorizer(binary=True,\n",
       "                                                                                   max_features=150))]),\n",
       "                                                  'found_location')])),\n",
       "                ('rfc_tree', RandomForestClassifier(random_state=1))])</pre></div></div></div><div class=\"sk-serial\"><div class=\"sk-item sk-dashed-wrapped\"><div class=\"sk-label-container\"><div class=\"sk-label sk-toggleable\"><input class=\"sk-toggleable__control sk-hidden--visually\" id=\"c03d02e0-743d-4e52-aaeb-87b622036f6f\" type=\"checkbox\" ><label class=\"sk-toggleable__label\" for=\"c03d02e0-743d-4e52-aaeb-87b622036f6f\">preprocessor: ColumnTransformer</label><div class=\"sk-toggleable__content\"><pre>ColumnTransformer(transformers=[('numerical_transform',\n",
       "                                 Pipeline(steps=[('num_tree_imputer',\n",
       "                                                  SimpleImputer())]),\n",
       "                                 ['age']),\n",
       "                                ('categorical_transform',\n",
       "                                 Pipeline(steps=[('cat_imputer',\n",
       "                                                  SimpleImputer(fill_value='missing',\n",
       "                                                                strategy='constant')),\n",
       "                                                 ('coder',\n",
       "                                                  OneHotEncoder(handle_unknown='ignore'))]),\n",
       "                                 ['animal_type', 'intake_month',\n",
       "                                  'sex_upon_intake', 'intake_condition',...\n",
       "                                                                  max_features=50))]),\n",
       "                                 'name'),\n",
       "                                ('text_transform_color',\n",
       "                                 Pipeline(steps=[('text_vect_name',\n",
       "                                                  CountVectorizer(binary=True,\n",
       "                                                                  max_features=50))]),\n",
       "                                 'color'),\n",
       "                                ('text_transform_breed',\n",
       "                                 Pipeline(steps=[('text_vect_name',\n",
       "                                                  CountVectorizer(binary=True))]),\n",
       "                                 'breed'),\n",
       "                                ('text_transform_loc',\n",
       "                                 Pipeline(steps=[('text_vect_name',\n",
       "                                                  CountVectorizer(binary=True,\n",
       "                                                                  max_features=150))]),\n",
       "                                 'found_location')])</pre></div></div></div><div class=\"sk-parallel\"><div class=\"sk-parallel-item\"><div class=\"sk-item\"><div class=\"sk-label-container\"><div class=\"sk-label sk-toggleable\"><input class=\"sk-toggleable__control sk-hidden--visually\" id=\"cee3a457-aff5-44d5-b298-20a3d314dc56\" type=\"checkbox\" ><label class=\"sk-toggleable__label\" for=\"cee3a457-aff5-44d5-b298-20a3d314dc56\">numerical_transform</label><div class=\"sk-toggleable__content\"><pre>['age']</pre></div></div></div><div class=\"sk-serial\"><div class=\"sk-item\"><div class=\"sk-serial\"><div class=\"sk-item\"><div class=\"sk-estimator sk-toggleable\"><input class=\"sk-toggleable__control sk-hidden--visually\" id=\"d9796f33-d817-4249-9dcf-cd1859c433dd\" type=\"checkbox\" ><label class=\"sk-toggleable__label\" for=\"d9796f33-d817-4249-9dcf-cd1859c433dd\">SimpleImputer</label><div class=\"sk-toggleable__content\"><pre>SimpleImputer()</pre></div></div></div></div></div></div></div></div><div class=\"sk-parallel-item\"><div class=\"sk-item\"><div class=\"sk-label-container\"><div class=\"sk-label sk-toggleable\"><input class=\"sk-toggleable__control sk-hidden--visually\" id=\"845f5767-0aaf-4e47-85c3-0034ced7786e\" type=\"checkbox\" ><label class=\"sk-toggleable__label\" for=\"845f5767-0aaf-4e47-85c3-0034ced7786e\">categorical_transform</label><div class=\"sk-toggleable__content\"><pre>['animal_type', 'intake_month', 'sex_upon_intake', 'intake_condition', 'purebred']</pre></div></div></div><div class=\"sk-serial\"><div class=\"sk-item\"><div class=\"sk-serial\"><div class=\"sk-item\"><div class=\"sk-estimator sk-toggleable\"><input class=\"sk-toggleable__control sk-hidden--visually\" id=\"f8c33287-defa-45bb-893a-a7953ba714f2\" type=\"checkbox\" ><label class=\"sk-toggleable__label\" for=\"f8c33287-defa-45bb-893a-a7953ba714f2\">SimpleImputer</label><div class=\"sk-toggleable__content\"><pre>SimpleImputer(fill_value='missing', strategy='constant')</pre></div></div></div><div class=\"sk-item\"><div class=\"sk-estimator sk-toggleable\"><input class=\"sk-toggleable__control sk-hidden--visually\" id=\"4187ffc6-985d-41e1-bb12-8d2a86709739\" type=\"checkbox\" ><label class=\"sk-toggleable__label\" for=\"4187ffc6-985d-41e1-bb12-8d2a86709739\">OneHotEncoder</label><div class=\"sk-toggleable__content\"><pre>OneHotEncoder(handle_unknown='ignore')</pre></div></div></div></div></div></div></div></div><div class=\"sk-parallel-item\"><div class=\"sk-item\"><div class=\"sk-label-container\"><div class=\"sk-label sk-toggleable\"><input class=\"sk-toggleable__control sk-hidden--visually\" id=\"a47ebbd1-4e85-4d1a-af01-d5fe5717ebfb\" type=\"checkbox\" ><label class=\"sk-toggleable__label\" for=\"a47ebbd1-4e85-4d1a-af01-d5fe5717ebfb\">text_transform_name</label><div class=\"sk-toggleable__content\"><pre>name</pre></div></div></div><div class=\"sk-serial\"><div class=\"sk-item\"><div class=\"sk-serial\"><div class=\"sk-item\"><div class=\"sk-estimator sk-toggleable\"><input class=\"sk-toggleable__control sk-hidden--visually\" id=\"60e379dc-059a-40ac-ae3b-eded6207383c\" type=\"checkbox\" ><label class=\"sk-toggleable__label\" for=\"60e379dc-059a-40ac-ae3b-eded6207383c\">CountVectorizer</label><div class=\"sk-toggleable__content\"><pre>CountVectorizer(binary=True, max_features=50)</pre></div></div></div></div></div></div></div></div><div class=\"sk-parallel-item\"><div class=\"sk-item\"><div class=\"sk-label-container\"><div class=\"sk-label sk-toggleable\"><input class=\"sk-toggleable__control sk-hidden--visually\" id=\"0e2fad86-c061-4d8b-9b63-59288015d782\" type=\"checkbox\" ><label class=\"sk-toggleable__label\" for=\"0e2fad86-c061-4d8b-9b63-59288015d782\">text_transform_color</label><div class=\"sk-toggleable__content\"><pre>color</pre></div></div></div><div class=\"sk-serial\"><div class=\"sk-item\"><div class=\"sk-serial\"><div class=\"sk-item\"><div class=\"sk-estimator sk-toggleable\"><input class=\"sk-toggleable__control sk-hidden--visually\" id=\"ee88316a-95bf-4b89-b13d-59b309aeaa5a\" type=\"checkbox\" ><label class=\"sk-toggleable__label\" for=\"ee88316a-95bf-4b89-b13d-59b309aeaa5a\">CountVectorizer</label><div class=\"sk-toggleable__content\"><pre>CountVectorizer(binary=True, max_features=50)</pre></div></div></div></div></div></div></div></div><div class=\"sk-parallel-item\"><div class=\"sk-item\"><div class=\"sk-label-container\"><div class=\"sk-label sk-toggleable\"><input class=\"sk-toggleable__control sk-hidden--visually\" id=\"aac9f7e3-75d7-4485-93e4-9b9819a82d2b\" type=\"checkbox\" ><label class=\"sk-toggleable__label\" for=\"aac9f7e3-75d7-4485-93e4-9b9819a82d2b\">text_transform_breed</label><div class=\"sk-toggleable__content\"><pre>breed</pre></div></div></div><div class=\"sk-serial\"><div class=\"sk-item\"><div class=\"sk-serial\"><div class=\"sk-item\"><div class=\"sk-estimator sk-toggleable\"><input class=\"sk-toggleable__control sk-hidden--visually\" id=\"ed8f226e-a5ff-4459-b30f-d205ecbf935c\" type=\"checkbox\" ><label class=\"sk-toggleable__label\" for=\"ed8f226e-a5ff-4459-b30f-d205ecbf935c\">CountVectorizer</label><div class=\"sk-toggleable__content\"><pre>CountVectorizer(binary=True)</pre></div></div></div></div></div></div></div></div><div class=\"sk-parallel-item\"><div class=\"sk-item\"><div class=\"sk-label-container\"><div class=\"sk-label sk-toggleable\"><input class=\"sk-toggleable__control sk-hidden--visually\" id=\"3b8238db-2e83-4453-b2f2-9c659313180b\" type=\"checkbox\" ><label class=\"sk-toggleable__label\" for=\"3b8238db-2e83-4453-b2f2-9c659313180b\">text_transform_loc</label><div class=\"sk-toggleable__content\"><pre>found_location</pre></div></div></div><div class=\"sk-serial\"><div class=\"sk-item\"><div class=\"sk-serial\"><div class=\"sk-item\"><div class=\"sk-estimator sk-toggleable\"><input class=\"sk-toggleable__control sk-hidden--visually\" id=\"9564b011-70fc-4f58-a34a-e24c213ea257\" type=\"checkbox\" ><label class=\"sk-toggleable__label\" for=\"9564b011-70fc-4f58-a34a-e24c213ea257\">CountVectorizer</label><div class=\"sk-toggleable__content\"><pre>CountVectorizer(binary=True, max_features=150)</pre></div></div></div></div></div></div></div></div></div></div><div class=\"sk-item\"><div class=\"sk-estimator sk-toggleable\"><input class=\"sk-toggleable__control sk-hidden--visually\" id=\"7fbb93c3-0cdb-4731-8e48-e858983aa21a\" type=\"checkbox\" ><label class=\"sk-toggleable__label\" for=\"7fbb93c3-0cdb-4731-8e48-e858983aa21a\">RandomForestClassifier</label><div class=\"sk-toggleable__content\"><pre>RandomForestClassifier(random_state=1)</pre></div></div></div></div></div></div></div>"
      ],
      "text/plain": [
       "Pipeline(steps=[('preprocessor',\n",
       "                 ColumnTransformer(transformers=[('numerical_transform',\n",
       "                                                  Pipeline(steps=[('num_tree_imputer',\n",
       "                                                                   SimpleImputer())]),\n",
       "                                                  ['age']),\n",
       "                                                 ('categorical_transform',\n",
       "                                                  Pipeline(steps=[('cat_imputer',\n",
       "                                                                   SimpleImputer(fill_value='missing',\n",
       "                                                                                 strategy='constant')),\n",
       "                                                                  ('coder',\n",
       "                                                                   OneHotEncoder(handle_unknown='ignore'))]),\n",
       "                                                  ['animal_type',\n",
       "                                                   'intake_month',\n",
       "                                                   'sex_...\n",
       "                                                  Pipeline(steps=[('text_vect_name',\n",
       "                                                                   CountVectorizer(binary=True,\n",
       "                                                                                   max_features=50))]),\n",
       "                                                  'color'),\n",
       "                                                 ('text_transform_breed',\n",
       "                                                  Pipeline(steps=[('text_vect_name',\n",
       "                                                                   CountVectorizer(binary=True))]),\n",
       "                                                  'breed'),\n",
       "                                                 ('text_transform_loc',\n",
       "                                                  Pipeline(steps=[('text_vect_name',\n",
       "                                                                   CountVectorizer(binary=True,\n",
       "                                                                                   max_features=150))]),\n",
       "                                                  'found_location')])),\n",
       "                ('rfc_tree', RandomForestClassifier(random_state=1))])"
      ]
     },
     "execution_count": 68,
     "metadata": {},
     "output_type": "execute_result"
    }
   ],
   "source": [
    "from sklearn import set_config\n",
    "set_config(display='diagram')\n",
    "rfc\n"
   ]
  },
  {
   "cell_type": "markdown",
   "metadata": {},
   "source": [
    "## Fit & Run Naive Models"
   ]
  },
  {
   "cell_type": "code",
   "execution_count": 69,
   "metadata": {},
   "outputs": [
    {
     "data": {
      "text/html": [
       "<style>#sk-9e01ae35-bf30-4c5b-adc7-f2cf905eda38 {color: black;background-color: white;}#sk-9e01ae35-bf30-4c5b-adc7-f2cf905eda38 pre{padding: 0;}#sk-9e01ae35-bf30-4c5b-adc7-f2cf905eda38 div.sk-toggleable {background-color: white;}#sk-9e01ae35-bf30-4c5b-adc7-f2cf905eda38 label.sk-toggleable__label {cursor: pointer;display: block;width: 100%;margin-bottom: 0;padding: 0.2em 0.3em;box-sizing: border-box;text-align: center;}#sk-9e01ae35-bf30-4c5b-adc7-f2cf905eda38 div.sk-toggleable__content {max-height: 0;max-width: 0;overflow: hidden;text-align: left;background-color: #f0f8ff;}#sk-9e01ae35-bf30-4c5b-adc7-f2cf905eda38 div.sk-toggleable__content pre {margin: 0.2em;color: black;border-radius: 0.25em;background-color: #f0f8ff;}#sk-9e01ae35-bf30-4c5b-adc7-f2cf905eda38 input.sk-toggleable__control:checked~div.sk-toggleable__content {max-height: 200px;max-width: 100%;overflow: auto;}#sk-9e01ae35-bf30-4c5b-adc7-f2cf905eda38 div.sk-estimator input.sk-toggleable__control:checked~label.sk-toggleable__label {background-color: #d4ebff;}#sk-9e01ae35-bf30-4c5b-adc7-f2cf905eda38 div.sk-label input.sk-toggleable__control:checked~label.sk-toggleable__label {background-color: #d4ebff;}#sk-9e01ae35-bf30-4c5b-adc7-f2cf905eda38 input.sk-hidden--visually {border: 0;clip: rect(1px 1px 1px 1px);clip: rect(1px, 1px, 1px, 1px);height: 1px;margin: -1px;overflow: hidden;padding: 0;position: absolute;width: 1px;}#sk-9e01ae35-bf30-4c5b-adc7-f2cf905eda38 div.sk-estimator {font-family: monospace;background-color: #f0f8ff;margin: 0.25em 0.25em;border: 1px dotted black;border-radius: 0.25em;box-sizing: border-box;}#sk-9e01ae35-bf30-4c5b-adc7-f2cf905eda38 div.sk-estimator:hover {background-color: #d4ebff;}#sk-9e01ae35-bf30-4c5b-adc7-f2cf905eda38 div.sk-parallel-item::after {content: \"\";width: 100%;border-bottom: 1px solid gray;flex-grow: 1;}#sk-9e01ae35-bf30-4c5b-adc7-f2cf905eda38 div.sk-label:hover label.sk-toggleable__label {background-color: #d4ebff;}#sk-9e01ae35-bf30-4c5b-adc7-f2cf905eda38 div.sk-serial::before {content: \"\";position: absolute;border-left: 1px solid gray;box-sizing: border-box;top: 2em;bottom: 0;left: 50%;}#sk-9e01ae35-bf30-4c5b-adc7-f2cf905eda38 div.sk-serial {display: flex;flex-direction: column;align-items: center;background-color: white;}#sk-9e01ae35-bf30-4c5b-adc7-f2cf905eda38 div.sk-item {z-index: 1;}#sk-9e01ae35-bf30-4c5b-adc7-f2cf905eda38 div.sk-parallel {display: flex;align-items: stretch;justify-content: center;background-color: white;}#sk-9e01ae35-bf30-4c5b-adc7-f2cf905eda38 div.sk-parallel-item {display: flex;flex-direction: column;position: relative;background-color: white;}#sk-9e01ae35-bf30-4c5b-adc7-f2cf905eda38 div.sk-parallel-item:first-child::after {align-self: flex-end;width: 50%;}#sk-9e01ae35-bf30-4c5b-adc7-f2cf905eda38 div.sk-parallel-item:last-child::after {align-self: flex-start;width: 50%;}#sk-9e01ae35-bf30-4c5b-adc7-f2cf905eda38 div.sk-parallel-item:only-child::after {width: 0;}#sk-9e01ae35-bf30-4c5b-adc7-f2cf905eda38 div.sk-dashed-wrapped {border: 1px dashed gray;margin: 0.2em;box-sizing: border-box;padding-bottom: 0.1em;background-color: white;position: relative;}#sk-9e01ae35-bf30-4c5b-adc7-f2cf905eda38 div.sk-label label {font-family: monospace;font-weight: bold;background-color: white;display: inline-block;line-height: 1.2em;}#sk-9e01ae35-bf30-4c5b-adc7-f2cf905eda38 div.sk-label-container {position: relative;z-index: 2;text-align: center;}#sk-9e01ae35-bf30-4c5b-adc7-f2cf905eda38 div.sk-container {display: inline-block;position: relative;}</style><div id=\"sk-9e01ae35-bf30-4c5b-adc7-f2cf905eda38\" class\"sk-top-container\"><div class=\"sk-container\"><div class=\"sk-item sk-dashed-wrapped\"><div class=\"sk-label-container\"><div class=\"sk-label sk-toggleable\"><input class=\"sk-toggleable__control sk-hidden--visually\" id=\"03250ea0-3a45-4fdc-b459-af9c50557ff7\" type=\"checkbox\" ><label class=\"sk-toggleable__label\" for=\"03250ea0-3a45-4fdc-b459-af9c50557ff7\">Pipeline</label><div class=\"sk-toggleable__content\"><pre>Pipeline(steps=[('preprocessor',\n",
       "                 ColumnTransformer(transformers=[('numerical_transform',\n",
       "                                                  Pipeline(steps=[('num_imputer',\n",
       "                                                                   SimpleImputer()),\n",
       "                                                                  ('standardize',\n",
       "                                                                   StandardScaler())]),\n",
       "                                                  ['age']),\n",
       "                                                 ('categorical_transform',\n",
       "                                                  Pipeline(steps=[('cat_imputer',\n",
       "                                                                   SimpleImputer(fill_value='missing',\n",
       "                                                                                 strategy='constant')),\n",
       "                                                                  ('coder',\n",
       "                                                                   OneHotEncoder(handle_unknown='ignore'))]),\n",
       "                                                  ['anima...\n",
       "                                                  Pipeline(steps=[('text_vect_name',\n",
       "                                                                   CountVectorizer(binary=True,\n",
       "                                                                                   max_features=50))]),\n",
       "                                                  'color'),\n",
       "                                                 ('text_transform_breed',\n",
       "                                                  Pipeline(steps=[('text_vect_name',\n",
       "                                                                   CountVectorizer(binary=True))]),\n",
       "                                                  'breed'),\n",
       "                                                 ('text_transform_loc',\n",
       "                                                  Pipeline(steps=[('text_vect_name',\n",
       "                                                                   CountVectorizer(binary=True,\n",
       "                                                                                   max_features=150))]),\n",
       "                                                  'found_location')])),\n",
       "                ('log',\n",
       "                 LogisticRegression(C=0.01, max_iter=1000, solver='saga'))])</pre></div></div></div><div class=\"sk-serial\"><div class=\"sk-item sk-dashed-wrapped\"><div class=\"sk-label-container\"><div class=\"sk-label sk-toggleable\"><input class=\"sk-toggleable__control sk-hidden--visually\" id=\"3eda7791-ad55-4a0b-9106-f24d781532cf\" type=\"checkbox\" ><label class=\"sk-toggleable__label\" for=\"3eda7791-ad55-4a0b-9106-f24d781532cf\">preprocessor: ColumnTransformer</label><div class=\"sk-toggleable__content\"><pre>ColumnTransformer(transformers=[('numerical_transform',\n",
       "                                 Pipeline(steps=[('num_imputer',\n",
       "                                                  SimpleImputer()),\n",
       "                                                 ('standardize',\n",
       "                                                  StandardScaler())]),\n",
       "                                 ['age']),\n",
       "                                ('categorical_transform',\n",
       "                                 Pipeline(steps=[('cat_imputer',\n",
       "                                                  SimpleImputer(fill_value='missing',\n",
       "                                                                strategy='constant')),\n",
       "                                                 ('coder',\n",
       "                                                  OneHotEncoder(handle_unknown='ignore'))]),\n",
       "                                 ['animal_type', 'intake_month',\n",
       "                                  'sex_upon...\n",
       "                                                                  max_features=50))]),\n",
       "                                 'name'),\n",
       "                                ('text_transform_color',\n",
       "                                 Pipeline(steps=[('text_vect_name',\n",
       "                                                  CountVectorizer(binary=True,\n",
       "                                                                  max_features=50))]),\n",
       "                                 'color'),\n",
       "                                ('text_transform_breed',\n",
       "                                 Pipeline(steps=[('text_vect_name',\n",
       "                                                  CountVectorizer(binary=True))]),\n",
       "                                 'breed'),\n",
       "                                ('text_transform_loc',\n",
       "                                 Pipeline(steps=[('text_vect_name',\n",
       "                                                  CountVectorizer(binary=True,\n",
       "                                                                  max_features=150))]),\n",
       "                                 'found_location')])</pre></div></div></div><div class=\"sk-parallel\"><div class=\"sk-parallel-item\"><div class=\"sk-item\"><div class=\"sk-label-container\"><div class=\"sk-label sk-toggleable\"><input class=\"sk-toggleable__control sk-hidden--visually\" id=\"1301a9cb-bde6-46eb-aa84-9075f5e338be\" type=\"checkbox\" ><label class=\"sk-toggleable__label\" for=\"1301a9cb-bde6-46eb-aa84-9075f5e338be\">numerical_transform</label><div class=\"sk-toggleable__content\"><pre>['age']</pre></div></div></div><div class=\"sk-serial\"><div class=\"sk-item\"><div class=\"sk-serial\"><div class=\"sk-item\"><div class=\"sk-estimator sk-toggleable\"><input class=\"sk-toggleable__control sk-hidden--visually\" id=\"645de9e5-48ca-404d-9e46-44ef73126e0f\" type=\"checkbox\" ><label class=\"sk-toggleable__label\" for=\"645de9e5-48ca-404d-9e46-44ef73126e0f\">SimpleImputer</label><div class=\"sk-toggleable__content\"><pre>SimpleImputer()</pre></div></div></div><div class=\"sk-item\"><div class=\"sk-estimator sk-toggleable\"><input class=\"sk-toggleable__control sk-hidden--visually\" id=\"ce124082-49d9-4bdb-814c-9f81018c4fdd\" type=\"checkbox\" ><label class=\"sk-toggleable__label\" for=\"ce124082-49d9-4bdb-814c-9f81018c4fdd\">StandardScaler</label><div class=\"sk-toggleable__content\"><pre>StandardScaler()</pre></div></div></div></div></div></div></div></div><div class=\"sk-parallel-item\"><div class=\"sk-item\"><div class=\"sk-label-container\"><div class=\"sk-label sk-toggleable\"><input class=\"sk-toggleable__control sk-hidden--visually\" id=\"cb8e9a66-f622-468c-8160-bca49b17fb3c\" type=\"checkbox\" ><label class=\"sk-toggleable__label\" for=\"cb8e9a66-f622-468c-8160-bca49b17fb3c\">categorical_transform</label><div class=\"sk-toggleable__content\"><pre>['animal_type', 'intake_month', 'sex_upon_intake', 'intake_condition', 'purebred']</pre></div></div></div><div class=\"sk-serial\"><div class=\"sk-item\"><div class=\"sk-serial\"><div class=\"sk-item\"><div class=\"sk-estimator sk-toggleable\"><input class=\"sk-toggleable__control sk-hidden--visually\" id=\"5e8274d3-f17e-46d7-a178-03162e983bb1\" type=\"checkbox\" ><label class=\"sk-toggleable__label\" for=\"5e8274d3-f17e-46d7-a178-03162e983bb1\">SimpleImputer</label><div class=\"sk-toggleable__content\"><pre>SimpleImputer(fill_value='missing', strategy='constant')</pre></div></div></div><div class=\"sk-item\"><div class=\"sk-estimator sk-toggleable\"><input class=\"sk-toggleable__control sk-hidden--visually\" id=\"b16e3133-f8a1-41ab-a7ea-8db1feab1a75\" type=\"checkbox\" ><label class=\"sk-toggleable__label\" for=\"b16e3133-f8a1-41ab-a7ea-8db1feab1a75\">OneHotEncoder</label><div class=\"sk-toggleable__content\"><pre>OneHotEncoder(handle_unknown='ignore')</pre></div></div></div></div></div></div></div></div><div class=\"sk-parallel-item\"><div class=\"sk-item\"><div class=\"sk-label-container\"><div class=\"sk-label sk-toggleable\"><input class=\"sk-toggleable__control sk-hidden--visually\" id=\"9620f6a0-b3d3-4332-8c1b-b731ebe84529\" type=\"checkbox\" ><label class=\"sk-toggleable__label\" for=\"9620f6a0-b3d3-4332-8c1b-b731ebe84529\">text_transform_name</label><div class=\"sk-toggleable__content\"><pre>name</pre></div></div></div><div class=\"sk-serial\"><div class=\"sk-item\"><div class=\"sk-serial\"><div class=\"sk-item\"><div class=\"sk-estimator sk-toggleable\"><input class=\"sk-toggleable__control sk-hidden--visually\" id=\"03e7d89f-c810-4567-b965-6d9fbd2147ee\" type=\"checkbox\" ><label class=\"sk-toggleable__label\" for=\"03e7d89f-c810-4567-b965-6d9fbd2147ee\">CountVectorizer</label><div class=\"sk-toggleable__content\"><pre>CountVectorizer(binary=True, max_features=50)</pre></div></div></div></div></div></div></div></div><div class=\"sk-parallel-item\"><div class=\"sk-item\"><div class=\"sk-label-container\"><div class=\"sk-label sk-toggleable\"><input class=\"sk-toggleable__control sk-hidden--visually\" id=\"471d66dc-89c8-41b0-a597-34556984f0fb\" type=\"checkbox\" ><label class=\"sk-toggleable__label\" for=\"471d66dc-89c8-41b0-a597-34556984f0fb\">text_transform_color</label><div class=\"sk-toggleable__content\"><pre>color</pre></div></div></div><div class=\"sk-serial\"><div class=\"sk-item\"><div class=\"sk-serial\"><div class=\"sk-item\"><div class=\"sk-estimator sk-toggleable\"><input class=\"sk-toggleable__control sk-hidden--visually\" id=\"c7c77cc5-bb88-4914-9e6c-6dfa8dced468\" type=\"checkbox\" ><label class=\"sk-toggleable__label\" for=\"c7c77cc5-bb88-4914-9e6c-6dfa8dced468\">CountVectorizer</label><div class=\"sk-toggleable__content\"><pre>CountVectorizer(binary=True, max_features=50)</pre></div></div></div></div></div></div></div></div><div class=\"sk-parallel-item\"><div class=\"sk-item\"><div class=\"sk-label-container\"><div class=\"sk-label sk-toggleable\"><input class=\"sk-toggleable__control sk-hidden--visually\" id=\"ca924c8d-fe04-49d6-8857-037be1d01b93\" type=\"checkbox\" ><label class=\"sk-toggleable__label\" for=\"ca924c8d-fe04-49d6-8857-037be1d01b93\">text_transform_breed</label><div class=\"sk-toggleable__content\"><pre>breed</pre></div></div></div><div class=\"sk-serial\"><div class=\"sk-item\"><div class=\"sk-serial\"><div class=\"sk-item\"><div class=\"sk-estimator sk-toggleable\"><input class=\"sk-toggleable__control sk-hidden--visually\" id=\"1e236192-2464-4f88-8af0-2eee1a09ae55\" type=\"checkbox\" ><label class=\"sk-toggleable__label\" for=\"1e236192-2464-4f88-8af0-2eee1a09ae55\">CountVectorizer</label><div class=\"sk-toggleable__content\"><pre>CountVectorizer(binary=True)</pre></div></div></div></div></div></div></div></div><div class=\"sk-parallel-item\"><div class=\"sk-item\"><div class=\"sk-label-container\"><div class=\"sk-label sk-toggleable\"><input class=\"sk-toggleable__control sk-hidden--visually\" id=\"b1b1864a-52cd-4fc5-904c-3c00473afe79\" type=\"checkbox\" ><label class=\"sk-toggleable__label\" for=\"b1b1864a-52cd-4fc5-904c-3c00473afe79\">text_transform_loc</label><div class=\"sk-toggleable__content\"><pre>found_location</pre></div></div></div><div class=\"sk-serial\"><div class=\"sk-item\"><div class=\"sk-serial\"><div class=\"sk-item\"><div class=\"sk-estimator sk-toggleable\"><input class=\"sk-toggleable__control sk-hidden--visually\" id=\"41e44139-a85e-4a23-ae01-8a90881d87f2\" type=\"checkbox\" ><label class=\"sk-toggleable__label\" for=\"41e44139-a85e-4a23-ae01-8a90881d87f2\">CountVectorizer</label><div class=\"sk-toggleable__content\"><pre>CountVectorizer(binary=True, max_features=150)</pre></div></div></div></div></div></div></div></div></div></div><div class=\"sk-item\"><div class=\"sk-estimator sk-toggleable\"><input class=\"sk-toggleable__control sk-hidden--visually\" id=\"bb950cb4-cdf9-4df6-9800-9f3353555f83\" type=\"checkbox\" ><label class=\"sk-toggleable__label\" for=\"bb950cb4-cdf9-4df6-9800-9f3353555f83\">LogisticRegression</label><div class=\"sk-toggleable__content\"><pre>LogisticRegression(C=0.01, max_iter=1000, solver='saga')</pre></div></div></div></div></div></div></div>"
      ],
      "text/plain": [
       "Pipeline(steps=[('preprocessor',\n",
       "                 ColumnTransformer(transformers=[('numerical_transform',\n",
       "                                                  Pipeline(steps=[('num_imputer',\n",
       "                                                                   SimpleImputer()),\n",
       "                                                                  ('standardize',\n",
       "                                                                   StandardScaler())]),\n",
       "                                                  ['age']),\n",
       "                                                 ('categorical_transform',\n",
       "                                                  Pipeline(steps=[('cat_imputer',\n",
       "                                                                   SimpleImputer(fill_value='missing',\n",
       "                                                                                 strategy='constant')),\n",
       "                                                                  ('coder',\n",
       "                                                                   OneHotEncoder(handle_unknown='ignore'))]),\n",
       "                                                  ['anima...\n",
       "                                                  Pipeline(steps=[('text_vect_name',\n",
       "                                                                   CountVectorizer(binary=True,\n",
       "                                                                                   max_features=50))]),\n",
       "                                                  'color'),\n",
       "                                                 ('text_transform_breed',\n",
       "                                                  Pipeline(steps=[('text_vect_name',\n",
       "                                                                   CountVectorizer(binary=True))]),\n",
       "                                                  'breed'),\n",
       "                                                 ('text_transform_loc',\n",
       "                                                  Pipeline(steps=[('text_vect_name',\n",
       "                                                                   CountVectorizer(binary=True,\n",
       "                                                                                   max_features=150))]),\n",
       "                                                  'found_location')])),\n",
       "                ('log',\n",
       "                 LogisticRegression(C=0.01, max_iter=1000, solver='saga'))])"
      ]
     },
     "execution_count": 69,
     "metadata": {},
     "output_type": "execute_result"
    }
   ],
   "source": [
    "rfc.fit(X_train, y_train)\n",
    "classic.fit(X_train, y_train)\n",
    "log.fit(X_train, y_train)\n",
    "log_l2_pipe.fit(X_train, y_train)"
   ]
  },
  {
   "cell_type": "code",
   "execution_count": 71,
   "metadata": {},
   "outputs": [
    {
     "name": "stdout",
     "output_type": "stream",
     "text": [
      "RFC TREE:               precision    recall  f1-score   support\n",
      "\n",
      "           0       0.73      0.74      0.74      6950\n",
      "           1       0.73      0.72      0.72      6682\n",
      "\n",
      "    accuracy                           0.73     13632\n",
      "   macro avg       0.73      0.73      0.73     13632\n",
      "weighted avg       0.73      0.73      0.73     13632\n",
      "\n",
      "DECISION TREE:               precision    recall  f1-score   support\n",
      "\n",
      "           0       0.66      0.75      0.70      6950\n",
      "           1       0.70      0.61      0.65      6682\n",
      "\n",
      "    accuracy                           0.68     13632\n",
      "   macro avg       0.68      0.68      0.68     13632\n",
      "weighted avg       0.68      0.68      0.68     13632\n",
      "\n",
      "LOG:               precision    recall  f1-score   support\n",
      "\n",
      "           0       0.73      0.66      0.69      6950\n",
      "           1       0.68      0.75      0.71      6682\n",
      "\n",
      "    accuracy                           0.70     13632\n",
      "   macro avg       0.71      0.70      0.70     13632\n",
      "weighted avg       0.71      0.70      0.70     13632\n",
      "\n",
      "LOG L2:               precision    recall  f1-score   support\n",
      "\n",
      "           0       0.73      0.66      0.69      6950\n",
      "           1       0.68      0.75      0.71      6682\n",
      "\n",
      "    accuracy                           0.70     13632\n",
      "   macro avg       0.71      0.70      0.70     13632\n",
      "weighted avg       0.71      0.70      0.70     13632\n",
      "\n"
     ]
    }
   ],
   "source": [
    "train_predictions_rfc = rfc.predict(X_val)\n",
    "print(\"RFC TREE:\",classification_report(y_val, train_predictions_rfc))\n",
    "train_predictions_class = classic.predict(X_val)\n",
    "print(\"DECISION TREE:\",classification_report(y_val, train_predictions_class))\n",
    "train_predictions_log = log.predict(X_val)\n",
    "print(\"LOG:\",classification_report(y_val, train_predictions_log))\n",
    "train_predictions_log_l2 = log_l2_pipe.predict(X_val)\n",
    "print(\"LOG L2:\",classification_report(y_val, train_predictions_log_l2))\n"
   ]
  },
  {
   "cell_type": "code",
   "execution_count": 106,
   "metadata": {},
   "outputs": [],
   "source": [
    "a = list(rfc['preprocessor'].transformers_[1][1]['coder'].get_feature_names(cat_feats))\n",
    "b = list(sorted(rfc['preprocessor'].transformers_[2][1]['text_vect_name'].vocabulary_.keys()))\n",
    "c = list(sorted(rfc['preprocessor'].transformers_[3][1]['text_vect_name'].vocabulary_.keys()))\n",
    "d = list(sorted(rfc['preprocessor'].transformers_[4][1]['text_vect_name'].vocabulary_.keys()))\n",
    "e = list(sorted(rfc['preprocessor'].transformers_[5][1]['text_vect_name'].vocabulary_.keys()))\n",
    "\n",
    "cols = ['age'] + a + b + c + d + e \n",
    "\n",
    "coef_tree = pd.DataFrame({'features': cols, 'values': rfc_tree.feature_importances_}).sort_values(by='values',ascending=False)\n"
   ]
  },
  {
   "cell_type": "code",
   "execution_count": 130,
   "metadata": {},
   "outputs": [
    {
     "data": {
      "image/png": "[encoded data removed]",
      "text/plain": [
       "<Figure size 432x288 with 1 Axes>"
      ]
     },
     "metadata": {},
     "output_type": "display_data"
    }
   ],
   "source": [
    "fig, ax = plt.subplots()\n",
    "coef_tree.head(10).plot.bar(x='features',ax=ax)\n",
    "plt.setp(ax.get_xticklabels(), rotation=30, ha='right')\n",
    "ax.set_title(\"Feature importances using GINI\")\n",
    "ax.set_ylabel(\"Mean Decrease in Impurity\")\n",
    "fig.tight_layout()"
   ]
  },
  {
   "cell_type": "markdown",
   "metadata": {},
   "source": [
    "### Fine-tuning Hyperparameter"
   ]
  },
  {
   "cell_type": "code",
   "execution_count": null,
   "metadata": {},
   "outputs": [],
   "source": [
    "#gridsearch cv on decision tree\n",
    "### PIPELINE GRID_SEARCH ###\n",
    "############################\n",
    "\n",
    "# Parameter grid for GridSearch\n",
    "param_grid={'classic_tree__max_depth': [100, 200, 300],#, 50, 75, 100, 125, 150, 200, 250], \n",
    "            'classic_tree__min_samples_leaf': [5, 10, 15],#, 25, 30],\n",
    "            'classic_tree__min_samples_split': [2, 5, 15]#, 25, 30, 45, 50]\n",
    "           }\n",
    "\n",
    "grid_search = GridSearchCV(classic, # Base model\n",
    "                           param_grid, # Parameters to try\n",
    "                           cv = 5, # Apply 5-fold cross validation\n",
    "                           verbose = 1, # Print summary\n",
    "                           n_jobs = -1 # Use all available processors\n",
    "                          )\n",
    "\n",
    "# Fit the GridSearch to our training data\n",
    "grid_search.fit(X_train, y_train)"
   ]
  },
  {
   "cell_type": "code",
   "execution_count": null,
   "metadata": {},
   "outputs": [],
   "source": [
    "print(grid_search.best_params_)\n",
    "print(grid_search.best_score_)\n",
    "# Get the best model out of GridSearchCV\n",
    "classifier = grid_search.best_estimator_\n",
    "\n",
    "# Fit the best model to the train data once more\n",
    "classifier.fit(X_train, y_train)"
   ]
  },
  {
   "cell_type": "code",
   "execution_count": null,
   "metadata": {},
   "outputs": [],
   "source": [
    "\n",
    "# Use the fitted model to make predictions on the train dataset\n",
    "val_predictions = classifier.predict(X_val)\n",
    "\n",
    "print('Model performance on the train set:')\n",
    "print(confusion_matrix(y_val, val_predictions))\n",
    "print(classification_report(y_val, val_predictions))\n",
    "print(\"val accuracy:\", accuracy_score(y_val, val_predictions))    "
   ]
  },
  {
   "cell_type": "code",
   "execution_count": null,
   "metadata": {},
   "outputs": [],
   "source": [
    "#gridsearch cv on decision tree\n",
    "### PIPELINE GRID_SEARCH ###\n",
    "############################\n",
    "\n",
    "# Parameter grid for GridSearch\n",
    "param_grid={'rfc_tree__n_estimators': [300],#, 50, 75, 100, 125, 150, 200, 250], \n",
    "            'rfc_tree__max_features': ['auto'],#, 25, 30],\n",
    "            'rfc_tree__max_depth': [100, 200, 300],#, 50, 75, 100, 125, 150, 200, 250], \n",
    "            'rfc_tree__min_samples_leaf': [5, 10, 15],#, 25, 30],\n",
    "            'rfc_tree__min_samples_split': [2, 5, 15]#, 25, 30, 45, 50]\n",
    "           }\n",
    "\n",
    "\n",
    "\n",
    "\n",
    "\n",
    "grid_search = GridSearchCV(rfc, # Base model\n",
    "                           param_grid, # Parameters to try\n",
    "                           cv = 5, # Apply 5-fold cross validation\n",
    "                           verbose = 1, # Print summary\n",
    "                           n_jobs = -1 # Use all available processors\n",
    "                          )\n",
    "\n",
    "# Fit the GridSearch to our training data\n",
    "grid_search.fit(X_train, y_train)"
   ]
  },
  {
   "cell_type": "code",
   "execution_count": null,
   "metadata": {},
   "outputs": [],
   "source": [
    "print(grid_search.best_params_)\n",
    "print(grid_search.best_score_)\n",
    "# Get the best model out of GridSearchCV\n",
    "classifier = grid_search.best_estimator_\n",
    "\n",
    "# Fit the best model to the train data once more\n",
    "classifier.fit(X_train, y_train)\n",
    "\n",
    "\n",
    "# Use the fitted model to make predictions on the train dataset\n",
    "val_predictions = classifier.predict(X_val)\n",
    "\n",
    "print('Model performance on the train set:')\n",
    "print(confusion_matrix(y_val, val_predictions))\n",
    "print(classification_report(y_val, val_predictions))\n",
    "print(\"val accuracy:\", accuracy_score(y_val, val_predictions)) "
   ]
  },
  {
   "cell_type": "code",
   "execution_count": null,
   "metadata": {},
   "outputs": [],
   "source": [
    "coef_logit = pd.DataFrame(zip(X_train.columns, np.transpose(log.coef_.tolist()[0])), columns=['features', 'coef'])\n",
    "coef_logit = coef_logit.sort_values(by='coef', ascending=False).reset_index()\n",
    "coef_logit"
   ]
  },
  {
   "cell_type": "code",
   "execution_count": null,
   "metadata": {},
   "outputs": [],
   "source": [
    "coef_tree = pd.DataFrame(X_train.columns, new_tree.feature_importances_, columns=['features'])\n",
    "coef_tree.sort_index(ascending=False).head(5)\n",
    "\n"
   ]
  },
  {
   "cell_type": "code",
   "execution_count": null,
   "metadata": {},
   "outputs": [],
   "source": [
    "coef_logit[coef_logit['features'].str.contains('Pit')]"
   ]
  },
  {
   "cell_type": "code",
   "execution_count": null,
   "metadata": {},
   "outputs": [],
   "source": [
    "coef_ada = pd.DataFrame(zip(X_train.columns, np.transpose(rfc_tree.feature_importances_)), columns=['features', 'coef'])\n",
    "coef_ada = coef_ada.sort_values(by='coef', ascending=False).reset_index()\n",
    "coef_ada"
   ]
  },
  {
   "cell_type": "code",
   "execution_count": null,
   "metadata": {},
   "outputs": [],
   "source": [
    "\n",
    "print(classification_report(y_predict, y_test))\n",
    "plot_confusion_matrix(log,Scaler.transform(X_test), y_test, normalize='true')"
   ]
  }
 ],
 "metadata": {
  "interpreter": {
   "hash": "3472633a0c3319afea4dee893cd914becdcc9b59b8cbd89385fb4e7aafbcbb11"
  },
  "kernelspec": {
   "display_name": "Python 3.9.7 ('base')",
   "language": "python",
   "name": "python3"
  },
  "language_info": {
   "codemirror_mode": {
    "name": "ipython",
    "version": 3
   },
   "file_extension": ".py",
   "mimetype": "text/x-python",
   "name": "python",
   "nbconvert_exporter": "python",
   "pygments_lexer": "ipython3",
   "version": "3.9.7"
  },
  "orig_nbformat": 4
 },
 "nbformat": 4,
 "nbformat_minor": 2
}
