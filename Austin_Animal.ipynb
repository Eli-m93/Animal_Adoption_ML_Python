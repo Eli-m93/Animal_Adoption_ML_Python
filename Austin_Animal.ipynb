{
 "cells": [
  {
   "cell_type": "code",
   "execution_count": 3,
   "metadata": {},
   "outputs": [],
   "source": [
    "import folium\n",
    "from folium.plugins import HeatMap\n",
    "import numpy as np\n",
    "import pandas as pd\n",
    "import matplotlib.pyplot as plt\n",
    "import seaborn as sns\n",
    "from sklearn.preprocessing import OneHotEncoder, StandardScaler\n",
    "from sklearn.model_selection import GridSearchCV, train_test_split\n",
    "from sklearn.tree import DecisionTreeClassifier, plot_tree\n",
    "from sklearn.ensemble import RandomForestClassifier, AdaBoostClassifier\n",
    "from sklearn.metrics import confusion_matrix, classification_report, plot_confusion_matrix, accuracy_score\n",
    "from sklearn.pipeline import Pipeline\n",
    "from sklearn.compose import ColumnTransformer\n",
    "from sklearn.impute import SimpleImputer\n",
    "from sklearn.feature_extraction.text import CountVectorizer\n",
    "import matplotlib.pyplot as plt\n",
    "from sklearn.linear_model import LogisticRegression, LogisticRegressionCV\n",
    "import re\n",
    "import string\n",
    "from nltk.stem import SnowballStemmer\n",
    "from sklearn.feature_extraction.text import CountVectorizer\n",
    "from sodapy import Socrata\n"
   ]
  },
  {
   "cell_type": "markdown",
   "metadata": {},
   "source": [
    "# Predicting if an Animal will be re-homed in <30 Days Using Government Data.\n",
    "\n",
    "Below is a mini-project I started that attempts to predict if an animal taken in from Austin animal shelter will be re-homed in 30 days. I did this to better understand Tree + Ensemble methods in Sklearn.\n",
    "\n",
    "- This project was inspired by a [mini-course on decision trees from AWS](https://github.com/aws-samples/aws-machine-learning-university-dte).\n",
    "- Raw data is taken from [The City of Austin Texas's government data page](https://data.austintexas.gov/Health-and-Community-Services/Austin-Animal-Center-Intakes/wter-evkm).\n",
    "\n",
    "This project is ongoing, please excuse any grammatical mistakes or unfinished parts!\n",
    "\n",
    "### Ongoing goals to add (As of 4/13/22):\n",
    "\n",
    "1. Pull data via SODA API or create local SQL server to perform pulls. Problematic as SODA API won't let me pull \"max rows.\"\n",
    "2. Attempt other ensemble methods. Ideally ADA boosted trees and NN (when I master this).\n",
    "3. Finish with fine tuning and assessing over test set.\n",
    "4. Create final table of results + takeaways.\n",
    "5. Expand on EDA, clean up as part of presentation to Austin Shelter team.\n",
    "6. **NEW 7/2022** Clean up coding syntax\n"
   ]
  },
  {
   "cell_type": "markdown",
   "metadata": {},
   "source": [
    "## Data Intake + Prep\n",
    "\n",
    "Cleaning is one of the most important aspects of any project. Below I attempt to:\n",
    "\n",
    "1. Pull in data via API, create datasets\n",
    "2. Find missing or bad data, these rows could skew our analysis, especially if features contain many missing values or behave in unexpected ways.\n",
    "3. Apply cleaning rules to data.\n",
    "4. Merged datasets to have a beginning endline dataset to run EDA over.\n",
    "\n",
    "---\n"
   ]
  },
  {
   "cell_type": "markdown",
   "metadata": {},
   "source": [
    "### 1. Grab Data\n"
   ]
  },
  {
   "cell_type": "code",
   "execution_count": 4,
   "metadata": {},
   "outputs": [],
   "source": [
    "# Define way to create raw data from API\n",
    "def data_feeder(df):\n",
    "    a = pd.DataFrame.from_records(df)\n",
    "    a.columns = a.iloc[0]\n",
    "    a = a[1:]\n",
    "    # Annoying feature of from_records is that it replaces NaN with ''\n",
    "    a = a.replace('', np.nan)\n",
    "    return a\n"
   ]
  },
  {
   "cell_type": "code",
   "execution_count": 5,
   "metadata": {},
   "outputs": [],
   "source": [
    "# Call API to get Data\n",
    "client = Socrata(\"data.austintexas.gov\", 'HwnJIRk3Ph7NqQ0cPB0MOPkTF')\n",
    "intake = client.get(\"wter-evkm\", limit=99999999, content_type='csv')\n",
    "outcome = client.get(\"9t4d-g238\", limit=99999999, content_type='csv')\n",
    "\n",
    "# Make data\n",
    "intake_df = data_feeder(intake)\n",
    "outcome_df = data_feeder(outcome)\n",
    "geocoded_df = pd.read_csv('geocoded_locations.csv')\n"
   ]
  },
  {
   "cell_type": "code",
   "execution_count": 6,
   "metadata": {},
   "outputs": [],
   "source": [
    "a = pd.DataFrame.from_records(outcome)\n",
    "a.columns = a.iloc[0]\n",
    "a = a[1:]\n",
    "# Annoying feature of from_records is that it replaces NaN with ''\n",
    "a = a.replace('', np.nan)\n"
   ]
  },
  {
   "cell_type": "markdown",
   "metadata": {},
   "source": [
    "### 2. Find bad/missing data:\n",
    "\n",
    "Here I am looking for any columns that might be problematic to our analysis (many missing values, extreme values, or nonsensical values that require more digging).\n",
    "\n",
    "I want to automate this, if we find a small amount of NaN's we should be fine to just drop them. If these NaN become a larger issues (lets say > %2) we need to pause and manually inspect what is going on.\n",
    "\n",
    "It should be noted that this notebook is a little backwards, I was able to do a mix of EDA and bad data cleanup in unison but for clarity to an external audience I just separate the two. This means I found odd relationships later into EDA but came back up here to insert cleaning rules.\n"
   ]
  },
  {
   "cell_type": "code",
   "execution_count": 7,
   "metadata": {},
   "outputs": [
    {
     "name": "stdout",
     "output_type": "stream",
     "text": [
      "0\n",
      "name    29.41981\n",
      "dtype: float64\n",
      "0\n",
      "outcome_type        0.015453\n",
      "name               29.386436\n",
      "outcome_subtype    54.122151\n",
      "dtype: float64\n"
     ]
    }
   ],
   "source": [
    "# Let's make a function to output what's missing\n",
    "def percent_missing(df):\n",
    "    percent_nan = 100 * df.isnull().sum() / len(df)\n",
    "    percent_nan = percent_nan[percent_nan > 0].sort_values()\n",
    "    drop_list = percent_nan[(percent_nan < 2) & percent_nan != 0]\n",
    "    if percent_nan.shape[0] == 0:\n",
    "        print(\"No NA values, consider checking the data\")\n",
    "    else:\n",
    "        print(percent_nan)\n",
    "    return drop_list.index.to_list()\n",
    "\n",
    "\n",
    "intake_drop = percent_missing(intake_df)\n",
    "outcome_drop = percent_missing(outcome_df)\n"
   ]
  },
  {
   "cell_type": "code",
   "execution_count": 8,
   "metadata": {},
   "outputs": [],
   "source": [
    "# Clean Data\n",
    "def lower_case_col(columns):\n",
    "    return columns.replace(\" \", \"_\").lower()\n",
    "\n",
    "\n",
    "def sort_for_merge(var, name):\n",
    "    return var.sort_values(by=[name + '_datetime']).groupby(['animal_id']).cumcount()+1\n",
    "\n",
    "\n",
    "def clean_up(dataframe, droplist, name):\n",
    "    return (dataframe\n",
    "            .rename(columns=lower_case_col)\n",
    "            .assign(name_avail=np.where(dataframe.name.isna(), 0, 1),\n",
    "                    datetime=pd.to_datetime(dataframe.datetime),\n",
    "                    month=lambda x: x.datetime.dt.month\n",
    "                    )\n",
    "            .dropna(subset=droplist)\n",
    "            .rename(columns={'datetime': name+'_datetime'})\n",
    "            .drop(['name'], axis=1)\n",
    "\n",
    "            )\n"
   ]
  },
  {
   "cell_type": "code",
   "execution_count": 9,
   "metadata": {},
   "outputs": [],
   "source": [
    "# Apply to Data\n",
    "intake_df_clean = clean_up(intake_df, intake_drop, 'intake')\n",
    "outcome_df_clean = clean_up(outcome_df, outcome_drop, 'outcome')\n"
   ]
  },
  {
   "cell_type": "markdown",
   "metadata": {},
   "source": [
    "### 3. Merge Intake & Outcome Data:\n",
    "\n",
    "Now merge the semi-cleaned data together so I can continue with feature engineering and EDA. To do this I first create merging variables.\n",
    "\n",
    "The same animal can show up multiple times, however their intake and subsequent outcome are always in order. For instance if dog A has been intaken 5 times in our data, then they'll be in the outcome 5 times, if not the animal is still waiting for an outcome. I can't merge these multiple instances on ID and date as an animal will come in a different date it leaves, but I can sort on date in both dataframes and create a unique merge variable instead.\n"
   ]
  },
  {
   "cell_type": "code",
   "execution_count": 10,
   "metadata": {},
   "outputs": [
    {
     "name": "stdout",
     "output_type": "stream",
     "text": [
      "both          141418\n",
      "left_only       1156\n",
      "right_only       925\n",
      "Name: _merge, dtype: int64\n"
     ]
    }
   ],
   "source": [
    "def sort_for_merge(var):\n",
    "    var['merge_counter'] = var.sort_values(\n",
    "        by=([col for col in var.columns if 'datetime' in col])).groupby(['animal_id']).cumcount()+1\n",
    "\n",
    "\n",
    "sort_for_merge(intake_df_clean)\n",
    "sort_for_merge(outcome_df_clean)\n",
    "\n",
    "# Now merge\n",
    "merged_df = intake_df_clean.merge(outcome_df_clean[[\n",
    "    'outcome_type',\n",
    "    'animal_id',\n",
    "    'outcome_datetime',\n",
    "    'merge_counter']],\n",
    "    on=['animal_id',\n",
    "        'merge_counter'],\n",
    "    how='outer',\n",
    "    indicator=True)\n",
    "\n",
    "# Okay most merged!\n",
    "print(merged_df._merge.value_counts())\n",
    "\n",
    "# lets just keep in the inner product\n",
    "merged_df = merged_df[merged_df._merge == 'both']\n"
   ]
  },
  {
   "cell_type": "markdown",
   "metadata": {},
   "source": [
    "## EDA + Feature Engineering\n",
    "\n",
    "This step attempts to combine multiple aspects of any data science project together:\n",
    "\n",
    "1. Identify worthwhile features to use and determine what features to create.\n",
    "2. Create new features. Many of the raw features given are not ready to run EDA over. I need to still fix and create features.\n",
    "3. Perform EDA and identify any issues or interesting relationships.\n",
    "4. Drop observations or clean features of interest.\n",
    "5. Specify features types and transform as needed\n",
    "\n",
    "Feature Engineering is an ongoing process however, so what is listed above is only a portion of what I do on this project. Moreover, this process is an overarching step of this project. Under the hood and behind the curtains lies hundreds of lines of depreciated code, useless features, and other analysis not included. Later on I will continue feature engineering by dummying our variables (after EDA).\n",
    "\n",
    "---\n"
   ]
  },
  {
   "cell_type": "markdown",
   "metadata": {},
   "source": [
    "### 1.Identify\n",
    "\n",
    "First I need to think of what features in the intake data could potentially predict if an animal will be rehomed, I don't want to throw the whole kitchen sink of features in potentially adding noise to my analysis. Second, I need to understand and define \"rehomed.\" What is the key performance metric I should use?\n",
    "\n",
    "Much of this \"Identify\" comes during EDA or via simple inspection of my data. I already know by looking that intake Age is important, breed, and time of adoption.\n"
   ]
  },
  {
   "cell_type": "markdown",
   "metadata": {},
   "source": [
    "### 2. Create\n",
    "\n",
    "After Identifying what I could use in the intake data, I need to create additional features and retool existing ones to my liking. Some potential ideas I saw:\n",
    "\n",
    "1. Seasonality might matter, having an animal come in near Christmas might spur higher adoptions.\n",
    "2. Age needs to be standard across animals, lets turn it into months.\n",
    "3. How should we deal with purebred and mixed animals?\n"
   ]
  },
  {
   "cell_type": "code",
   "execution_count": 11,
   "metadata": {},
   "outputs": [],
   "source": [
    "# Lets make age in terms of months\n",
    "def age_to_num(var):\n",
    "    num, date = var.split(' ')\n",
    "    num = int(num)\n",
    "    if 'year' in date:\n",
    "        num = num*12\n",
    "    elif 'week' in date:\n",
    "        num = num/4\n",
    "    elif 'day' in date:\n",
    "        num = num/30\n",
    "    else:\n",
    "        num\n",
    "    if num < 0:\n",
    "        num = np.nan\n",
    "    return(num)\n",
    "\n",
    "#Add more\n",
    "merged_df = (\n",
    "    merged_df\n",
    "    # Few more X's\n",
    "    .assign(age=merged_df.age_upon_intake.apply(age_to_num),\n",
    "            # Let's make a \"purebred\" variable for dogs. This should only really matter for dogs, as for cats \"shorthair mix\" & \"shorthair\" for a cat are identical. Moreover, what is the difference between a \"cow\" and \"cow mix?\"\n",
    "            purebred=np.where((merged_df.animal_type == \"Dog\") & ~(\n",
    "                merged_df.breed.str.contains(\"Mix|/\")), 1, 0),\n",
    "            days=(merged_df.outcome_datetime -\n",
    "                  merged_df.intake_datetime) / np.timedelta64(1, 'D'),\n",
    "            )\n",
    "    # Start on Y's\n",
    "    .assign(adopted=np.where(merged_df.outcome_type.str.contains('Adopt'), 1, 0),\n",
    "            rehomed=np.where(merged_df.outcome_type.str.contains(\n",
    "                'Adopt|Rto|Return to Owner'), 1, 0),\n",
    "            rehomed_in_30_days=lambda x: np.where(\n",
    "            (x.rehomed == 1) & (x.days <= 30), 1, 0)\n",
    "            )\n",
    ")\n"
   ]
  },
  {
   "cell_type": "markdown",
   "metadata": {},
   "source": [
    "## EDA\n"
   ]
  },
  {
   "cell_type": "markdown",
   "metadata": {},
   "source": [
    "Lets get an idea of where animals are found with an interactive map:\n"
   ]
  },
  {
   "cell_type": "code",
   "execution_count": 12,
   "metadata": {},
   "outputs": [
    {
     "data": {
      "text/html": [
       "<div style=\"width:100%;\"><div style=\"position:relative;width:100%;height:0;padding-bottom:60%;\"><span style=\"color:#565656\">Make this Notebook Trusted to load map: File -> Trust Notebook</span><iframe srcdoc=\"&lt;!DOCTYPE html&gt;\n",
       "&lt;head&gt;    \n",
       "    &lt;meta http-equiv=&quot;content-type&quot; content=&quot;text/html; charset=UTF-8&quot; /&gt;\n",
       "    \n",
       "        &lt;script&gt;\n",
       "            L_NO_TOUCH = false;\n",
       "            L_DISABLE_3D = false;\n",
       "        &lt;/script&gt;\n",
       "    \n",
       "    &lt;style&gt;html, body {width: 100%;height: 100%;margin: 0;padding: 0;}&lt;/style&gt;\n",
       "    &lt;style&gt;#map {position:absolute;top:0;bottom:0;right:0;left:0;}&lt;/style&gt;\n",
       "    &lt;script src=&quot;https://cdn.jsdelivr.net/npm/leaflet@1.6.0/dist/leaflet.js&quot;&gt;&lt;/script&gt;\n",
       "    &lt;script src=&quot;https://code.jquery.com/jquery-1.12.4.min.js&quot;&gt;&lt;/script&gt;\n",
       "    &lt;script src=&quot;https://maxcdn.bootstrapcdn.com/bootstrap/3.2.0/js/bootstrap.min.js&quot;&gt;&lt;/script&gt;\n",
       "    &lt;script src=&quot;https://cdnjs.cloudflare.com/ajax/libs/Leaflet.awesome-markers/2.0.2/leaflet.awesome-markers.js&quot;&gt;&lt;/script&gt;\n",
       "    &lt;link rel=&quot;stylesheet&quot; href=&quot;https://cdn.jsdelivr.net/npm/leaflet@1.6.0/dist/leaflet.css&quot;/&gt;\n",
       "    &lt;link rel=&quot;stylesheet&quot; href=&quot;https://maxcdn.bootstrapcdn.com/bootstrap/3.2.0/css/bootstrap.min.css&quot;/&gt;\n",
       "    &lt;link rel=&quot;stylesheet&quot; href=&quot;https://maxcdn.bootstrapcdn.com/bootstrap/3.2.0/css/bootstrap-theme.min.css&quot;/&gt;\n",
       "    &lt;link rel=&quot;stylesheet&quot; href=&quot;https://maxcdn.bootstrapcdn.com/font-awesome/4.6.3/css/font-awesome.min.css&quot;/&gt;\n",
       "    &lt;link rel=&quot;stylesheet&quot; href=&quot;https://cdnjs.cloudflare.com/ajax/libs/Leaflet.awesome-markers/2.0.2/leaflet.awesome-markers.css&quot;/&gt;\n",
       "    &lt;link rel=&quot;stylesheet&quot; href=&quot;https://cdn.jsdelivr.net/gh/python-visualization/folium/folium/templates/leaflet.awesome.rotate.min.css&quot;/&gt;\n",
       "    \n",
       "            &lt;meta name=&quot;viewport&quot; content=&quot;width=device-width,\n",
       "                initial-scale=1.0, maximum-scale=1.0, user-scalable=no&quot; /&gt;\n",
       "            &lt;style&gt;\n",
       "                #map_823d637e28ad9f76877153741f6d0c22 {\n",
       "                    position: relative;\n",
       "                    width: 100.0%;\n",
       "                    height: 100.0%;\n",
       "                    left: 0.0%;\n",
       "                    top: 0.0%;\n",
       "                }\n",
       "            &lt;/style&gt;\n",
       "        \n",
       "    &lt;script src=&quot;https://cdn.jsdelivr.net/gh/python-visualization/folium@master/folium/templates/leaflet_heat.min.js&quot;&gt;&lt;/script&gt;\n",
       "&lt;/head&gt;\n",
       "&lt;body&gt;    \n",
       "    \n",
       "            &lt;div class=&quot;folium-map&quot; id=&quot;map_823d637e28ad9f76877153741f6d0c22&quot; &gt;&lt;/div&gt;\n",
       "        \n",
       "&lt;/body&gt;\n",
       "&lt;script&gt;    \n",
       "    \n",
       "            var map_823d637e28ad9f76877153741f6d0c22 = L.map(\n",
       "                &quot;map_823d637e28ad9f76877153741f6d0c22&quot;,\n",
       "                {\n",
       "                    center: [30.0, -97.73333],\n",
       "                    crs: L.CRS.EPSG3857,\n",
       "                    zoom: 10,\n",
       "                    zoomControl: true,\n",
       "                    preferCanvas: false,\n",
       "                }\n",
       "            );\n",
       "            L.control.scale().addTo(map_823d637e28ad9f76877153741f6d0c22);\n",
       "\n",
       "            \n",
       "\n",
       "        \n",
       "    \n",
       "            var tile_layer_8e2ce801214917163a2c4a88c2b35dbc = L.tileLayer(\n",
       "                &quot;https://{s}.tile.openstreetmap.org/{z}/{x}/{y}.png&quot;,\n",
       "                {&quot;attribution&quot;: &quot;Data by \\u0026copy; \\u003ca href=\\&quot;http://openstreetmap.org\\&quot;\\u003eOpenStreetMap\\u003c/a\\u003e, under \\u003ca href=\\&quot;http://www.openstreetmap.org/copyright\\&quot;\\u003eODbL\\u003c/a\\u003e.&quot;, &quot;detectRetina&quot;: false, &quot;maxNativeZoom&quot;: 18, &quot;maxZoom&quot;: 18, &quot;minZoom&quot;: 0, &quot;noWrap&quot;: false, &quot;opacity&quot;: 1, &quot;subdomains&quot;: &quot;abc&quot;, &quot;tms&quot;: false}\n",
       "            ).addTo(map_823d637e28ad9f76877153741f6d0c22);\n",
       "        \n",
       "    \n",
       "            var tile_layer_d26dd1e56b40e3d02167878fefe28ae7 = L.tileLayer(\n",
       "                &quot;https://cartodb-basemaps-{s}.global.ssl.fastly.net/light_all/{z}/{x}/{y}.png&quot;,\n",
       "                {&quot;attribution&quot;: &quot;\\u0026copy; \\u003ca href=\\&quot;http://www.openstreetmap.org/copyright\\&quot;\\u003eOpenStreetMap\\u003c/a\\u003e contributors \\u0026copy; \\u003ca href=\\&quot;http://cartodb.com/attributions\\&quot;\\u003eCartoDB\\u003c/a\\u003e, CartoDB \\u003ca href =\\&quot;http://cartodb.com/attributions\\&quot;\\u003eattributions\\u003c/a\\u003e&quot;, &quot;detectRetina&quot;: false, &quot;maxNativeZoom&quot;: 18, &quot;maxZoom&quot;: 18, &quot;minZoom&quot;: 0, &quot;noWrap&quot;: false, &quot;opacity&quot;: 1, &quot;subdomains&quot;: &quot;abc&quot;, &quot;tms&quot;: false}\n",
       "            ).addTo(map_823d637e28ad9f76877153741f6d0c22);\n",
       "        \n",
       "    \n",
       "            var marker_c9b502013e01f34ffd72570e9455bd7b = L.marker(\n",
       "                [30.2527847, -97.6926073],\n",
       "                {}\n",
       "            ).addTo(map_823d637e28ad9f76877153741f6d0c22);\n",
       "        \n",
       "    \n",
       "            var icon_be8457a640d6409267862884a57bef5e = L.AwesomeMarkers.icon(\n",
       "                {&quot;extraClasses&quot;: &quot;fa-rotate-0&quot;, &quot;icon&quot;: &quot;info-sign&quot;, &quot;iconColor&quot;: &quot;white&quot;, &quot;markerColor&quot;: &quot;green&quot;, &quot;prefix&quot;: &quot;glyphicon&quot;}\n",
       "            );\n",
       "            marker_c9b502013e01f34ffd72570e9455bd7b.setIcon(icon_be8457a640d6409267862884a57bef5e);\n",
       "        \n",
       "    \n",
       "        var popup_f6100b25eaf1d79453752f3fa5d13b29 = L.popup({&quot;maxWidth&quot;: &quot;100%&quot;});\n",
       "\n",
       "        \n",
       "            var html_bedefd74a8999f4b16f6b544c33ccbb8 = $(`&lt;div id=&quot;html_bedefd74a8999f4b16f6b544c33ccbb8&quot; style=&quot;width: 100.0%; height: 100.0%;&quot;&gt;Austin Animal Shelter&lt;/div&gt;`)[0];\n",
       "            popup_f6100b25eaf1d79453752f3fa5d13b29.setContent(html_bedefd74a8999f4b16f6b544c33ccbb8);\n",
       "        \n",
       "\n",
       "        marker_c9b502013e01f34ffd72570e9455bd7b.bindPopup(popup_f6100b25eaf1d79453752f3fa5d13b29)\n",
       "        ;\n",
       "\n",
       "        \n",
       "    \n",
       "    \n",
       "            var heat_map_4770d9b45883bbb85043eaea1524993b = L.heatLayer(\n",
       "                [[30.0362403, -97.7090293], [30.0587472, -97.7044007], [30.0793482, -97.6391513], [30.08097159999999, -97.6297445], [30.0886614, -97.643103], [30.1101586, -97.6229285], [30.11166769999999, -97.6956817], [30.1154232, -97.7471441], [30.1165397, -97.6990638], [30.1172721, -97.7001145], [30.1173239, -97.7266788], [30.1173944, -97.6293392], [30.11786409999999, -97.7450137], [30.1188477, -97.730208], [30.1201551, -97.7490124], [30.1207756, -97.8319744], [30.1213841, -97.6371379], [30.1260853, -97.6752102], [30.1261877, -97.7101671], [30.130229, -97.6117818], [30.1329164, -97.6141539], [30.1329533, -97.6490715], [30.1342162, -97.7634979], [30.1356654, -97.7335395], [30.1357199, -97.7150455], [30.13592939999999, -97.5752776], [30.135974, -97.6757999], [30.136876, -97.8365634], [30.1374459, -97.6191521], [30.13749199999999, -97.660146], [30.1375052, -97.7531931], [30.1384693, -97.614281], [30.1386726, -97.7879641], [30.1391439, -97.6777157], [30.1413925, -97.8326097], [30.1422399, -97.6669343], [30.14227949999999, -97.7293205], [30.14966549999999, -97.5846162], [30.1507045, -97.7402757], [30.1508537, -97.7419885], [30.1510942, -97.7379146], [30.1519858, -97.8278507], [30.1522049, -97.8406838], [30.1535841, -97.8408537], [30.153655, -97.8419162], [30.1537297, -97.6494494], [30.154506, -97.721564], [30.1545461, -97.7890045], [30.1546553, -97.738339], [30.1548414, -97.6457623], [30.1551727, -97.7418344], [30.1562153, -97.7929129], [30.1573272, -97.8490775], [30.1576386, -97.6462284], [30.1580708, -97.7811637], [30.15817539999999, -97.8438924], [30.1588551, -97.7450229], [30.1589506, -97.6387857], [30.159292, -97.7773909], [30.1600079, -97.6831514], [30.1602342, -97.6416939], [30.161378, -97.8184186], [30.1627674, -97.743318], [30.1631095, -97.7903675], [30.1632324, -97.7258934], [30.1635301, -97.6902181], [30.1636512, -97.7984729], [30.1639152, -97.7416915], [30.1647997, -97.7437922], [30.165736, -97.721123], [30.1662389, -97.8178025], [30.16662609999999, -97.7368116], [30.1669935, -97.7869383], [30.1675303, -97.5254329], [30.1679096, -97.6248625], [30.1681016, -97.749352], [30.1685009, -97.7432516], [30.1685898, -97.6275412], [30.1689904, -97.7383264], [30.1693938, -97.6915678], [30.1703989, -97.8042941], [30.170521, -97.7561855], [30.1723422, -97.6185172], [30.1724504, -97.6907008], [30.1725823, -97.768618], [30.1732201, -97.8065878], [30.17364389999999, -97.7575651], [30.1737687, -97.7569708], [30.1740877, -97.8415266], [30.1740878, -97.8299752], [30.1741092, -97.6163857], [30.1742917, -97.8258112], [30.174399, -97.6231489], [30.1768058, -97.7214234], [30.1772678, -97.7483451], [30.1780376, -97.758272], [30.1800259, -97.7598022], [30.18012419999999, -97.6122689], [30.1802199, -97.7606977], [30.1812671, -97.7937397], [30.1813974, -97.685893], [30.1815862, -97.7664796], [30.1816078, -97.8151049], [30.1818946, -97.7666065], [30.1820728, -97.8146847], [30.182426, -97.8473452], [30.1828057, -97.7587536], [30.183088, -97.7636484], [30.1833749, -97.844083], [30.1835756, -97.6879002], [30.183624, -97.7689639], [30.1838742, -97.7926848], [30.1857007, -97.7992295], [30.1859274, -97.8162559], [30.186152, -97.7627863], [30.1864, -97.759149], [30.1864188, -97.6095379], [30.1864217, -97.9214964], [30.186622, -97.7667662], [30.1866946, -97.7793592], [30.18674769999999, -97.7586684], [30.1874913, -97.7492458], [30.188735, -97.5653976], [30.1887655, -97.7784099], [30.1888732, -97.768666], [30.1892393, -97.767852], [30.1894507, -97.5741533], [30.1895951, -97.7810425], [30.1896815, -97.8021915], [30.1901417, -97.7514104], [30.19015349999999, -97.7326315], [30.1901964, -97.8455024], [30.1916313, -97.7652273], [30.1917165, -97.7788982], [30.1920431, -97.6984247], [30.1927954, -97.8930598], [30.19299089999999, -97.8135756], [30.1931086, -97.7788344], [30.1932369, -97.7876243], [30.1933435, -97.7850764], [30.1936306, -97.7497157], [30.1937689, -97.7854586], [30.19387769999999, -97.7568383], [30.1939967, -97.7491185], [30.1940034, -97.7447367], [30.1942214, -97.752896], [30.1942771, -97.7557399], [30.1942905, -97.8203304], [30.19435219999999, -97.8820883], [30.1944606, -97.8341349], [30.1945218, -97.8111967], [30.1946734, -97.7391877], [30.1948767, -97.7349866], [30.1951669, -97.7490336], [30.195582, -97.7329074], [30.1962114, -97.7404608], [30.1962177, -97.7290342], [30.1964582, -97.7427312], [30.1968339, -97.7458505], [30.19705, -97.7414369], [30.1970814, -97.8005775], [30.1971751, -97.7877664], [30.1973155, -97.7600483], [30.1973583, -97.744907], [30.1974263, -97.7707898], [30.1977462, -97.7784736], [30.1980888, -97.8227521], [30.1983853, -97.6842488], [30.1985256, -97.8101772], [30.1986136, -97.7278581], [30.1987826, -97.8276383], [30.19927079999999, -97.7878791], [30.19955229999999, -97.7876668], [30.1995864, -97.7982937], [30.1999693, -97.7487767], [30.2002576, -97.6930743], [30.200311, -97.7988317], [30.2003667, -97.7777305], [30.2017414, -97.8405085], [30.2025431, -97.987919], [30.2025857, -97.8766669], [30.202829, -97.8068834], [30.2032391, -97.6393512], [30.2035845, -97.77126640000002], [30.2035874, -97.7876243], [30.2036758, -97.7401136], [30.2038642, -97.7776881], [30.20418579999999, -97.8301877], [30.2042507, -97.797562], [30.2043106, -97.7890257], [30.204392, -97.8715861], [30.2044797, -97.7831656], [30.2049524, -97.873684], [30.2049922, -97.8042941], [30.2050704, -97.6330947], [30.2055131, -97.7165557], [30.2055488, -97.8077347], [30.2055771, -97.8196507], [30.2065661, -97.8788424], [30.2067831, -97.7722959], [30.2069136, -97.856452], [30.20730619999999, -97.7717864], [30.20863019999999, -97.7339045], [30.2091069, -97.6472349], [30.2096765, -97.7673287], [30.2100142, -97.8147438], [30.2105766, -97.652966], [30.2108973, -97.8354259], [30.2110597, -97.7817643], [30.2112363, -97.7495916], [30.2113151, -97.6890668], [30.2119914, -97.7126316], [30.2120159, -97.814234], [30.2131012, -97.7124154], [30.2133539, -97.7695363], [30.21393, -97.731293], [30.2141189, -97.7575912], [30.214432, -97.709417], [30.2154584, -97.6634815], [30.2169798, -97.7830136], [30.2172473, -97.5240262], [30.2172703, -97.7714892], [30.2172705, -97.736684], [30.217294, -97.5271146], [30.21742669999999, -97.7846943], [30.2185687, -97.7702774], [30.2192082, -97.7552411], [30.21937399999999, -97.695955], [30.21961259999999, -97.7439471], [30.2197075, -97.7877292], [30.2198188, -97.7610034], [30.2200059, -97.7089158], [30.2202088, -97.6938085], [30.2205482, -97.7871997], [30.2209477, -97.782741], [30.2211778, -97.800705], [30.2214482, -97.9026592], [30.2215313, -97.7017066], [30.2217828, -97.7787361], [30.2221393, -97.7245363], [30.2229639, -97.6652068], [30.2229871, -97.6734339], [30.2231014, -97.7222958], [30.2232617, -97.6706437], [30.2232902, -97.7251871], [30.2233281, -97.6997584], [30.2234004, -97.8714868], [30.223869, -97.730499], [30.2239681, -97.6956401], [30.22451, -97.742107], [30.2248747, -97.7034758], [30.22524629999999, -97.744959], [30.2255749, -97.8038878], [30.2257514, -97.7024579], [30.22580869999999, -97.7252487], [30.2260247, -97.7443439], [30.2261149, -97.7745674], [30.2261244, -97.6989996], [30.2264721, -97.8208402], [30.2268486, -97.7691787], [30.2277401, -97.7852888], [30.2280506, -97.7615765], [30.2280866, -97.7193462], [30.2280866, -97.5893773], [30.2282631, -97.7246547], [30.2286113, -97.7065828], [30.2289452, -97.7706614], [30.229066, -97.681179], [30.2291402, -97.6916855], [30.2291609, -97.5927515], [30.2293156, -97.8015311], [30.2295607, -97.7606638], [30.229675, -97.4835854], [30.2300634, -97.7001991], [30.2302449, -97.7343671], [30.2303642, -97.8654003], [30.2305333, -97.6933288], [30.2310222, -97.7737819], [30.2313238, -97.7027442], [30.23144, -97.795757], [30.2314474, -97.8008961], [30.231526, -97.720884], [30.2315403, -97.6955102], [30.2315817, -97.7223212], [30.2319514, -97.7380631], [30.2320669, -97.8230076], [30.2321049, -97.7736545], [30.2321198, -97.7949872], [30.2321982, -97.5165385], [30.2322315, -97.6998813], [30.2323033, -97.7203892], [30.2329115, -97.8502038], [30.2329791, -97.714197], [30.233196, -97.8456455], [30.2332351, -97.7648028], [30.23343479999999, -97.8496938], [30.233502, -97.739665], [30.2335221, -97.7175272], [30.2336394, -97.7113549], [30.23373699999999, -97.737663], [30.23395549999999, -97.8485731], [30.234143, -97.7228689], [30.2345118, -97.7881764], [30.2346335, -97.8950004], [30.2349921, -97.7182435], [30.2350318, -97.7854586], [30.2351992, -97.7769148], [30.2353162, -97.7107622], [30.2355015, -97.8570928], [30.2355918, -97.6925688], [30.2357386, -97.8970151], [30.235858, -98.0069139], [30.2359738, -97.8756465], [30.2365254, -97.6968159], [30.2367344, -97.8842144], [30.2372443, -97.8449867], [30.237612, -97.6948555], [30.2376294, -97.8065241], [30.2376301, -97.7510465], [30.2379131, -97.7641023], [30.238451, -97.7429222], [30.238497, -97.5721024], [30.2385129, -97.6823776], [30.23867389999999, -97.6893637], [30.2388067, -97.6943466], [30.2388551, -97.7459354], [30.2391722, -97.6980363], [30.2403017, -97.8892648], [30.2404087, -97.6903506], [30.24129589999999, -97.7836964], [30.2414671, -97.7434315], [30.2421253, -97.8958242], [30.2421291, -97.7596191], [30.2421322, -97.8871698], [30.2423539, -97.7832293], [30.2425924, -97.718312], [30.2431331, -97.7201575], [30.2434696, -97.7260846], [30.24391809999999, -97.7643156], [30.2449917, -97.5829834], [30.2449946, -97.7655457], [30.2452206, -97.7301827], [30.246253, -97.768362], [30.246722, -97.763095], [30.2470982, -97.5837455], [30.2499959, -97.7514529], [30.25154419999999, -97.7543003], [30.2516532, -97.7347827], [30.2523168, -97.68], [30.2526247, -97.601802], [30.2527847, -97.6904186], [30.2530359, -97.7674136], [30.2532059, -97.7104032], [30.2534345, -97.7331778], [30.2534948, -97.7262974], [30.2536438, -97.4813416], [30.2537694, -97.6040031], [30.2538353, -97.5795961], [30.25454969999999, -97.8836191], [30.2546662, -97.7701307], [30.2551946, -97.7380125], [30.2552457, -97.7371504], [30.2553589, -97.7190757], [30.2560447, -97.5785799], [30.2563815, -97.7445985], [30.256419, -97.7158], [30.25694, -97.7234031], [30.2570212, -97.6118787], [30.25715, -97.7468575], [30.2572057, -97.6819854], [30.2574701, -97.688861], [30.2579766, -97.7263306], [30.2582985, -97.7534478], [30.2583016, -97.5736845], [30.2584131, -97.6938377], [30.2586733, -97.7444712], [30.2590551, -97.5747402], [30.2593112, -97.7190772], [30.259782, -97.6933244], [30.2598288, -97.6845462], [30.2599245, -97.6935197], [30.2600671, -97.6938717], [30.2604842, -97.6715341], [30.2605631, -97.7417628], [30.2608388, -97.6982908], [30.2611088, -97.6868471], [30.2612203, -97.7367715], [30.2612799, -97.7075372], [30.2612894, -97.7407578], [30.261496, -97.7243789], [30.2617417, -97.7187189], [30.2624355, -97.7031259], [30.2628548, -97.7585626], [30.262977, -97.6641576], [30.2630383, -97.7446666], [30.263218, -97.705882], [30.2632513, -97.7445913], [30.263696, -97.7451091], [30.26397489999999, -97.7713831], [30.2643141, -97.7039318], [30.264439, -97.7570733], [30.2646806, -97.7189908], [30.2648115, -97.7162015], [30.265279, -97.7428502], [30.2655121, -97.5889668], [30.2655736, -97.6955164], [30.2659155, -97.6965095], [30.2663089, -97.5225881], [30.2663351, -97.7413843], [30.2669775, -97.6997752], [30.267153, -97.7430608], [30.2672781, -97.6801833], [30.2674348, -97.6836178], [30.2680173, -97.711779], [30.2681316, -97.6816673], [30.2689942, -97.756992], [30.269764, -97.7591144], [30.27012599999999, -97.4686595], [30.270578, -97.6849022], [30.271325, -97.4663029], [30.2715396, -97.7539935], [30.2717659, -97.7532992], [30.2718241, -97.6859076], [30.2721527, -97.7236152], [30.2721706, -97.8143474], [30.2724136, -97.6506361], [30.2724945, -97.7557399], [30.2730809, -97.6388335], [30.2730917, -97.7984886], [30.2739309, -97.7563771], [30.2739749, -97.7170817], [30.274855, -97.6870325], [30.274863, -97.6240247], [30.2751363, -97.7011749], [30.2752126, -97.636015], [30.2752405, -97.7295938], [30.2753899, -97.7548697], [30.2754277, -97.6235587], [30.2755986, -97.6231244], [30.27606159999999, -97.8341395], [30.2767301, -97.6805437], [30.2768544, -97.7003386], [30.2769743, -97.7572869], [30.2769942, -97.6853882], [30.2770152, -97.6205295], [30.2777368, -97.7519198], [30.2778105, -97.6326257], [30.2787612, -97.6800879], [30.2787646, -97.6718476], [30.2789614, -97.6870409], [30.2799397, -97.7202221], [30.2801154, -97.6804801], [30.2804388, -97.7172809], [30.2804875, -97.7205605], [30.2806048, -97.7403322], [30.2806944, -97.6896817], [30.2807938, -97.7039742], [30.2809332, -97.6619533], [30.2812798, -97.5768017], [30.28135049999999, -97.6095368], [30.28178509999999, -97.6776372], [30.281916, -97.7077084], [30.2824587, -97.70232], [30.2826079, -97.62707], [30.2826358, -97.6688208], [30.2827529, -97.6729331], [30.2827895, -97.6532107], [30.2828172, -97.7843758], [30.2828889, -97.7414899], [30.2829232, -97.4547246], [30.2829713, -97.7544112], [30.28319159999999, -97.704414], [30.2832385, -97.5166772], [30.2835385, -97.7022352], [30.2838667, -97.7035076], [30.2848309, -97.767456], [30.285172, -97.6386265], [30.2852936, -97.6597703], [30.2855457, -97.6647957], [30.2858245, -97.6826628], [30.285888, -97.6736963], [30.2863024, -97.7555115], [30.2864406, -98.0656039], [30.2867584, -97.7244946], [30.2868476, -97.6611479], [30.2869694, -97.7116518], [30.2876669, -97.6358506], [30.2876828, -97.6373852], [30.2879172, -97.7446605], [30.2882029, -97.6441095], [30.2883586, -97.75045550000002], [30.2884675, -97.6472456], [30.2884692, -97.6441518], [30.2885307, -97.6304436], [30.2888935, -97.6418487], [30.2889866, -97.7488073], [30.2895953, -97.6731027], [30.2899083, -97.6386852], [30.2902771, -97.6475731], [30.2912881, -97.6279347], [30.2920754, -97.6688536], [30.2935142, -97.745763], [30.2937582, -97.6459953], [30.2939387, -97.6302529], [30.2953977, -97.7198393], [30.2965875, -97.7676557], [30.296695, -97.6256135], [30.2978649, -97.7180865], [30.2981358, -97.6870582], [30.2988363, -97.6297427], [30.2995402, -97.7525571], [30.2996622, -97.7367052], [30.2998731, -97.6244907], [30.3006634, -97.6447028], [30.3014622, -97.6830242], [30.3022594, -97.7275975], [30.3028642, -97.8843353], [30.30389749999999, -97.6990269], [30.3041671, -97.624056], [30.3055446, -97.6981212], [30.3063387, -97.6770033], [30.3068413, -97.6722548], [30.3069125, -97.7736497], [30.3070066, -97.7245893], [30.3073194, -97.7755347], [30.30742789999999, -97.6973153], [30.3079761, -97.6223447], [30.30803879999999, -97.6762409], [30.3081273, -97.6778089], [30.3083108, -97.6982908], [30.3083962, -97.6724668], [30.3086925, -97.6691203], [30.3088951, -97.6417787], [30.3090007, -97.670559], [30.3090288, -97.7533735], [30.309171, -97.9376578], [30.3094768, -97.7407154], [30.3104513, -97.7071766], [30.3108948, -97.6578138], [30.3114096, -97.7053527], [30.3118682, -98.0903878], [30.3121093, -97.5315994], [30.3127192, -97.6590708], [30.3130182, -97.6715341], [30.3134234, -97.7374995], [30.3136563, -97.7316709], [30.3139959, -97.670135], [30.3143633, -97.6554262], [30.3144092, -97.7433559], [30.3145973, -97.7158303], [30.3151578, -97.694727], [30.31587979999999, -97.7026977], [30.3158964, -97.6682697], [30.3160645, -97.6248297], [30.3162994, -97.6690328], [30.316956, -97.690785], [30.3182198, -97.6706437], [30.3187966, -97.7034652], [30.3188588, -97.6875826], [30.3194893, -97.6933308], [30.31949449999999, -97.71971200000002], [30.3195375, -97.6954493], [30.3199387, -97.7269684], [30.3205232, -97.6952478], [30.32053399999999, -97.7216318], [30.3205602, -97.7534652], [30.3212784, -97.7253229], [30.3213724, -97.6943011], [30.3213887, -97.6547589], [30.3213959, -97.756187], [30.3236325, -97.469066], [30.3237196, -97.6839212], [30.3243993, -97.5292707], [30.325776, -97.6944346], [30.3263551, -97.6838299], [30.3273684, -97.6913706], [30.3275754, -97.9584638], [30.3289999, -97.6929047], [30.3290832, -97.6745519], [30.3306051, -97.6796957], [30.331041, -97.7040339], [30.3311138, -97.7003887], [30.3311223, -97.6994359], [30.33147799999999, -97.7104853], [30.3325659, -97.6646027], [30.3325902, -97.6852038], [30.33272879999999, -97.928495], [30.3329236, -97.696976], [30.3334111, -97.6989386], [30.3336226, -97.7035035], [30.3343548, -97.4928539], [30.3345038, -97.7062435], [30.3365917, -97.7061374], [30.3367808, -97.7314521], [30.3368492, -97.7154273], [30.3369532, -97.6996268], [30.3371592, -97.7048649], [30.33725849999999, -97.6784661], [30.337577, -97.7188216], [30.3378036, -97.5577734], [30.3383022, -97.5519822], [30.3390233, -97.6868597], [30.3391567, -97.7191817], [30.3403491, -97.8634017], [30.3404951, -97.6913674], [30.3407629, -97.5569456], [30.3410398, -97.7301069], [30.3413339, -97.7137728], [30.341677, -97.5789498], [30.3423028, -97.7065896], [30.342945, -97.6951277], [30.3429819, -97.6991178], [30.3430029, -97.690021], [30.3430475, -97.5254924], [30.3433299, -97.861213], [30.3437783, -97.7055064], [30.3440003, -97.7150441], [30.3442106, -97.5279543], [30.3444048, -97.6977607], [30.3445202, -97.7026381], [30.3446809, -97.7052255], [30.3448898, -97.6741458], [30.3453721, -97.5258091], [30.3458042, -97.7335586], [30.3460048, -97.6971094], [30.3473896, -97.6137139], [30.3490389, -97.7273065], [30.3493663, -97.7047165], [30.3496688, -97.750882], [30.349691, -97.51878], [30.350086, -97.6708133], [30.3501181, -97.6109558], [30.350215, -97.6899362], [30.3507625, -97.6961368], [30.3516011, -97.6185384], [30.35161969999999, -97.8062055], [30.3519279, -97.7261914], [30.35207309999999, -98.0632645], [30.3523505, -97.510109], [30.3523533, -97.6999873], [30.3523648, -97.6932547], [30.3525683, -97.5261627], [30.353213, -97.7674773], [30.3536404, -97.6921838], [30.35377, -97.75282], [30.3542887, -97.7356889], [30.35433, -97.5060486], [30.3546431, -97.6880915], [30.3551153, -97.7154555], [30.3552006, -97.7885355], [30.3554977, -97.8027225], [30.3556886, -97.69599], [30.356083, -97.6846043], [30.3563387, -97.7022352], [30.3569869, -97.7293325], [30.3573785, -97.7963614], [30.3576489, -97.6993723], [30.3579348, -97.6874687], [30.35794509999999, -97.6897877], [30.3583764, -97.6775121], [30.3588053, -97.6740705], [30.3590361, -97.7319526], [30.3590904, -97.6889608], [30.3599217, -97.7328967], [30.3604848, -97.6979705], [30.360886, -97.6933747], [30.3609725, -97.7408831], [30.3623807, -97.7098278], [30.3628622, -97.7863903], [30.3628694, -97.7000297], [30.36294899999999, -97.7123305], [30.3635761, -97.6286958], [30.36388079999999, -97.6883597], [30.364953, -97.709849], [30.3656964, -97.6843756], [30.36615, -97.7104216], [30.3666219, -98.0069357], [30.3666334, -97.6833449], [30.3675161, -97.5181037], [30.3683169, -97.7294068], [30.3690814, -97.7047377], [30.3696807, -97.7044408], [30.3697917, -97.6748198], [30.36984009999999, -97.6500362], [30.370025, -97.7077069], [30.3703018, -97.7026381], [30.370457, -97.5189704], [30.3709241, -97.6970185], [30.37146389999999, -97.705423], [30.3714826, -97.6996904], [30.3714845, -97.527707], [30.3715289, -97.7542473], [30.3717593, -97.6846723], [30.3717852, -97.7161697], [30.3723341, -97.7148334], [30.3727466, -97.7328225], [30.372981, -97.678291], [30.3732428, -97.7123305], [30.3732431, -97.7142182], [30.3734264, -97.7156606], [30.3737164, -97.7175696], [30.373837, -97.6882187], [30.37386769999999, -97.6979515], [30.3740488, -97.9211555], [30.3745666, -97.6765941], [30.3746624, -97.933516], [30.3753569, -97.713285], [30.3754255, -97.6893637], [30.3756743, -97.9626359], [30.376508, -97.6862697], [30.376892, -97.6952372], [30.37713849999999, -97.6765084], [30.37757179999999, -97.6555103], [30.3780497, -97.9531994], [30.3781005, -97.6724244], [30.3782801, -97.6513494], [30.3787387, -97.6775545], [30.3789453, -97.7133194], [30.3789454, -97.6820233], [30.3791471, -97.6949403], [30.3805639, -97.7115033], [30.380667, -97.6842544], [30.3809155, -97.697998], [30.3813881, -97.7115669], [30.3815873, -97.6872463], [30.381914, -97.6743612], [30.3819627, -97.6600034], [30.3821001, -97.6801774], [30.3826085, -97.5575406], [30.3830054, -97.6605272], [30.3830804, -97.6558282], [30.3849679, -97.68425390000002], [30.3854936, -97.6943775], [30.3877026, -97.6985932], [30.3885678, -97.6468], [30.388929, -97.6768654], [30.388946, -97.7415005], [30.3899547, -97.7486304], [30.3899549, -97.6584138], [30.39007359999999, -97.7349568], [30.3903915, -97.7152524], [30.3923896, -97.6456134], [30.3936148, -97.7053315], [30.39377409999999, -97.6412894], [30.3938243, -97.8840356], [30.3953837, -97.8835552], [30.395498, -97.6962537], [30.3961684, -97.6908691], [30.3970563, -97.7654837], [30.39715739999999, -97.6374563], [30.3971595, -97.73051], [30.3980944, -97.6615506], [30.3983054, -97.6434526], [30.3990436, -97.6795458], [30.3998742, -97.7027654], [30.40059, -97.7077442], [30.4007398, -97.6530732], [30.4007625, -97.748853], [30.403226, -97.6490698], [30.4033977, -97.6985983], [30.4035593, -97.6383844], [30.4053348, -97.7443015], [30.4071372, -97.6318213], [30.4075849, -97.6690963], [30.40852959999999, -97.7207833], [30.4088846, -97.6945162], [30.4094637, -97.6992127], [30.4115224, -97.9263143], [30.4124579, -97.7199878], [30.4128099, -97.7310403], [30.4133295, -97.6470761], [30.414277, -97.6712322], [30.4143058, -97.6875614], [30.4144801, -98.0403389], [30.4146036, -97.6776781], [30.4149585, -97.7083431], [30.4154318, -97.6371596], [30.4156411, -97.7376175], [30.4172645, -97.6686963], [30.4174193, -97.6511553], [30.4178911, -97.7082281], [30.4187054, -97.7001994], [30.4189307, -97.7472913], [30.4190955, -97.7021703], [30.4192957, -97.7129244], [30.4195631, -97.6864165], [30.4201069, -97.6447019], [30.42046029999999, -97.6280708], [30.42091619999999, -97.7872846], [30.4215956, -97.9441444], [30.421979, -97.7837176], [30.4220078, -97.7022887], [30.4222036, -97.6521619], [30.4225795, -97.6708981], [30.4226856, -97.7568435], [30.4238323, -97.7092127], [30.4239707, -97.6430224], [30.4249302, -98.0256496], [30.42535759999999, -97.7529038], [30.4265362, -97.8409175], [30.4276284, -97.7583504], [30.4277885, -97.6416091], [30.4287546, -97.7604728], [30.4322443, -97.780724], [30.4327221, -97.7937603], [30.4329716, -97.674099], [30.4347859, -97.7304144], [30.4348529, -97.7991972], [30.4348949, -97.6770938], [30.4362837, -97.6401683], [30.4365311, -97.7334802], [30.4369834, -97.7675972], [30.4379109, -97.7689692], [30.4395595, -97.6700614], [30.4403841, -97.6823034], [30.4412884, -97.7738329], [30.4415913, -97.6920633], [30.4419525, -97.787232], [30.4422444, -97.6856532], [30.4429279, -97.7700273], [30.4431729, -97.7680929], [30.4435144, -97.6568455], [30.4451534, -97.6567395], [30.445215, -97.7439195], [30.4466366, -97.6604273], [30.4468167, -97.6680153], [30.4471574, -97.6695828], [30.4477813, -97.7733149], [30.4478208, -97.6783682], [30.4479047, -97.8056745], [30.4485152, -97.8096674], [30.4485933, -97.6491951], [30.4486406, -97.830602], [30.4490113, -97.7976469], [30.4491013, -97.8080957], [30.4504254, -97.6083296], [30.4505272, -97.6928752], [30.4531157, -97.6060353], [30.453278, -97.754717], [30.4540989, -97.6559844], [30.4544943, -97.685047], [30.4548451, -97.6222665], [30.4551719, -97.6571422], [30.4558406, -97.7964256], [30.4559466, -97.79192], [30.4599348, -97.5837032], [30.4607344, -97.7972644], [30.4635489, -97.8459961], [30.4678277, -97.6769397], [30.4713615, -97.6788265], [30.471885, -97.5970211], [30.473716, -97.989217], [30.4748312, -97.6869148], [30.4764972, -97.8233026], [30.4799954, -97.764219], [30.4812519, -97.9384469], [30.485433, -97.5705783], [30.4871348, -97.7318567], [30.4880348, -97.7712607], [30.4913628, -97.5721355], [30.4931666, -97.5775638], [30.49757919999999, -97.7933787], [30.5209449, -97.8793244], [30.5751976, -97.9484028], [30.5769603, -98.1279602], [30.587825, -97.9760388], [31.22404049999999, -94.9711414], [32.797564, -97.2983046]],\n",
       "                {&quot;blur&quot;: 15, &quot;maxZoom&quot;: 13, &quot;minOpacity&quot;: 0.5, &quot;radius&quot;: 8}\n",
       "            ).addTo(map_823d637e28ad9f76877153741f6d0c22);\n",
       "        \n",
       "    \n",
       "            var layer_control_075f7dcd0118f1e91fc44c406adcf32b = {\n",
       "                base_layers : {\n",
       "                    &quot;openstreetmap&quot; : tile_layer_8e2ce801214917163a2c4a88c2b35dbc,\n",
       "                    &quot;cartodbpositron&quot; : tile_layer_d26dd1e56b40e3d02167878fefe28ae7,\n",
       "                },\n",
       "                overlays :  {\n",
       "                    &quot;Heat Map&quot; : heat_map_4770d9b45883bbb85043eaea1524993b,\n",
       "                },\n",
       "            };\n",
       "            L.control.layers(\n",
       "                layer_control_075f7dcd0118f1e91fc44c406adcf32b.base_layers,\n",
       "                layer_control_075f7dcd0118f1e91fc44c406adcf32b.overlays,\n",
       "                {&quot;autoZIndex&quot;: true, &quot;collapsed&quot;: false, &quot;position&quot;: &quot;topright&quot;}\n",
       "            ).addTo(map_823d637e28ad9f76877153741f6d0c22);\n",
       "            tile_layer_d26dd1e56b40e3d02167878fefe28ae7.remove();\n",
       "        \n",
       "&lt;/script&gt;\" style=\"position:absolute;width:100%;height:100%;left:0;top:0;border:none !important;\" allowfullscreen webkitallowfullscreen mozallowfullscreen></iframe></div></div>"
      ],
      "text/plain": [
       "<folium.folium.Map at 0x7fb31301b430>"
      ]
     },
     "execution_count": 12,
     "metadata": {},
     "output_type": "execute_result"
    }
   ],
   "source": [
    "# Maps\n",
    "def generateBaseMap(default_location=[30, -97.733330], default_zoom_start=10):\n",
    "    base_map = folium.Map(location=default_location,\n",
    "                          control_scale=True, zoom_start=default_zoom_start)\n",
    "    return base_map\n",
    "\n",
    "\n",
    "basemap = generateBaseMap()\n",
    "\n",
    "folium.TileLayer('cartodbpositron').add_to(basemap)\n",
    "folium.Marker(location=[30.2527847, -97.6926073],\n",
    "              popup='Austin Animal Shelter',\n",
    "              icon=folium.Icon(color='green', icon='info-sign')).add_to(basemap)\n",
    "HeatMap(data=geocoded_df[['latitude', 'longitude']].groupby(['latitude', 'longitude']).sum(\n",
    ").reset_index().values.tolist(), radius=8, max_zoom=13, name='Heat Map').add_to(basemap)\n",
    "folium.LayerControl(collapsed=False).add_to(basemap)\n",
    "basemap\n"
   ]
  },
  {
   "cell_type": "markdown",
   "metadata": {},
   "source": [
    "First lets plot animal age by type. As we can see there's a concerning amount of outliers by animal type in our data (that is observations 1.5\\*IQR + 3Q). This is something we ought to drop later on.\n"
   ]
  },
  {
   "cell_type": "code",
   "execution_count": 14,
   "metadata": {},
   "outputs": [
    {
     "data": {
      "text/plain": [
       "Text(0.5, 1.0, 'Average Ages of Animals (All)')"
      ]
     },
     "execution_count": 14,
     "metadata": {},
     "output_type": "execute_result"
    },
    {
     "data": {
      "image/png": "[encoded data removed]",
      "text/plain": [
       "<Figure size 432x288 with 1 Axes>"
      ]
     },
     "metadata": {
      "needs_background": "light"
     },
     "output_type": "display_data"
    }
   ],
   "source": [
    "# animal ages\n",
    "ax = sns.boxplot(x=\"animal_type\", y=\"age\", showfliers=True, data=merged_df)\n",
    "ax.set_ylabel(\"Age (Months)\")\n",
    "ax.set_xlabel(\"Animal Type\")\n",
    "ax.set_title(\"Average Ages of Animals (All)\")\n",
    "\n"
   ]
  },
  {
   "cell_type": "markdown",
   "metadata": {},
   "source": [
    "It seems like there's a fair amount of outliers by animal type, lets fix this now before I move on with EDA.\n"
   ]
  },
  {
   "cell_type": "code",
   "execution_count": 15,
   "metadata": {},
   "outputs": [
    {
     "data": {
      "text/plain": [
       "Text(0.5, 1.0, 'Ages without Outliers')"
      ]
     },
     "execution_count": 15,
     "metadata": {},
     "output_type": "execute_result"
    },
    {
     "data": {
      "image/png": "[encoded data removed]",
      "text/plain": [
       "<Figure size 432x288 with 1 Axes>"
      ]
     },
     "metadata": {
      "needs_background": "light"
     },
     "output_type": "display_data"
    }
   ],
   "source": [
    "def iqr_drop(df):\n",
    "    q1 = df.age.quantile(0.25)\n",
    "    q3 = df.age.quantile(0.75)\n",
    "    iqr = q3 - q1\n",
    "    df = df.iloc[np.where((q1 - 1.5*iqr < df.age) &\n",
    "                          (df.age < q3 + 1.5*iqr))[0], :]\n",
    "    return df\n",
    "\n",
    "\n",
    "df = merged_df\n",
    "for i in merged_df.animal_type.unique():\n",
    "    q1 = df[df.animal_type == i].age.quantile(0.25)\n",
    "    q3 = df[df.animal_type == i].age.quantile(0.75)\n",
    "    iqr = q3 - q1\n",
    "    drop_q1 = q1 - 1.5*iqr\n",
    "    drop_q3 = q3 + 1.5*iqr\n",
    "    df = df.drop(df[(df.animal_type == i) &\n",
    "                    (df.age < drop_q1)].index)\n",
    "    df = df.drop(df[(df.animal_type == i) &\n",
    "                    (df.age > drop_q3)].index)\n",
    "\n",
    "merged_df_clean = df\n",
    "\n",
    "\n",
    "ax = sns.boxplot(x=\"animal_type\", y=\"age\",\n",
    "                 showfliers=True, data=merged_df_clean)\n",
    "ax.set_title(\"Ages without Outliers\")\n"
   ]
  },
  {
   "cell_type": "code",
   "execution_count": 16,
   "metadata": {},
   "outputs": [
    {
     "data": {
      "text/plain": [
       "<matplotlib.legend.Legend at 0x7fb312fc4130>"
      ]
     },
     "execution_count": 16,
     "metadata": {},
     "output_type": "execute_result"
    },
    {
     "data": {
      "image/png": "[encoded data removed]",
      "text/plain": [
       "<Figure size 432x288 with 1 Axes>"
      ]
     },
     "metadata": {
      "needs_background": "light"
     },
     "output_type": "display_data"
    }
   ],
   "source": [
    "ax = sns.violinplot(x='animal_type', y=\"age\", data=merged_df_clean,\n",
    "                    hue='rehomed_in_30_days', split='True', palette='rainbow')\n",
    "ax.set_ylabel(\"Age (Months)\")\n",
    "ax.set_xlabel(\"Animal Type\")\n",
    "ax.set_title(\"Adoption, Age, and Animal Type\")\n",
    "ax.legend(title=\"Rehomed in 30 Days\",\n",
    "          loc='best', fontsize='small')\n"
   ]
  },
  {
   "cell_type": "code",
   "execution_count": 17,
   "metadata": {},
   "outputs": [
    {
     "data": {
      "text/html": [
       "<div>\n",
       "<style scoped>\n",
       "    .dataframe tbody tr th:only-of-type {\n",
       "        vertical-align: middle;\n",
       "    }\n",
       "\n",
       "    .dataframe tbody tr th {\n",
       "        vertical-align: top;\n",
       "    }\n",
       "\n",
       "    .dataframe thead tr th {\n",
       "        text-align: left;\n",
       "    }\n",
       "\n",
       "    .dataframe thead tr:last-of-type th {\n",
       "        text-align: right;\n",
       "    }\n",
       "</style>\n",
       "<table border=\"1\" class=\"dataframe\">\n",
       "  <thead>\n",
       "    <tr>\n",
       "      <th></th>\n",
       "      <th colspan=\"2\" halign=\"left\">mean</th>\n",
       "      <th colspan=\"2\" halign=\"left\">sum</th>\n",
       "    </tr>\n",
       "    <tr>\n",
       "      <th></th>\n",
       "      <th>Rehomed</th>\n",
       "      <th>Rehomed Within 30 Days</th>\n",
       "      <th>Rehomed</th>\n",
       "      <th>Rehomed Within 30 Days</th>\n",
       "    </tr>\n",
       "    <tr>\n",
       "      <th>Animal Type</th>\n",
       "      <th></th>\n",
       "      <th></th>\n",
       "      <th></th>\n",
       "      <th></th>\n",
       "    </tr>\n",
       "  </thead>\n",
       "  <tbody>\n",
       "    <tr>\n",
       "      <th>Bird</th>\n",
       "      <td>0.41</td>\n",
       "      <td>0.39</td>\n",
       "      <td>270</td>\n",
       "      <td>258</td>\n",
       "    </tr>\n",
       "    <tr>\n",
       "      <th>Cat</th>\n",
       "      <td>0.52</td>\n",
       "      <td>0.29</td>\n",
       "      <td>23984</td>\n",
       "      <td>13426</td>\n",
       "    </tr>\n",
       "    <tr>\n",
       "      <th>Dog</th>\n",
       "      <td>0.75</td>\n",
       "      <td>0.64</td>\n",
       "      <td>52810</td>\n",
       "      <td>45003</td>\n",
       "    </tr>\n",
       "    <tr>\n",
       "      <th>Livestock</th>\n",
       "      <td>0.68</td>\n",
       "      <td>0.32</td>\n",
       "      <td>17</td>\n",
       "      <td>8</td>\n",
       "    </tr>\n",
       "    <tr>\n",
       "      <th>Other</th>\n",
       "      <td>0.10</td>\n",
       "      <td>0.08</td>\n",
       "      <td>736</td>\n",
       "      <td>561</td>\n",
       "    </tr>\n",
       "    <tr>\n",
       "      <th>Total</th>\n",
       "      <td>0.62</td>\n",
       "      <td>0.47</td>\n",
       "      <td>77817</td>\n",
       "      <td>59256</td>\n",
       "    </tr>\n",
       "  </tbody>\n",
       "</table>\n",
       "</div>"
      ],
      "text/plain": [
       "               mean                            sum                       \n",
       "            Rehomed Rehomed Within 30 Days Rehomed Rehomed Within 30 Days\n",
       "Animal Type                                                              \n",
       "Bird           0.41                   0.39     270                    258\n",
       "Cat            0.52                   0.29   23984                  13426\n",
       "Dog            0.75                   0.64   52810                  45003\n",
       "Livestock      0.68                   0.32      17                      8\n",
       "Other          0.10                   0.08     736                    561\n",
       "Total          0.62                   0.47   77817                  59256"
      ]
     },
     "execution_count": 17,
     "metadata": {},
     "output_type": "execute_result"
    }
   ],
   "source": [
    "table_df = pd.DataFrame()\n",
    "table_df['Rehomed'] = merged_df_clean['rehomed']\n",
    "table_df['Rehomed Within 30 Days'] = merged_df_clean['rehomed_in_30_days']\n",
    "table_df['Animal Type'] = merged_df_clean['animal_type']\n",
    "table_df['Intake Type'] = merged_df_clean['intake_type']\n",
    "\n",
    "pivot = np.round(pd.pivot_table(table_df, index=['Animal Type'],\n",
    "                                values=['Rehomed', 'Rehomed Within 30 Days'],\n",
    "                                aggfunc=[np.mean, np.sum],\n",
    "                                margins=True,\n",
    "                                margins_name='Total'), 2)\n",
    "\n",
    "pivot\n"
   ]
  },
  {
   "cell_type": "code",
   "execution_count": 18,
   "metadata": {},
   "outputs": [
    {
     "data": {
      "text/html": [
       "<div>\n",
       "<style scoped>\n",
       "    .dataframe tbody tr th:only-of-type {\n",
       "        vertical-align: middle;\n",
       "    }\n",
       "\n",
       "    .dataframe tbody tr th {\n",
       "        vertical-align: top;\n",
       "    }\n",
       "\n",
       "    .dataframe thead tr th {\n",
       "        text-align: left;\n",
       "    }\n",
       "\n",
       "    .dataframe thead tr:last-of-type th {\n",
       "        text-align: right;\n",
       "    }\n",
       "</style>\n",
       "<table border=\"1\" class=\"dataframe\">\n",
       "  <thead>\n",
       "    <tr>\n",
       "      <th></th>\n",
       "      <th colspan=\"2\" halign=\"left\">mean</th>\n",
       "      <th colspan=\"2\" halign=\"left\">sum</th>\n",
       "    </tr>\n",
       "    <tr>\n",
       "      <th></th>\n",
       "      <th>Rehomed</th>\n",
       "      <th>Rehomed Within 30 Days</th>\n",
       "      <th>Rehomed</th>\n",
       "      <th>Rehomed Within 30 Days</th>\n",
       "    </tr>\n",
       "    <tr>\n",
       "      <th>Intake Type</th>\n",
       "      <th></th>\n",
       "      <th></th>\n",
       "      <th></th>\n",
       "      <th></th>\n",
       "    </tr>\n",
       "  </thead>\n",
       "  <tbody>\n",
       "    <tr>\n",
       "      <th>Abandoned</th>\n",
       "      <td>0.68</td>\n",
       "      <td>0.47</td>\n",
       "      <td>530</td>\n",
       "      <td>372</td>\n",
       "    </tr>\n",
       "    <tr>\n",
       "      <th>Euthanasia Request</th>\n",
       "      <td>0.11</td>\n",
       "      <td>0.05</td>\n",
       "      <td>11</td>\n",
       "      <td>5</td>\n",
       "    </tr>\n",
       "    <tr>\n",
       "      <th>Owner Surrender</th>\n",
       "      <td>0.70</td>\n",
       "      <td>0.54</td>\n",
       "      <td>16598</td>\n",
       "      <td>12789</td>\n",
       "    </tr>\n",
       "    <tr>\n",
       "      <th>Public Assist</th>\n",
       "      <td>0.80</td>\n",
       "      <td>0.73</td>\n",
       "      <td>5538</td>\n",
       "      <td>5084</td>\n",
       "    </tr>\n",
       "    <tr>\n",
       "      <th>Stray</th>\n",
       "      <td>0.63</td>\n",
       "      <td>0.47</td>\n",
       "      <td>55133</td>\n",
       "      <td>41000</td>\n",
       "    </tr>\n",
       "    <tr>\n",
       "      <th>Wildlife</th>\n",
       "      <td>0.00</td>\n",
       "      <td>0.00</td>\n",
       "      <td>7</td>\n",
       "      <td>6</td>\n",
       "    </tr>\n",
       "    <tr>\n",
       "      <th>Total</th>\n",
       "      <td>0.62</td>\n",
       "      <td>0.47</td>\n",
       "      <td>77817</td>\n",
       "      <td>59256</td>\n",
       "    </tr>\n",
       "  </tbody>\n",
       "</table>\n",
       "</div>"
      ],
      "text/plain": [
       "                      mean                            sum  \\\n",
       "                   Rehomed Rehomed Within 30 Days Rehomed   \n",
       "Intake Type                                                 \n",
       "Abandoned             0.68                   0.47     530   \n",
       "Euthanasia Request    0.11                   0.05      11   \n",
       "Owner Surrender       0.70                   0.54   16598   \n",
       "Public Assist         0.80                   0.73    5538   \n",
       "Stray                 0.63                   0.47   55133   \n",
       "Wildlife              0.00                   0.00       7   \n",
       "Total                 0.62                   0.47   77817   \n",
       "\n",
       "                                           \n",
       "                   Rehomed Within 30 Days  \n",
       "Intake Type                                \n",
       "Abandoned                             372  \n",
       "Euthanasia Request                      5  \n",
       "Owner Surrender                     12789  \n",
       "Public Assist                        5084  \n",
       "Stray                               41000  \n",
       "Wildlife                                6  \n",
       "Total                               59256  "
      ]
     },
     "execution_count": 18,
     "metadata": {},
     "output_type": "execute_result"
    }
   ],
   "source": [
    "pivot = np.round(pd.pivot_table(table_df, index=['Intake Type'],\n",
    "                                values=['Rehomed', 'Rehomed Within 30 Days'],\n",
    "                                aggfunc=[np.mean, np.sum],\n",
    "                                margins=True,\n",
    "                                margins_name='Total'), 2)\n",
    "\n",
    "pivot\n"
   ]
  },
  {
   "cell_type": "code",
   "execution_count": null,
   "metadata": {},
   "outputs": [],
   "source": [
    "sns.countplot(x='animal_type', data=merged_df_clean).set_title(\n",
    "    \"Count of Animal Types\")\n"
   ]
  },
  {
   "cell_type": "code",
   "execution_count": 19,
   "metadata": {},
   "outputs": [
    {
     "data": {
      "text/plain": [
       "<seaborn.axisgrid.FacetGrid at 0x7fb2d0d56190>"
      ]
     },
     "execution_count": 19,
     "metadata": {},
     "output_type": "execute_result"
    },
    {
     "data": {
      "image/png": "[encoded data removed]",
      "text/plain": [
       "<Figure size 2160x360 with 6 Axes>"
      ]
     },
     "metadata": {},
     "output_type": "display_data"
    }
   ],
   "source": [
    "sns.set(style=\"darkgrid\")\n",
    "ax = sns.catplot(\n",
    "    x='animal_type',\n",
    "    y='rehomed_in_30_days',\n",
    "    col='intake_type',\n",
    "    data=merged_df_clean,\n",
    "    kind='bar',\n",
    "    ci=None\n",
    ")\n",
    "ax.set_ylabels('Adopted Within 30 Days')\n",
    "ax.set_xlabels('')\n"
   ]
  },
  {
   "cell_type": "code",
   "execution_count": 22,
   "metadata": {},
   "outputs": [
    {
     "ename": "ValueError",
     "evalue": "Could not interpret value `outcome_month` for parameter `x`",
     "output_type": "error",
     "traceback": [
      "\u001b[0;31m---------------------------------------------------------------------------\u001b[0m",
      "\u001b[0;31mValueError\u001b[0m                                Traceback (most recent call last)",
      "\u001b[1;32m/Users/emogel/Desktop/code/Animal_Adoption_ML_Python/Austin_Animal.ipynb Cell 30\u001b[0m in \u001b[0;36m<cell line: 1>\u001b[0;34m()\u001b[0m\n\u001b[0;32m----> <a href='vscode-notebook-cell:/Users/emogel/Desktop/code/Animal_Adoption_ML_Python/Austin_Animal.ipynb#ch0000029?line=0'>1</a>\u001b[0m sns\u001b[39m.\u001b[39;49mkdeplot(x\u001b[39m=\u001b[39;49m\u001b[39m'\u001b[39;49m\u001b[39moutcome_month\u001b[39;49m\u001b[39m'\u001b[39;49m,\n\u001b[1;32m      <a href='vscode-notebook-cell:/Users/emogel/Desktop/code/Animal_Adoption_ML_Python/Austin_Animal.ipynb#ch0000029?line=1'>2</a>\u001b[0m             data\u001b[39m=\u001b[39;49mmerged_df_clean,\n\u001b[1;32m      <a href='vscode-notebook-cell:/Users/emogel/Desktop/code/Animal_Adoption_ML_Python/Austin_Animal.ipynb#ch0000029?line=2'>3</a>\u001b[0m             fill\u001b[39m=\u001b[39;49m\u001b[39mTrue\u001b[39;49;00m)\n",
      "File \u001b[0;32m~/opt/anaconda3/lib/python3.9/site-packages/seaborn/_decorators.py:46\u001b[0m, in \u001b[0;36m_deprecate_positional_args.<locals>.inner_f\u001b[0;34m(*args, **kwargs)\u001b[0m\n\u001b[1;32m     36\u001b[0m     warnings\u001b[39m.\u001b[39mwarn(\n\u001b[1;32m     37\u001b[0m         \u001b[39m\"\u001b[39m\u001b[39mPass the following variable\u001b[39m\u001b[39m{}\u001b[39;00m\u001b[39m as \u001b[39m\u001b[39m{}\u001b[39;00m\u001b[39mkeyword arg\u001b[39m\u001b[39m{}\u001b[39;00m\u001b[39m: \u001b[39m\u001b[39m{}\u001b[39;00m\u001b[39m. \u001b[39m\u001b[39m\"\u001b[39m\n\u001b[1;32m     38\u001b[0m         \u001b[39m\"\u001b[39m\u001b[39mFrom version 0.12, the only valid positional argument \u001b[39m\u001b[39m\"\u001b[39m\n\u001b[0;32m   (...)\u001b[0m\n\u001b[1;32m     43\u001b[0m         \u001b[39mFutureWarning\u001b[39;00m\n\u001b[1;32m     44\u001b[0m     )\n\u001b[1;32m     45\u001b[0m kwargs\u001b[39m.\u001b[39mupdate({k: arg \u001b[39mfor\u001b[39;00m k, arg \u001b[39min\u001b[39;00m \u001b[39mzip\u001b[39m(sig\u001b[39m.\u001b[39mparameters, args)})\n\u001b[0;32m---> 46\u001b[0m \u001b[39mreturn\u001b[39;00m f(\u001b[39m*\u001b[39;49m\u001b[39m*\u001b[39;49mkwargs)\n",
      "File \u001b[0;32m~/opt/anaconda3/lib/python3.9/site-packages/seaborn/distributions.py:1738\u001b[0m, in \u001b[0;36mkdeplot\u001b[0;34m(x, y, shade, vertical, kernel, bw, gridsize, cut, clip, legend, cumulative, shade_lowest, cbar, cbar_ax, cbar_kws, ax, weights, hue, palette, hue_order, hue_norm, multiple, common_norm, common_grid, levels, thresh, bw_method, bw_adjust, log_scale, color, fill, data, data2, warn_singular, **kwargs)\u001b[0m\n\u001b[1;32m   1734\u001b[0m     fill \u001b[39m=\u001b[39m shade\n\u001b[1;32m   1736\u001b[0m \u001b[39m# - - - - - - - - - - - - - - - - - - - - - - - - - - - - - - - - - - - - #\u001b[39;00m\n\u001b[0;32m-> 1738\u001b[0m p \u001b[39m=\u001b[39m _DistributionPlotter(\n\u001b[1;32m   1739\u001b[0m     data\u001b[39m=\u001b[39;49mdata,\n\u001b[1;32m   1740\u001b[0m     variables\u001b[39m=\u001b[39;49m_DistributionPlotter\u001b[39m.\u001b[39;49mget_semantics(\u001b[39mlocals\u001b[39;49m()),\n\u001b[1;32m   1741\u001b[0m )\n\u001b[1;32m   1743\u001b[0m p\u001b[39m.\u001b[39mmap_hue(palette\u001b[39m=\u001b[39mpalette, order\u001b[39m=\u001b[39mhue_order, norm\u001b[39m=\u001b[39mhue_norm)\n\u001b[1;32m   1745\u001b[0m \u001b[39mif\u001b[39;00m ax \u001b[39mis\u001b[39;00m \u001b[39mNone\u001b[39;00m:\n",
      "File \u001b[0;32m~/opt/anaconda3/lib/python3.9/site-packages/seaborn/distributions.py:111\u001b[0m, in \u001b[0;36m_DistributionPlotter.__init__\u001b[0;34m(self, data, variables)\u001b[0m\n\u001b[1;32m    105\u001b[0m \u001b[39mdef\u001b[39;00m \u001b[39m__init__\u001b[39m(\n\u001b[1;32m    106\u001b[0m     \u001b[39mself\u001b[39m,\n\u001b[1;32m    107\u001b[0m     data\u001b[39m=\u001b[39m\u001b[39mNone\u001b[39;00m,\n\u001b[1;32m    108\u001b[0m     variables\u001b[39m=\u001b[39m{},\n\u001b[1;32m    109\u001b[0m ):\n\u001b[0;32m--> 111\u001b[0m     \u001b[39msuper\u001b[39;49m()\u001b[39m.\u001b[39;49m\u001b[39m__init__\u001b[39;49m(data\u001b[39m=\u001b[39;49mdata, variables\u001b[39m=\u001b[39;49mvariables)\n",
      "File \u001b[0;32m~/opt/anaconda3/lib/python3.9/site-packages/seaborn/_core.py:605\u001b[0m, in \u001b[0;36mVectorPlotter.__init__\u001b[0;34m(self, data, variables)\u001b[0m\n\u001b[1;32m    603\u001b[0m \u001b[39mdef\u001b[39;00m \u001b[39m__init__\u001b[39m(\u001b[39mself\u001b[39m, data\u001b[39m=\u001b[39m\u001b[39mNone\u001b[39;00m, variables\u001b[39m=\u001b[39m{}):\n\u001b[0;32m--> 605\u001b[0m     \u001b[39mself\u001b[39;49m\u001b[39m.\u001b[39;49massign_variables(data, variables)\n\u001b[1;32m    607\u001b[0m     \u001b[39mfor\u001b[39;00m var, \u001b[39mcls\u001b[39m \u001b[39min\u001b[39;00m \u001b[39mself\u001b[39m\u001b[39m.\u001b[39m_semantic_mappings\u001b[39m.\u001b[39mitems():\n\u001b[1;32m    608\u001b[0m \n\u001b[1;32m    609\u001b[0m         \u001b[39m# Create the mapping function\u001b[39;00m\n\u001b[1;32m    610\u001b[0m         map_func \u001b[39m=\u001b[39m partial(\u001b[39mcls\u001b[39m\u001b[39m.\u001b[39mmap, plotter\u001b[39m=\u001b[39m\u001b[39mself\u001b[39m)\n",
      "File \u001b[0;32m~/opt/anaconda3/lib/python3.9/site-packages/seaborn/_core.py:668\u001b[0m, in \u001b[0;36mVectorPlotter.assign_variables\u001b[0;34m(self, data, variables)\u001b[0m\n\u001b[1;32m    666\u001b[0m \u001b[39melse\u001b[39;00m:\n\u001b[1;32m    667\u001b[0m     \u001b[39mself\u001b[39m\u001b[39m.\u001b[39minput_format \u001b[39m=\u001b[39m \u001b[39m\"\u001b[39m\u001b[39mlong\u001b[39m\u001b[39m\"\u001b[39m\n\u001b[0;32m--> 668\u001b[0m     plot_data, variables \u001b[39m=\u001b[39m \u001b[39mself\u001b[39;49m\u001b[39m.\u001b[39;49m_assign_variables_longform(\n\u001b[1;32m    669\u001b[0m         data, \u001b[39m*\u001b[39;49m\u001b[39m*\u001b[39;49mvariables,\n\u001b[1;32m    670\u001b[0m     )\n\u001b[1;32m    672\u001b[0m \u001b[39mself\u001b[39m\u001b[39m.\u001b[39mplot_data \u001b[39m=\u001b[39m plot_data\n\u001b[1;32m    673\u001b[0m \u001b[39mself\u001b[39m\u001b[39m.\u001b[39mvariables \u001b[39m=\u001b[39m variables\n",
      "File \u001b[0;32m~/opt/anaconda3/lib/python3.9/site-packages/seaborn/_core.py:903\u001b[0m, in \u001b[0;36mVectorPlotter._assign_variables_longform\u001b[0;34m(self, data, **kwargs)\u001b[0m\n\u001b[1;32m    898\u001b[0m \u001b[39melif\u001b[39;00m \u001b[39misinstance\u001b[39m(val, (\u001b[39mstr\u001b[39m, \u001b[39mbytes\u001b[39m)):\n\u001b[1;32m    899\u001b[0m \n\u001b[1;32m    900\u001b[0m     \u001b[39m# This looks like a column name but we don't know what it means!\u001b[39;00m\n\u001b[1;32m    902\u001b[0m     err \u001b[39m=\u001b[39m \u001b[39mf\u001b[39m\u001b[39m\"\u001b[39m\u001b[39mCould not interpret value `\u001b[39m\u001b[39m{\u001b[39;00mval\u001b[39m}\u001b[39;00m\u001b[39m` for parameter `\u001b[39m\u001b[39m{\u001b[39;00mkey\u001b[39m}\u001b[39;00m\u001b[39m`\u001b[39m\u001b[39m\"\u001b[39m\n\u001b[0;32m--> 903\u001b[0m     \u001b[39mraise\u001b[39;00m \u001b[39mValueError\u001b[39;00m(err)\n\u001b[1;32m    905\u001b[0m \u001b[39melse\u001b[39;00m:\n\u001b[1;32m    906\u001b[0m \n\u001b[1;32m    907\u001b[0m     \u001b[39m# Otherwise, assume the value is itself data\u001b[39;00m\n\u001b[1;32m    908\u001b[0m \n\u001b[1;32m    909\u001b[0m     \u001b[39m# Raise when data object is present and a vector can't matched\u001b[39;00m\n\u001b[1;32m    910\u001b[0m     \u001b[39mif\u001b[39;00m \u001b[39misinstance\u001b[39m(data, pd\u001b[39m.\u001b[39mDataFrame) \u001b[39mand\u001b[39;00m \u001b[39mnot\u001b[39;00m \u001b[39misinstance\u001b[39m(val, pd\u001b[39m.\u001b[39mSeries):\n",
      "\u001b[0;31mValueError\u001b[0m: Could not interpret value `outcome_month` for parameter `x`"
     ]
    }
   ],
   "source": [
    "sns.kdeplot(x='outcome_month',\n",
    "            data=merged_df_clean,\n",
    "            fill=True)\n"
   ]
  },
  {
   "cell_type": "code",
   "execution_count": 21,
   "metadata": {},
   "outputs": [
    {
     "data": {
      "text/plain": [
       "animal_type\n",
       "Bird                    Chicken Mix\n",
       "Cat          Domestic Shorthair Mix\n",
       "Dog                    Pit Bull Mix\n",
       "Livestock                       Pig\n",
       "Other                           Bat\n",
       "Name: breed, dtype: object"
      ]
     },
     "execution_count": 21,
     "metadata": {},
     "output_type": "execute_result"
    }
   ],
   "source": [
    "def mode(x): return x.mode() if len(x) > 2 else np.array(x)\n",
    "\n",
    "\n",
    "merged_df_clean.groupby('animal_type')['breed'].agg(mode)\n"
   ]
  },
  {
   "cell_type": "code",
   "execution_count": 20,
   "metadata": {},
   "outputs": [
    {
     "data": {
      "text/plain": [
       "animal_type\n",
       "Bird           82\n",
       "Cat            85\n",
       "Dog          2309\n",
       "Livestock       8\n",
       "Other         123\n",
       "Name: breed, dtype: int64"
      ]
     },
     "execution_count": 20,
     "metadata": {},
     "output_type": "execute_result"
    }
   ],
   "source": [
    "merged_df_clean.groupby('animal_type')['breed'].nunique()\n",
    "\n",
    "\n"
   ]
  },
  {
   "cell_type": "code",
   "execution_count": 121,
   "metadata": {},
   "outputs": [
    {
     "data": {
      "text/html": [
       "<div>\n",
       "<style scoped>\n",
       "    .dataframe tbody tr th:only-of-type {\n",
       "        vertical-align: middle;\n",
       "    }\n",
       "\n",
       "    .dataframe tbody tr th {\n",
       "        vertical-align: top;\n",
       "    }\n",
       "\n",
       "    .dataframe thead th {\n",
       "        text-align: right;\n",
       "    }\n",
       "</style>\n",
       "<table border=\"1\" class=\"dataframe\">\n",
       "  <thead>\n",
       "    <tr style=\"text-align: right;\">\n",
       "      <th></th>\n",
       "      <th>animal_id</th>\n",
       "      <th>intake_datetime</th>\n",
       "      <th>datetime2</th>\n",
       "      <th>found_location</th>\n",
       "      <th>intake_type</th>\n",
       "      <th>intake_condition</th>\n",
       "      <th>animal_type</th>\n",
       "      <th>sex_upon_intake</th>\n",
       "      <th>age_upon_intake</th>\n",
       "      <th>breed</th>\n",
       "      <th>...</th>\n",
       "      <th>merge_counter</th>\n",
       "      <th>outcome_type</th>\n",
       "      <th>outcome_datetime</th>\n",
       "      <th>_merge</th>\n",
       "      <th>age</th>\n",
       "      <th>purebred</th>\n",
       "      <th>days</th>\n",
       "      <th>adopted</th>\n",
       "      <th>rehomed</th>\n",
       "      <th>rehomed_in_30_days</th>\n",
       "    </tr>\n",
       "  </thead>\n",
       "  <tbody>\n",
       "    <tr>\n",
       "      <th>21</th>\n",
       "      <td>A862678</td>\n",
       "      <td>2022-07-29 11:19:00</td>\n",
       "      <td>2022-07-29T11:19:00.000</td>\n",
       "      <td>22801 Hog Eye Rd in Travis (TX)</td>\n",
       "      <td>Stray</td>\n",
       "      <td>Neonatal</td>\n",
       "      <td>Cat</td>\n",
       "      <td>Intact Female</td>\n",
       "      <td>1 day</td>\n",
       "      <td>Domestic Shorthair</td>\n",
       "      <td>...</td>\n",
       "      <td>1</td>\n",
       "      <td>Transfer</td>\n",
       "      <td>2022-07-29 13:05:00</td>\n",
       "      <td>both</td>\n",
       "      <td>0.033333</td>\n",
       "      <td>0</td>\n",
       "      <td>0.073611</td>\n",
       "      <td>0</td>\n",
       "      <td>0</td>\n",
       "      <td>0</td>\n",
       "    </tr>\n",
       "    <tr>\n",
       "      <th>22</th>\n",
       "      <td>A862679</td>\n",
       "      <td>2022-07-29 11:19:00</td>\n",
       "      <td>2022-07-29T11:19:00.000</td>\n",
       "      <td>22801 Hog Eye Rd in Travis (TX)</td>\n",
       "      <td>Stray</td>\n",
       "      <td>Neonatal</td>\n",
       "      <td>Cat</td>\n",
       "      <td>Intact Male</td>\n",
       "      <td>1 day</td>\n",
       "      <td>Domestic Shorthair</td>\n",
       "      <td>...</td>\n",
       "      <td>1</td>\n",
       "      <td>Transfer</td>\n",
       "      <td>2022-07-29 13:05:00</td>\n",
       "      <td>both</td>\n",
       "      <td>0.033333</td>\n",
       "      <td>0</td>\n",
       "      <td>0.073611</td>\n",
       "      <td>0</td>\n",
       "      <td>0</td>\n",
       "      <td>0</td>\n",
       "    </tr>\n",
       "    <tr>\n",
       "      <th>49</th>\n",
       "      <td>A862630</td>\n",
       "      <td>2022-07-28 16:16:00</td>\n",
       "      <td>2022-07-28T16:16:00.000</td>\n",
       "      <td>Rowe Lane And Carries Ranch Road in Travis (TX)</td>\n",
       "      <td>Stray</td>\n",
       "      <td>Normal</td>\n",
       "      <td>Dog</td>\n",
       "      <td>Intact Female</td>\n",
       "      <td>1 year</td>\n",
       "      <td>Staffordshire Mix</td>\n",
       "      <td>...</td>\n",
       "      <td>1</td>\n",
       "      <td>Return to Owner</td>\n",
       "      <td>2022-07-28 18:19:00</td>\n",
       "      <td>both</td>\n",
       "      <td>12.000000</td>\n",
       "      <td>0</td>\n",
       "      <td>0.085417</td>\n",
       "      <td>0</td>\n",
       "      <td>1</td>\n",
       "      <td>1</td>\n",
       "    </tr>\n",
       "    <tr>\n",
       "      <th>69</th>\n",
       "      <td>A862595</td>\n",
       "      <td>2022-07-27 22:02:00</td>\n",
       "      <td>2022-07-27T22:02:00.000</td>\n",
       "      <td>Austin (TX)</td>\n",
       "      <td>Wildlife</td>\n",
       "      <td>Normal</td>\n",
       "      <td>Other</td>\n",
       "      <td>Unknown</td>\n",
       "      <td>2 years</td>\n",
       "      <td>Bat</td>\n",
       "      <td>...</td>\n",
       "      <td>1</td>\n",
       "      <td>Disposal</td>\n",
       "      <td>2022-07-28 14:17:00</td>\n",
       "      <td>both</td>\n",
       "      <td>24.000000</td>\n",
       "      <td>0</td>\n",
       "      <td>0.677083</td>\n",
       "      <td>0</td>\n",
       "      <td>0</td>\n",
       "      <td>0</td>\n",
       "    </tr>\n",
       "    <tr>\n",
       "      <th>85</th>\n",
       "      <td>A862571</td>\n",
       "      <td>2022-07-27 14:44:00</td>\n",
       "      <td>2022-07-27T14:44:00.000</td>\n",
       "      <td>Northbound 35 Just Past Slaughter in Austin (TX)</td>\n",
       "      <td>Stray</td>\n",
       "      <td>Normal</td>\n",
       "      <td>Dog</td>\n",
       "      <td>Intact Male</td>\n",
       "      <td>2 years</td>\n",
       "      <td>Border Collie</td>\n",
       "      <td>...</td>\n",
       "      <td>1</td>\n",
       "      <td>Return to Owner</td>\n",
       "      <td>2022-07-28 15:34:00</td>\n",
       "      <td>both</td>\n",
       "      <td>24.000000</td>\n",
       "      <td>1</td>\n",
       "      <td>1.034722</td>\n",
       "      <td>0</td>\n",
       "      <td>1</td>\n",
       "      <td>1</td>\n",
       "    </tr>\n",
       "    <tr>\n",
       "      <th>...</th>\n",
       "      <td>...</td>\n",
       "      <td>...</td>\n",
       "      <td>...</td>\n",
       "      <td>...</td>\n",
       "      <td>...</td>\n",
       "      <td>...</td>\n",
       "      <td>...</td>\n",
       "      <td>...</td>\n",
       "      <td>...</td>\n",
       "      <td>...</td>\n",
       "      <td>...</td>\n",
       "      <td>...</td>\n",
       "      <td>...</td>\n",
       "      <td>...</td>\n",
       "      <td>...</td>\n",
       "      <td>...</td>\n",
       "      <td>...</td>\n",
       "      <td>...</td>\n",
       "      <td>...</td>\n",
       "      <td>...</td>\n",
       "      <td>...</td>\n",
       "    </tr>\n",
       "    <tr>\n",
       "      <th>142568</th>\n",
       "      <td>A664238</td>\n",
       "      <td>2013-10-01 09:33:00</td>\n",
       "      <td>2013-10-01T09:33:00.000</td>\n",
       "      <td>Outside Jurisdiction</td>\n",
       "      <td>Stray</td>\n",
       "      <td>Normal</td>\n",
       "      <td>Cat</td>\n",
       "      <td>Unknown</td>\n",
       "      <td>4 months</td>\n",
       "      <td>American Shorthair Mix</td>\n",
       "      <td>...</td>\n",
       "      <td>1</td>\n",
       "      <td>Euthanasia</td>\n",
       "      <td>2013-10-01 16:47:00</td>\n",
       "      <td>both</td>\n",
       "      <td>4.000000</td>\n",
       "      <td>0</td>\n",
       "      <td>0.301389</td>\n",
       "      <td>0</td>\n",
       "      <td>0</td>\n",
       "      <td>0</td>\n",
       "    </tr>\n",
       "    <tr>\n",
       "      <th>142569</th>\n",
       "      <td>A664233</td>\n",
       "      <td>2013-10-01 08:53:00</td>\n",
       "      <td>2013-10-01T08:53:00.000</td>\n",
       "      <td>7405 Springtime in Austin (TX)</td>\n",
       "      <td>Stray</td>\n",
       "      <td>Injured</td>\n",
       "      <td>Dog</td>\n",
       "      <td>Intact Female</td>\n",
       "      <td>3 years</td>\n",
       "      <td>Pit Bull Mix</td>\n",
       "      <td>...</td>\n",
       "      <td>1</td>\n",
       "      <td>Euthanasia</td>\n",
       "      <td>2013-10-01 15:33:00</td>\n",
       "      <td>both</td>\n",
       "      <td>36.000000</td>\n",
       "      <td>0</td>\n",
       "      <td>0.277778</td>\n",
       "      <td>0</td>\n",
       "      <td>0</td>\n",
       "      <td>0</td>\n",
       "    </tr>\n",
       "    <tr>\n",
       "      <th>142570</th>\n",
       "      <td>A664235</td>\n",
       "      <td>2013-10-01 08:33:00</td>\n",
       "      <td>2013-10-01T08:33:00.000</td>\n",
       "      <td>Abia in Austin (TX)</td>\n",
       "      <td>Stray</td>\n",
       "      <td>Normal</td>\n",
       "      <td>Cat</td>\n",
       "      <td>Unknown</td>\n",
       "      <td>1 week</td>\n",
       "      <td>Domestic Shorthair Mix</td>\n",
       "      <td>...</td>\n",
       "      <td>1</td>\n",
       "      <td>Transfer</td>\n",
       "      <td>2013-10-01 10:39:00</td>\n",
       "      <td>both</td>\n",
       "      <td>0.250000</td>\n",
       "      <td>0</td>\n",
       "      <td>0.087500</td>\n",
       "      <td>0</td>\n",
       "      <td>0</td>\n",
       "      <td>0</td>\n",
       "    </tr>\n",
       "    <tr>\n",
       "      <th>142571</th>\n",
       "      <td>A664236</td>\n",
       "      <td>2013-10-01 08:33:00</td>\n",
       "      <td>2013-10-01T08:33:00.000</td>\n",
       "      <td>Abia in Austin (TX)</td>\n",
       "      <td>Stray</td>\n",
       "      <td>Normal</td>\n",
       "      <td>Cat</td>\n",
       "      <td>Unknown</td>\n",
       "      <td>1 week</td>\n",
       "      <td>Domestic Shorthair Mix</td>\n",
       "      <td>...</td>\n",
       "      <td>1</td>\n",
       "      <td>Transfer</td>\n",
       "      <td>2013-10-01 10:44:00</td>\n",
       "      <td>both</td>\n",
       "      <td>0.250000</td>\n",
       "      <td>0</td>\n",
       "      <td>0.090972</td>\n",
       "      <td>0</td>\n",
       "      <td>0</td>\n",
       "      <td>0</td>\n",
       "    </tr>\n",
       "    <tr>\n",
       "      <th>142572</th>\n",
       "      <td>A664237</td>\n",
       "      <td>2013-10-01 08:33:00</td>\n",
       "      <td>2013-10-01T08:33:00.000</td>\n",
       "      <td>Abia in Austin (TX)</td>\n",
       "      <td>Stray</td>\n",
       "      <td>Normal</td>\n",
       "      <td>Cat</td>\n",
       "      <td>Unknown</td>\n",
       "      <td>1 week</td>\n",
       "      <td>Domestic Shorthair Mix</td>\n",
       "      <td>...</td>\n",
       "      <td>1</td>\n",
       "      <td>Transfer</td>\n",
       "      <td>2013-10-01 10:44:00</td>\n",
       "      <td>both</td>\n",
       "      <td>0.250000</td>\n",
       "      <td>0</td>\n",
       "      <td>0.090972</td>\n",
       "      <td>0</td>\n",
       "      <td>0</td>\n",
       "      <td>0</td>\n",
       "    </tr>\n",
       "  </tbody>\n",
       "</table>\n",
       "<p>124890 rows × 23 columns</p>\n",
       "</div>"
      ],
      "text/plain": [
       "0      animal_id     intake_datetime                datetime2  \\\n",
       "21       A862678 2022-07-29 11:19:00  2022-07-29T11:19:00.000   \n",
       "22       A862679 2022-07-29 11:19:00  2022-07-29T11:19:00.000   \n",
       "49       A862630 2022-07-28 16:16:00  2022-07-28T16:16:00.000   \n",
       "69       A862595 2022-07-27 22:02:00  2022-07-27T22:02:00.000   \n",
       "85       A862571 2022-07-27 14:44:00  2022-07-27T14:44:00.000   \n",
       "...          ...                 ...                      ...   \n",
       "142568   A664238 2013-10-01 09:33:00  2013-10-01T09:33:00.000   \n",
       "142569   A664233 2013-10-01 08:53:00  2013-10-01T08:53:00.000   \n",
       "142570   A664235 2013-10-01 08:33:00  2013-10-01T08:33:00.000   \n",
       "142571   A664236 2013-10-01 08:33:00  2013-10-01T08:33:00.000   \n",
       "142572   A664237 2013-10-01 08:33:00  2013-10-01T08:33:00.000   \n",
       "\n",
       "0                                         found_location intake_type  \\\n",
       "21                       22801 Hog Eye Rd in Travis (TX)       Stray   \n",
       "22                       22801 Hog Eye Rd in Travis (TX)       Stray   \n",
       "49       Rowe Lane And Carries Ranch Road in Travis (TX)       Stray   \n",
       "69                                           Austin (TX)    Wildlife   \n",
       "85      Northbound 35 Just Past Slaughter in Austin (TX)       Stray   \n",
       "...                                                  ...         ...   \n",
       "142568                              Outside Jurisdiction       Stray   \n",
       "142569                    7405 Springtime in Austin (TX)       Stray   \n",
       "142570                               Abia in Austin (TX)       Stray   \n",
       "142571                               Abia in Austin (TX)       Stray   \n",
       "142572                               Abia in Austin (TX)       Stray   \n",
       "\n",
       "0      intake_condition animal_type sex_upon_intake age_upon_intake  \\\n",
       "21             Neonatal         Cat   Intact Female           1 day   \n",
       "22             Neonatal         Cat     Intact Male           1 day   \n",
       "49               Normal         Dog   Intact Female          1 year   \n",
       "69               Normal       Other         Unknown         2 years   \n",
       "85               Normal         Dog     Intact Male         2 years   \n",
       "...                 ...         ...             ...             ...   \n",
       "142568           Normal         Cat         Unknown        4 months   \n",
       "142569          Injured         Dog   Intact Female         3 years   \n",
       "142570           Normal         Cat         Unknown          1 week   \n",
       "142571           Normal         Cat         Unknown          1 week   \n",
       "142572           Normal         Cat         Unknown          1 week   \n",
       "\n",
       "0                        breed  ... merge_counter     outcome_type  \\\n",
       "21          Domestic Shorthair  ...             1         Transfer   \n",
       "22          Domestic Shorthair  ...             1         Transfer   \n",
       "49           Staffordshire Mix  ...             1  Return to Owner   \n",
       "69                         Bat  ...             1         Disposal   \n",
       "85               Border Collie  ...             1  Return to Owner   \n",
       "...                        ...  ...           ...              ...   \n",
       "142568  American Shorthair Mix  ...             1       Euthanasia   \n",
       "142569            Pit Bull Mix  ...             1       Euthanasia   \n",
       "142570  Domestic Shorthair Mix  ...             1         Transfer   \n",
       "142571  Domestic Shorthair Mix  ...             1         Transfer   \n",
       "142572  Domestic Shorthair Mix  ...             1         Transfer   \n",
       "\n",
       "0         outcome_datetime  _merge        age purebred      days  adopted  \\\n",
       "21     2022-07-29 13:05:00    both   0.033333        0  0.073611        0   \n",
       "22     2022-07-29 13:05:00    both   0.033333        0  0.073611        0   \n",
       "49     2022-07-28 18:19:00    both  12.000000        0  0.085417        0   \n",
       "69     2022-07-28 14:17:00    both  24.000000        0  0.677083        0   \n",
       "85     2022-07-28 15:34:00    both  24.000000        1  1.034722        0   \n",
       "...                    ...     ...        ...      ...       ...      ...   \n",
       "142568 2013-10-01 16:47:00    both   4.000000        0  0.301389        0   \n",
       "142569 2013-10-01 15:33:00    both  36.000000        0  0.277778        0   \n",
       "142570 2013-10-01 10:39:00    both   0.250000        0  0.087500        0   \n",
       "142571 2013-10-01 10:44:00    both   0.250000        0  0.090972        0   \n",
       "142572 2013-10-01 10:44:00    both   0.250000        0  0.090972        0   \n",
       "\n",
       "0       rehomed  rehomed_in_30_days  \n",
       "21            0                   0  \n",
       "22            0                   0  \n",
       "49            1                   1  \n",
       "69            0                   0  \n",
       "85            1                   1  \n",
       "...         ...                 ...  \n",
       "142568        0                   0  \n",
       "142569        0                   0  \n",
       "142570        0                   0  \n",
       "142571        0                   0  \n",
       "142572        0                   0  \n",
       "\n",
       "[124890 rows x 23 columns]"
      ]
     },
     "execution_count": 121,
     "metadata": {},
     "output_type": "execute_result"
    }
   ],
   "source": [
    "\n",
    "\n",
    "(\n",
    "    pd\n",
    "    .get_dummies(merged_df_clean.animal_type)\n",
    "    .join(merged_df_clean)\n",
    "    .corr()\n",
    "    .reset_index()\n",
    "    .tail(2)\n",
    "    .style.background_gradient(axis=1, cmap='Greens')\n",
    ")\n",
    "\n",
    "merged_df_clean"
   ]
  },
  {
   "cell_type": "markdown",
   "metadata": {},
   "source": [
    "### Dealing with Strings\n",
    "\n",
    "I have a strong interest in using the animal's name, found location, intake type, condition, breed, and color in our analysis. First I need to actually clean the text before I can vectorize them.\n",
    "\n",
    "As a note: This portion was heavily inspired by the AWS course where they introduced me to text cleaning and vectorization tools.\n",
    "\n",
    "What I have in mind is this:\n",
    "\n",
    "1. Use SnowballStemmer to simplify longer strings like colors, address, or name\n",
    "2. Get rid of useless characters such as \"/\" \"\\*\" \"()\" \".\" in strings\n",
    "3. Remove any white space\n"
   ]
  },
  {
   "cell_type": "code",
   "execution_count": null,
   "metadata": {},
   "outputs": [],
   "source": [
    "# First SnowballStemmer\n",
    "\n",
    "# specify stop_words: words that can be ignored when simplifying our strings\n",
    "stop_words = [\"a\", \"an\", \"the\", \"this\", \"that\", \"is\", \"it\", \"to\", \"and\"]\n",
    "\n",
    "stemmer = SnowballStemmer('english')\n",
    "\n",
    "\n",
    "def preProcessText(text):\n",
    "    # lowercase and strip leading/trailing white space\n",
    "    text = text.lower().strip()\n",
    "\n",
    "    # remove HTML tags\n",
    "    text = re.compile('<.*?>').sub('', text)\n",
    "\n",
    "    # remove punctuation\n",
    "    text = re.compile('[%s]' % re.escape(string.punctuation)).sub(' ', text)\n",
    "\n",
    "    # remove extra white space\n",
    "    text = re.sub('\\s+', ' ', text)\n",
    "\n",
    "    return text\n",
    "\n",
    "\n",
    "def lexiconProcess(text, stop_words, stemmer):\n",
    "    filtered_sentence = []\n",
    "    words = text.split(\" \")\n",
    "    for w in words:\n",
    "        if w not in stop_words:\n",
    "            filtered_sentence.append(stemmer.stem(w))\n",
    "    text = \" \".join(filtered_sentence)\n",
    "\n",
    "    return text\n",
    "\n",
    "\n",
    "def cleanSentence(text, stop_words, stemmer):\n",
    "    return lexiconProcess(preProcessText(text), stop_words, stemmer)\n",
    "\n",
    "\n",
    "# Clean the text features\n",
    "for c in ['name', 'breed', 'color', 'found_location', 'intake_condition']:\n",
    "    print('Text cleaning: ', c)\n",
    "    merged_df_clean[c] = [cleanSentence(\n",
    "        item, stop_words, stemmer) for item in merged_df_clean[c].values]\n",
    "    merged_df[c] = [cleanSentence(item, stop_words, stemmer)\n",
    "                    for item in merged_df[c].values]\n"
   ]
  },
  {
   "cell_type": "markdown",
   "metadata": {},
   "source": [
    "## Feature Selection & Train Test Split\n"
   ]
  },
  {
   "cell_type": "markdown",
   "metadata": {},
   "source": [
    "### Selecting Features + Outcome:\n",
    "\n",
    "After EDA and some manual observation I believe I found a set of interesting features to use to predict adoption and rehoming. To simplfy this process down the road I will specify three type of features that I will use (and subsequently clean).\n",
    "\n",
    "1. Numerical: Any feature that is continuos or ordinal, i.e. the feature is coded in such a way that high or lower values correspond to some implicit ordering or intensity. Think age, income, weight, size, etc..\n",
    "2. Categorical: Any feature that can be broken in discrete values, however unlike ordinal, higher or lower values do not correspond to any ordering or intensity. Think color, breed, etc..\n",
    "3. String: Any feature whose information is encoded as a string, where no well defined structure is present. Think name, address, review, etc..\n"
   ]
  },
  {
   "cell_type": "code",
   "execution_count": 23,
   "metadata": {},
   "outputs": [
    {
     "data": {
      "text/plain": [
       "Index(['animal_id', 'intake_datetime', 'datetime2', 'found_location',\n",
       "       'intake_type', 'intake_condition', 'animal_type', 'sex_upon_intake',\n",
       "       'age_upon_intake', 'breed', 'color', 'name_avail', 'month',\n",
       "       'merge_counter', 'outcome_type', 'outcome_datetime', '_merge', 'age',\n",
       "       'purebred', 'days', 'adopted', 'rehomed', 'rehomed_in_30_days'],\n",
       "      dtype='object', name=0)"
      ]
     },
     "execution_count": 23,
     "metadata": {},
     "output_type": "execute_result"
    }
   ],
   "source": [
    "merged_df_clean.columns\n"
   ]
  },
  {
   "cell_type": "code",
   "execution_count": 24,
   "metadata": {},
   "outputs": [],
   "source": [
    "num_feats = ['age', 'merge_counter']\n",
    "cat_feats = ['animal_type', 'intake_month',\n",
    "             'sex_upon_intake', 'intake_condition', 'purebred']\n",
    "# Include color + breed in strings as these features contain multiple values that can be seemingly mixed up. I don't want to treat a pit-bull/lab mix any differently as a lab/put-bull mix.\n",
    "str_feats = ['name', 'color', 'breed', 'found_location']\n"
   ]
  },
  {
   "cell_type": "code",
   "execution_count": null,
   "metadata": {},
   "outputs": [],
   "source": [
    "# Lets specify our Y for now:\n",
    "x = num_feats + cat_feats + str_feats\n",
    "y = 'rehomed_in_30_days'\n"
   ]
  },
  {
   "cell_type": "code",
   "execution_count": null,
   "metadata": {},
   "outputs": [],
   "source": [
    "train_data, test_data = train_test_split(\n",
    "    merged_df, test_size=0.2, shuffle=True, random_state=1)\n",
    "\n",
    "# From the test data further split into validation (we use throughout process) & test (use only at end)\n",
    "val_data, test_data = train_test_split(\n",
    "    test_data, test_size=0.5, shuffle=True, random_state=1)\n"
   ]
  },
  {
   "cell_type": "markdown",
   "metadata": {},
   "source": [
    "Let's ensure the training and test data have an equal size amount of outcomes to train over.\n"
   ]
  },
  {
   "cell_type": "code",
   "execution_count": null,
   "metadata": {},
   "outputs": [],
   "source": [
    "outcome_0_train = train_data[train_data[y] == 0]\n",
    "outcome_1_train = train_data[train_data[y] == 1]\n",
    "\n",
    "print(f'Class 0 in Training proportion is: {len(outcome_0_train)}')\n",
    "print(f'Class 1 in Training proportion is: {len(outcome_1_train)}')\n",
    "\n",
    "outcome_0_test = test_data[test_data[y] == 0]\n",
    "outcome_1_test = test_data[test_data[y] == 1]\n",
    "\n",
    "print(f'Class 0 in Testing proportion is:{len(outcome_0_test)}')\n",
    "print(f'Class 1 in Testing proportion is:{len(outcome_1_test)}')\n"
   ]
  },
  {
   "cell_type": "code",
   "execution_count": null,
   "metadata": {},
   "outputs": [],
   "source": [
    "upsampled_class_1_no = outcome_1_train.sample(\n",
    "    n=len(outcome_0_train), replace=True, random_state=1)\n",
    "train_data = pd.concat([outcome_0_train, upsampled_class_1_no])\n",
    "train_data = train_data.sample(frac=1).reset_index(drop=True)\n",
    "\n",
    "outcome_0_train = train_data[train_data[y] == 0]\n",
    "outcome_1_train = train_data[train_data[y] == 1]\n",
    "\n",
    "print(f'Class 0 in Training proportion is: {len(outcome_0_train)}')\n",
    "print(f'Class 1 in Training proportion is: {len(outcome_1_train)}')\n"
   ]
  },
  {
   "cell_type": "markdown",
   "metadata": {},
   "source": [
    "## Process Data + Build Pipline\n",
    "\n",
    "Below we will process our data (transform categorical into dummies and vectorize text data), then create a pipeline that can take in any new data and work it into our models seamlessly.\n",
    "\n",
    "For numerical values we'll:\n",
    "\n",
    "1. Impute any missing values with the mean (we saw very early on not many age's were missing, so a simple imputation will work well)\n",
    "2. Standardize values (for non-tree models)\n",
    "\n",
    "For categorical we'll:\n",
    "\n",
    "1. Impute any missing with a unique categorical value (missing column = 1)\n",
    "2. Transform into dummies with onehotencoder.\n",
    "\n",
    "For Strings we'll:\n",
    "\n",
    "1. Vectorize (just like creating dummies that equal 1 if the word exist in the row)\n"
   ]
  },
  {
   "cell_type": "markdown",
   "metadata": {},
   "source": []
  },
  {
   "cell_type": "code",
   "execution_count": null,
   "metadata": {},
   "outputs": [],
   "source": [
    "num_pipe_tree = Pipeline([\n",
    "    ('num_tree_imputer', SimpleImputer(strategy='mean'))\n",
    "])\n",
    "\n",
    "num_pipe = Pipeline([\n",
    "    ('num_imputer', SimpleImputer(strategy='mean')),\n",
    "    ('standardize', StandardScaler())\n",
    "])\n",
    "\n",
    "cat_pipe = Pipeline([\n",
    "    ('cat_imputer', SimpleImputer(strategy='constant',\n",
    "                                  fill_value='missing')),\n",
    "    ('coder', OneHotEncoder(handle_unknown='ignore'))\n",
    "])\n",
    "\n",
    "\n",
    "text_pipe_name = Pipeline([\n",
    "    ('text_vect_name', CountVectorizer(binary=True, max_features=50))\n",
    "])\n",
    "text_pipe_location = Pipeline([\n",
    "    ('text_vect_name', CountVectorizer(binary=True, max_features=150))\n",
    "])\n",
    "text_pipe_breed = Pipeline([\n",
    "    ('text_vect_name', CountVectorizer(binary=True))\n",
    "])\n",
    "text_pipe_color = Pipeline([\n",
    "    ('text_vect_name', CountVectorizer(binary=True, max_features=50))\n",
    "])\n",
    "\n",
    "\n",
    "# Put all into a single transformer\n",
    "tree_transformer = ColumnTransformer([\n",
    "    ('numerical_transform', num_pipe_tree, num_feats),\n",
    "    ('categorical_transform', cat_pipe, cat_feats),\n",
    "    ('text_transform_name', text_pipe_name, str_feats[0]),\n",
    "    ('text_transform_color', text_pipe_color, str_feats[1]),\n",
    "    ('text_transform_breed', text_pipe_breed, str_feats[2]),\n",
    "    ('text_transform_loc', text_pipe_location, str_feats[3])\n",
    "\n",
    "])\n",
    "\n",
    "logit_transformer = ColumnTransformer([\n",
    "    ('numerical_transform', num_pipe, num_feats),\n",
    "    ('categorical_transform', cat_pipe, cat_feats),\n",
    "    ('text_transform_name', text_pipe_name, str_feats[0]),\n",
    "    ('text_transform_color', text_pipe_color, str_feats[1]),\n",
    "    ('text_transform_breed', text_pipe_breed, str_feats[2]),\n",
    "    ('text_transform_loc', text_pipe_location, str_feats[3])\n",
    "])\n"
   ]
  },
  {
   "cell_type": "markdown",
   "metadata": {},
   "source": [
    "### Specify Models to Run\n"
   ]
  },
  {
   "cell_type": "code",
   "execution_count": null,
   "metadata": {},
   "outputs": [],
   "source": [
    "# Get train data to train the network\n",
    "X_train = train_data[x]\n",
    "y_train = train_data[y]\n",
    "\n",
    "# Get validation data to validate the network\n",
    "X_val = val_data[x]\n",
    "y_val = val_data[y]\n",
    "\n",
    "# Get test data to test the network\n",
    "X_test = test_data[x]\n",
    "y_test = test_data[y]\n",
    "\n",
    "print('Datasets shapes before processing: ',\n",
    "      X_train.shape, X_val.shape, X_test.shape)\n",
    "\n",
    "a = tree_transformer.fit_transform(X_train)\n",
    "b = tree_transformer.transform(X_val)\n",
    "c = tree_transformer.transform(X_test)\n",
    "\n",
    "print('Datasets shapes after processing: ', a.shape, b.shape, c.shape)\n"
   ]
  },
  {
   "cell_type": "code",
   "execution_count": null,
   "metadata": {},
   "outputs": [],
   "source": [
    "# Classic Tree\n",
    "classic_tree = DecisionTreeClassifier(random_state=1)\n",
    "classic = Pipeline([\n",
    "    (\"preprocessor\", tree_transformer),\n",
    "    (\"classic_tree\", classic_tree)\n",
    "])\n",
    "\n",
    "# Random Tree\n",
    "rfc_tree = RandomForestClassifier(random_state=1)\n",
    "rfc = Pipeline([\n",
    "    (\"preprocessor\", tree_transformer),\n",
    "    (\"rfc_tree\", rfc_tree)\n",
    "])\n",
    "\n",
    "# Random Tree\n",
    "ada_tree = AdaBoostClassifier(random_state=1)\n",
    "ada = Pipeline([\n",
    "    (\"preprocessor\", tree_transformer),\n",
    "    (\"ada_tree\", ada_tree)\n",
    "])\n",
    "\n",
    "\n",
    "# log\n",
    "log = Pipeline([\n",
    "    (\"preprocessor\", logit_transformer),\n",
    "    (\"log\", LogisticRegression(max_iter=1000000000000))\n",
    "])\n",
    "\n",
    "# regularized log\n",
    "log_l2_pipe = Pipeline([\n",
    "    (\"preprocessor\", logit_transformer),\n",
    "    (\"log\", LogisticRegression(penalty='l2',\n",
    "                               solver='saga',\n",
    "                               C=.01,\n",
    "                               max_iter=1000))])\n"
   ]
  },
  {
   "cell_type": "code",
   "execution_count": null,
   "metadata": {},
   "outputs": [],
   "source": [
    "from sklearn import set_config\n",
    "set_config(display='diagram')\n",
    "rfc\n"
   ]
  },
  {
   "cell_type": "markdown",
   "metadata": {},
   "source": [
    "## Fit & Run Naive Models\n"
   ]
  },
  {
   "cell_type": "code",
   "execution_count": null,
   "metadata": {},
   "outputs": [],
   "source": [
    "rfc.fit(X_train, y_train)\n",
    "classic.fit(X_train, y_train)\n",
    "ada.fit(X_train, y_train)\n",
    "log.fit(X_train, y_train)\n",
    "log_l2_pipe.fit(X_train, y_train)\n"
   ]
  },
  {
   "cell_type": "code",
   "execution_count": null,
   "metadata": {},
   "outputs": [],
   "source": [
    "rfc_tree.get_params(deep=True)\n"
   ]
  },
  {
   "cell_type": "code",
   "execution_count": null,
   "metadata": {},
   "outputs": [],
   "source": [
    "train_predictions_rfc = rfc.predict(X_val)\n",
    "print(\"RFC TREE:\", classification_report(y_val, train_predictions_rfc))\n",
    "train_predictions_class = classic.predict(X_val)\n",
    "print(\"DECISION TREE:\", classification_report(y_val, train_predictions_class))\n",
    "train_predictions_ada = ada.predict(X_val)\n",
    "print(\"ADA TREE:\", classification_report(y_val, train_predictions_ada))\n",
    "train_predictions_log = log.predict(X_val)\n",
    "print(\"LOG:\", classification_report(y_val, train_predictions_log))\n",
    "train_predictions_log_l2 = log_l2_pipe.predict(X_val)\n",
    "print(\"LOG L2:\", classification_report(y_val, train_predictions_log_l2))\n"
   ]
  },
  {
   "cell_type": "code",
   "execution_count": null,
   "metadata": {},
   "outputs": [],
   "source": [
    "a = list(rfc['preprocessor'].transformers_[1][1]\n",
    "         ['coder'].get_feature_names(cat_feats))\n",
    "b = list(sorted(rfc['preprocessor'].transformers_[2]\n",
    "         [1]['text_vect_name'].vocabulary_.keys()))\n",
    "c = list(sorted(rfc['preprocessor'].transformers_[3]\n",
    "         [1]['text_vect_name'].vocabulary_.keys()))\n",
    "d = list(sorted(rfc['preprocessor'].transformers_[4]\n",
    "         [1]['text_vect_name'].vocabulary_.keys()))\n",
    "e = list(sorted(rfc['preprocessor'].transformers_[5]\n",
    "         [1]['text_vect_name'].vocabulary_.keys()))\n",
    "\n",
    "cols = ['age'] + a + b + c + d + e\n",
    "\n",
    "coef_tree = pd.DataFrame({'features': cols, 'values': rfc_tree.feature_importances_}).sort_values(\n",
    "    by='values', ascending=False)\n"
   ]
  },
  {
   "cell_type": "code",
   "execution_count": null,
   "metadata": {},
   "outputs": [],
   "source": [
    "fig, ax = plt.subplots()\n",
    "coef_tree.head(10).plot.bar(x='features', ax=ax)\n",
    "plt.setp(ax.get_xticklabels(), rotation=30, ha='right')\n",
    "ax.set_title(\"Feature importances using GINI\")\n",
    "ax.set_ylabel(\"Mean Decrease in Impurity\")\n",
    "fig.tight_layout()\n"
   ]
  },
  {
   "cell_type": "markdown",
   "metadata": {},
   "source": [
    "### Fine-tuning Hyperparameter\n"
   ]
  },
  {
   "cell_type": "markdown",
   "metadata": {},
   "source": [
    "Classic Tree:\n"
   ]
  },
  {
   "cell_type": "code",
   "execution_count": null,
   "metadata": {},
   "outputs": [],
   "source": [
    "# Parameter grid for GridSearch\n",
    "param_grid = {'classic_tree__max_depth': [25, 100, 300],  # , 50, 75, 100, 125, 150, 200, 250],\n",
    "              'classic_tree__min_samples_leaf': [5, 10, 15],  # , 25, 30],\n",
    "              # , 25, 30, 45, 50]\n",
    "              'classic_tree__min_samples_split': [2, 5, 15]\n",
    "              }\n",
    "\n",
    "grid_search = GridSearchCV(classic,  # Base model\n",
    "                           param_grid,  # Parameters to try\n",
    "                           cv=5,  # Apply 5-fold cross validation\n",
    "                           verbose=1,  # Print summary\n",
    "                           n_jobs=-1  # Use all available processors\n",
    "                           )\n",
    "\n",
    "# Fit the GridSearch to our training data\n",
    "grid_search.fit(X_train, y_train)\n"
   ]
  },
  {
   "cell_type": "code",
   "execution_count": null,
   "metadata": {},
   "outputs": [],
   "source": [
    "print(grid_search.best_params_)\n",
    "print(grid_search.best_score_)\n",
    "classifier = grid_search.best_estimator_\n",
    "classifier.fit(X_train, y_train)\n"
   ]
  },
  {
   "cell_type": "code",
   "execution_count": null,
   "metadata": {},
   "outputs": [],
   "source": [
    "val_predictions = classifier.predict(X_val)\n",
    "print('Model performance on the train set:')\n",
    "print(confusion_matrix(y_val, val_predictions))\n",
    "print(classification_report(y_val, val_predictions))\n",
    "print(\"val accuracy:\", accuracy_score(y_val, val_predictions))\n"
   ]
  },
  {
   "cell_type": "markdown",
   "metadata": {},
   "source": [
    "Random Forest\n"
   ]
  },
  {
   "cell_type": "code",
   "execution_count": null,
   "metadata": {},
   "outputs": [],
   "source": [
    "# gridsearch cv on random forest\n",
    "\n",
    "# Parameter grid for GridSearch\n",
    "param_grid = {'rfc_tree__n_estimators': [150],  # , 50, 75, 100, 125, 150, 200, 250],\n",
    "              'rfc_tree__max_features': [.2, .5, 1.0, 'auto'],  # , 25, 30],\n",
    "              # , 50, 75, 100, 125, 150, 200, 250],\n",
    "              'rfc_tree__max_depth': [3, 10, 100],\n",
    "              'rfc_tree__min_samples_split': [2, 5, 50]  # , 25, 30, 45, 50]\n",
    "              }\n",
    "\n",
    "\n",
    "grid_search = GridSearchCV(rfc,  # Base model\n",
    "                           param_grid,  # Parameters to try\n",
    "                           cv=5,  # Apply 5-fold cross validation\n",
    "                           verbose=10,  # Print summary\n",
    "                           )\n",
    "\n",
    "# Fit the GridSearch to our training data\n",
    "grid_search.fit(X_train, y_train)\n"
   ]
  },
  {
   "cell_type": "code",
   "execution_count": null,
   "metadata": {},
   "outputs": [],
   "source": [
    "print(grid_search.best_params_)\n",
    "print(grid_search.best_score_)\n",
    "classifier = grid_search.best_estimator_\n",
    "classifier.fit(X_train, y_train)\n",
    "val_predictions = classifier.predict(X_val)\n",
    "\n",
    "print('Model performance on the train set:')\n",
    "print(confusion_matrix(y_val, val_predictions))\n",
    "print(classification_report(y_val, val_predictions))\n",
    "print(\"val accuracy:\", accuracy_score(y_val, val_predictions))\n"
   ]
  },
  {
   "cell_type": "markdown",
   "metadata": {},
   "source": [
    "ADABoosted Trees\n"
   ]
  },
  {
   "cell_type": "code",
   "execution_count": null,
   "metadata": {},
   "outputs": [],
   "source": [
    "# gridsearch cv on random forest\n",
    "\n",
    "# Parameter grid for GridSearch\n",
    "param_grid = {'ada_tree__n_estimators': [5, 150, 300],  # , 50, 75, 100, 125, 150, 200, 250],\n",
    "              'ada_tree__learning_rate': [.5, .1]\n",
    "              }\n",
    "\n",
    "\n",
    "grid_search = GridSearchCV(ada,  # Base model\n",
    "                           param_grid,  # Parameters to try\n",
    "                           cv=5,  # Apply 5-fold cross validation\n",
    "                           verbose=10,  # Print summary\n",
    "                           n_jobs=-1  # Use all available processors\n",
    "                           )\n",
    "\n",
    "# Fit the GridSearch to our training data\n",
    "grid_search.fit(X_train, y_train)\n"
   ]
  },
  {
   "cell_type": "code",
   "execution_count": null,
   "metadata": {},
   "outputs": [],
   "source": [
    "print(grid_search.best_params_)\n",
    "print(grid_search.best_score_)\n",
    "classifier = grid_search.best_estimator_\n",
    "classifier.fit(X_train, y_train)\n",
    "val_predictions = classifier.predict(X_val)\n",
    "\n",
    "print('Model performance on the train set:')\n",
    "print(confusion_matrix(y_val, val_predictions))\n",
    "print(classification_report(y_val, val_predictions))\n",
    "print(\"val accuracy:\", accuracy_score(y_val, val_predictions))\n"
   ]
  },
  {
   "cell_type": "code",
   "execution_count": null,
   "metadata": {},
   "outputs": [],
   "source": [
    "coef_logit = pd.DataFrame(zip(X_train.columns, np.transpose(\n",
    "    log.coef_.tolist()[0])), columns=['features', 'coef'])\n",
    "coef_logit = coef_logit.sort_values(by='coef', ascending=False).reset_index()\n",
    "coef_logit\n"
   ]
  },
  {
   "cell_type": "code",
   "execution_count": null,
   "metadata": {},
   "outputs": [],
   "source": [
    "coef_tree = pd.DataFrame(\n",
    "    X_train.columns, new_tree.feature_importances_, columns=['features'])\n",
    "coef_tree.sort_index(ascending=False).head(5)\n"
   ]
  },
  {
   "cell_type": "code",
   "execution_count": null,
   "metadata": {},
   "outputs": [],
   "source": [
    "coef_logit[coef_logit['features'].str.contains('Pit')]\n"
   ]
  },
  {
   "cell_type": "code",
   "execution_count": null,
   "metadata": {},
   "outputs": [],
   "source": [
    "coef_ada = pd.DataFrame(zip(X_train.columns, np.transpose(\n",
    "    rfc_tree.feature_importances_)), columns=['features', 'coef'])\n",
    "coef_ada = coef_ada.sort_values(by='coef', ascending=False).reset_index()\n",
    "coef_ada\n"
   ]
  },
  {
   "cell_type": "code",
   "execution_count": null,
   "metadata": {},
   "outputs": [],
   "source": [
    "\n",
    "print(classification_report(y_predict, y_test))\n",
    "plot_confusion_matrix(log, Scaler.transform(X_test), y_test, normalize='true')\n"
   ]
  }
 ],
 "metadata": {
  "kernelspec": {
   "display_name": "Python 3.9.12 ('base')",
   "language": "python",
   "name": "python3"
  },
  "language_info": {
   "codemirror_mode": {
    "name": "ipython",
    "version": 3
   },
   "file_extension": ".py",
   "mimetype": "text/x-python",
   "name": "python",
   "nbconvert_exporter": "python",
   "pygments_lexer": "ipython3",
   "version": "3.9.12"
  },
  "orig_nbformat": 4,
  "vscode": {
   "interpreter": {
    "hash": "19aa9901411eb2b02cebdccc8e5d6dc4d34128cfa005f9b9500219180c174beb"
   }
  }
 },
 "nbformat": 4,
 "nbformat_minor": 2
}
