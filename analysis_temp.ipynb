{
 "cells": [
  {
   "cell_type": "code",
   "execution_count": 177,
   "metadata": {},
   "outputs": [],
   "source": [
    "import numpy as np\n",
    "import pandas as pd\n",
    "import matplotlib.pyplot as plt\n",
    "import seaborn as sns\n",
    "from sklearn.preprocessing import OneHotEncoder, StandardScaler, normalize\n",
    "from sklearn.model_selection import GridSearchCV, train_test_split, GroupShuffleSplit, cross_validate, GroupKFold, StratifiedGroupKFold\n",
    "from sklearn.tree import DecisionTreeClassifier, plot_tree\n",
    "from sklearn.ensemble import RandomForestClassifier, AdaBoostClassifier\n",
    "from sklearn.metrics import confusion_matrix, classification_report, accuracy_score, roc_auc_score, balanced_accuracy_score, ConfusionMatrixDisplay, RocCurveDisplay\n",
    "from sklearn.pipeline import Pipeline\n",
    "from sklearn.compose import ColumnTransformer\n",
    "from sklearn.impute import SimpleImputer\n",
    "from sklearn.decomposition import PCA, TruncatedSVD\n",
    "from sklearn.neighbors import LocalOutlierFactor\n",
    "from sklearn.dummy import DummyClassifier\n",
    "import matplotlib.pyplot as plt\n",
    "from sklearn.linear_model import LogisticRegression, LogisticRegressionCV\n",
    "import xgboost as xgb\n",
    "from nltk.stem import SnowballStemmer\n",
    "from sklearn.feature_extraction.text import CountVectorizer, TfidfVectorizer\n",
    "from wordcloud import WordCloud \n",
    "from sentence_transformers import SentenceTransformer, util\n",
    "import statsmodels.formula.api as smf\n",
    "from sklearn.metrics import adjusted_mutual_info_score, silhouette_score, recall_score, balanced_accuracy_score\n",
    "import umap\n",
    "from sklearn.cluster import KMeans\n",
    "import plotly.express as px\n",
    "import nltk # pip install nltk\n",
    "from transformers import BertTokenizer, BertModel\n",
    "import torch\n",
    "import plotly.express as px\n",
    "from imblearn.over_sampling import SMOTE, RandomOverSampler\n",
    "from imblearn.pipeline import Pipeline, make_pipeline\n",
    "from boruta import BorutaPy\n",
    "\n",
    "\n",
    "\n",
    "import os\n",
    "try:\n",
    "    os.chdir('./Animal_Adoption_ML_Python/')\n",
    "except FileNotFoundError:\n",
    "    pass\n",
    "#https://github.com/thomaskbrown18/pet_adoption_ML_proj\n",
    "\n",
    "import warnings\n",
    "warnings.simplefilter(action='ignore', category=FutureWarning)\n",
    "warnings.simplefilter(action='ignore', category=UserWarning)\n",
    "pd.options.mode.chained_assignment = None  # default='warn'\n",
    "\n",
    "\n",
    "\n",
    "sns.set(font_scale = 2)\n",
    "sns.set_palette('muted')\n",
    "sns.set_style(style='darkgrid')"
   ]
  },
  {
   "attachments": {},
   "cell_type": "markdown",
   "metadata": {},
   "source": [
    "# Work-flow:\n",
    "1. Load data\n",
    "2. Split into train test\n",
    "3. Clean, dummy out the train data\n",
    "4. write a function that will allign test/train of any data set\n",
    "3. Attempt balancing \n",
    "    - 3.1. Undersample majority class\n",
    "    - 3.2. SMOTE directly into model\n",
    "    - 3.3. Split data so its 50/50 in training\n",
    "    - 3.4. Keep as is\n",
    "4. Feature Imporatnce \n",
    "    - 4.1. Boruta\n",
    "    - 4.2. SMOTE\n",
    "    - 4.3. Manual\n",
    "    - 4.4. None\n",
    "5. Run baselines\n",
    "6. Fine tune models\n",
    "7. XAI\n",
    "    - 7.1. SHAP\n",
    "\n",
    "\n",
    "\n",
    "I want to ensure I catch all unadopted animals more than anything, so a measure that aims at this is what I need (recall)"
   ]
  },
  {
   "attachments": {},
   "cell_type": "markdown",
   "metadata": {},
   "source": [
    "# Load and Break Data into Animal Types"
   ]
  },
  {
   "cell_type": "code",
   "execution_count": 178,
   "metadata": {},
   "outputs": [],
   "source": [
    "df = pd.read_csv('cleaned_df', index_col=0)\n",
    "df_dog = (df.loc[df.animal_type=='Dog'])\n",
    "\n",
    "#flip the adopted outcome so the minority class (not adopted) is our '1' value.\n",
    "df_dog['not_adopted'] = np.where(df_dog['adopted'] == 1, 0, 1)"
   ]
  },
  {
   "attachments": {},
   "cell_type": "markdown",
   "metadata": {},
   "source": [
    "Break into Test and Train Data:"
   ]
  },
  {
   "cell_type": "code",
   "execution_count": 179,
   "metadata": {},
   "outputs": [
    {
     "name": "stdout",
     "output_type": "stream",
     "text": [
      "Train:\n",
      "Class 0 for not_adopted is: 49730\n",
      "Class 1 in not_adopted is: 16804\n",
      "Proportion class 1 is 0.25\n",
      "\\Validation:\n",
      "Class 0 for not_adopted is: 12518\n",
      "Class 1 in not_adopted is: 4061\n",
      "Proportion class 1 is 0.24\n"
     ]
    }
   ],
   "source": [
    "#Split \n",
    "train_ix, test_ix = next(GroupShuffleSplit(test_size=0.2, n_splits=2, random_state=10).split(df_dog, groups=df_dog['animal_id']))\n",
    "train = df_dog.iloc[train_ix]\n",
    "test = df_dog.iloc[test_ix]\n",
    "\n",
    "def print_imbalance(df, y):\n",
    "    neg = df[y].value_counts()[0]\n",
    "    pos = df[y].value_counts()[1]\n",
    "    print('Class 0 for {} is: {}'.format(y, neg))\n",
    "    print('Class 1 in {} is: {}'.format(y, pos))\n",
    "    print('Proportion class 1 is {:.2f}'.format(pos/(pos+neg)))\n",
    "\n",
    "print('Train:')\n",
    "print_imbalance(train, 'not_adopted')\n",
    "\n",
    "print('\\Validation:')\n",
    "print_imbalance(test, 'not_adopted')\n"
   ]
  },
  {
   "attachments": {},
   "cell_type": "markdown",
   "metadata": {},
   "source": [
    "Define Cleaning Functions:"
   ]
  },
  {
   "cell_type": "code",
   "execution_count": 180,
   "metadata": {},
   "outputs": [],
   "source": [
    "\n",
    "def dummy_breed_color(df, var_list):\n",
    "    for var in var_list:\n",
    "        var_one = var + '_one'\n",
    "        var_two = var + '_two'\n",
    "        temp_df = df[['animal_id',var_one, var_two]]\n",
    "        var_one_encoded = pd.get_dummies(temp_df[var_one], prefix=var)\n",
    "        var_two_encoded = pd.get_dummies(temp_df[var_two], prefix=var)\n",
    "        merged = var_one_encoded.add(var_two_encoded, fill_value=0)\n",
    "        merged = pd.concat([temp_df['animal_id'], merged], axis=1)\n",
    "        merged = merged.groupby('animal_id').sum()\n",
    "        merged = merged.applymap(lambda x: 1 if x>1 else x).reset_index()\n",
    "        df = df.merge(merged, left_on='animal_id', right_on='animal_id', how='left')\n",
    "        df.drop(columns=[var_one, var_two, var+'_drop', var], inplace=True)\n",
    "    return df \n",
    "\n",
    "def create_cat(df, var_list):\n",
    "    for var in var_list:\n",
    "        if df[var].nunique() == 2:\n",
    "            temp = pd.get_dummies(df[var], prefix=var, drop_first=True)\n",
    "        else:\n",
    "            temp = pd.get_dummies(df[var], prefix=var)\n",
    "        df = pd.concat([df.drop(columns=var),temp], axis=1)\n",
    "    return df\n",
    "\n",
    "def log_values(df, var_list):\n",
    "    for i in var_list:\n",
    "        df[i] = np.log(df[i]+1)\n",
    "    return df \n",
    "\n",
    "def drop_low_cats(df, var_list, drop_val):\n",
    "    counts = df.loc[:, df.columns.str.contains('|'.join(var_list))].sum()\n",
    "    mask = counts < drop_val\n",
    "    # get the index values where the mask is True and store them in a list\n",
    "    index_list = list(counts[mask].index)\n",
    "    for i in index_list:\n",
    "        str_name = i.split('_')[0]\n",
    "        df.loc[df[i] == 1, str_name+'_uncommon'] = 1\n",
    "    df.loc[:, df.columns.str.contains('_uncommon')] = df.loc[:, df.columns.str.contains('_uncommon')].fillna(0)\n",
    "    df.drop(columns=index_list, inplace=True)\n",
    "    return df, index_list\n",
    "\n",
    "def standardize_nums(df, var_list):\n",
    "    num_pipe = Pipeline([\n",
    "        ('num_imputer', SimpleImputer(strategy='mean')),\n",
    "        ('standardize', StandardScaler())\n",
    "    ])\n",
    "    ans = num_pipe.fit_transform(df[var_list])\n",
    "    df.loc[:, var_list] = ans\n",
    "    return df, num_pipe\n",
    "\n",
    "def transform_nums(df, var_list, num_pipe):\n",
    "    ans = num_pipe.transform(df[var_list])\n",
    "    df.loc[:, var_list] = ans\n",
    "    return df\n",
    "\n",
    "def transform_low_cats(df, index_list):\n",
    "    new_list = df.loc[:, df.columns.isin(index_list)].columns\n",
    "    for i in new_list:\n",
    "        str_name = i.split('_')[0]\n",
    "        df.loc[df[i] == 1, str_name+'_uncommon'] = 1\n",
    "    df.loc[:, df.columns.str.contains('_uncommon')] = df.loc[:, df.columns.str.contains('_uncommon')].fillna(0)\n",
    "    df.drop(columns=new_list, inplace=True)\n",
    "    return df\n",
    "\n",
    "\n",
    "def align_train_n_test(train, test):\n",
    "    a, b = train.align(test, join='inner', axis=1)\n",
    "    return a, b\n",
    "\n",
    "def full_clean(train, test, cat_vars, num_vars, special_vars):\n",
    "    train_clean = (train\n",
    "    .pipe(dummy_breed_color, special_vars)\n",
    "    .pipe(create_cat, cat_vars)\n",
    "    .pipe(log_values, num_vars)\n",
    "    )\n",
    "    test_clean = (test\n",
    "    .pipe(dummy_breed_color, special_vars)\n",
    "    .pipe(create_cat, cat_vars)\n",
    "    .pipe(log_values, num_vars)\n",
    "    )\n",
    "    #standardize my numericals\n",
    "    train_clean, num_pipe = train_clean.pipe(standardize_nums, num_vars)\n",
    "    test_clean = test_clean.pipe(transform_nums, num_vars, num_pipe)\n",
    "\n",
    "    #drop low categoricals in train, apply to test\n",
    "    train_clean, index_list = train_clean.pipe(drop_low_cats, cat_vars+special_vars, 5)\n",
    "    test_clean = test_clean.pipe(transform_low_cats, index_list)\n",
    "\n",
    "    #align both dataframes\n",
    "    train_clean, test_clean = align_train_n_test(train_clean, test_clean)\n",
    "\n",
    "    return train_clean, test_clean\n",
    "\n",
    "\n",
    "\n",
    "\n"
   ]
  },
  {
   "attachments": {},
   "cell_type": "markdown",
   "metadata": {},
   "source": [
    "Specify baseline features I will use."
   ]
  },
  {
   "cell_type": "code",
   "execution_count": 181,
   "metadata": {},
   "outputs": [],
   "source": [
    "num_feats = ['age', 'intake_count']\n",
    "cat_feats = ['intake_type', 'intake_condition', 'sex_upon_intake', 'name_avail', 'intake_month', 'mixed']\n",
    "special_feats = ['breed', 'color']\n",
    "x = num_feats+cat_feats+special_feats\n",
    "y='not_adopted'"
   ]
  },
  {
   "cell_type": "code",
   "execution_count": 182,
   "metadata": {},
   "outputs": [
    {
     "name": "stdout",
     "output_type": "stream",
     "text": [
      "(66534, 242) (16579, 240)\n",
      "(66534, 237) (16579, 237)\n"
     ]
    }
   ],
   "source": [
    "train_clean = (train\n",
    ".pipe(dummy_breed_color, special_feats)\n",
    ".pipe(create_cat, cat_feats)\n",
    ".pipe(log_values, num_feats)\n",
    ")\n",
    "\n",
    "val_clean = (test\n",
    ".pipe(dummy_breed_color, special_feats)\n",
    ".pipe(create_cat, cat_feats)\n",
    ".pipe(log_values, num_feats)\n",
    ")\n",
    "\n",
    "#standardize my numericals\n",
    "train_clean, num_pipe = train_clean.pipe(standardize_nums, num_feats)\n",
    "val_clean = val_clean.pipe(transform_nums, num_feats, num_pipe)\n",
    "\n",
    "#drop low categoricals in train, apply to test\n",
    "train_clean, index_list = train_clean.pipe(drop_low_cats, cat_feats+special_feats, 5)\n",
    "val_clean = val_clean.pipe(transform_low_cats, index_list)\n",
    "print(train_clean.shape, val_clean.shape)\n",
    "\n",
    "#align both dataframes\n",
    "train_clean, val_clean = align_train_n_test(train_clean, val_clean)\n",
    "print(train_clean.shape, val_clean.shape)\n"
   ]
  },
  {
   "cell_type": "code",
   "execution_count": 183,
   "metadata": {},
   "outputs": [],
   "source": [
    "#Break into X and Y's and get my cross validation folds\n",
    "X_train = train_clean.loc[:, train_clean.columns.str.contains('|'.join(x))]\n",
    "y_train = train_clean.loc[:, y]\n",
    "X_val = val_clean.loc[:, val_clean.columns.str.contains('|'.join(x))]\n",
    "y_val = val_clean.loc[:,y]\n",
    "\n",
    "\n",
    "group_kfold = GroupKFold(n_splits=5)\n",
    "cv = group_kfold.split(X_train, y_train, train_clean['animal_id'])\n"
   ]
  },
  {
   "attachments": {},
   "cell_type": "markdown",
   "metadata": {},
   "source": [
    "## Specify Baseline Models"
   ]
  },
  {
   "cell_type": "code",
   "execution_count": 184,
   "metadata": {},
   "outputs": [],
   "source": [
    "#Specify Naive Models\n",
    "model_run_dict = {\n",
    "    'log_l2': LogisticRegression(penalty='l2',solver='saga',C=.01,max_iter=1000),\n",
    "    'tree': DecisionTreeClassifier(random_state=1),\n",
    "    'rfc_tree': RandomForestClassifier(random_state=1),\n",
    "    'xgb_tree': xgb.XGBClassifier(random_state=1)\n",
    "}\n",
    "\n",
    "#output of models\n",
    "fitted_models = {}\n",
    "\n",
    "\n",
    "#Specify train data to test over\n",
    "datasets_to_run = {\n",
    "    'all_features': X_train,\n",
    "}\n",
    "\n",
    "#validation output results\n",
    "val_df = pd.DataFrame()\n"
   ]
  },
  {
   "cell_type": "code",
   "execution_count": 185,
   "metadata": {},
   "outputs": [],
   "source": [
    "def run_model(model_name, model, x, y, grp,df=val_df, return_scores = 0):\n",
    "    group_kfold = GroupKFold(n_splits=5)\n",
    "    cv = group_kfold.split(x, y, grp)\n",
    "    scores = cross_validate(model, x, y, \n",
    "    scoring=('accuracy', 'balanced_accuracy', 'roc_auc', 'precision', 'recall', 'f1'), \n",
    "    cv=cv,\n",
    "    n_jobs=-1)\n",
    "    print(model_name, ': Done!')\n",
    "    scores_df = pd.DataFrame(scores).round(3)\n",
    "    df = pd.DataFrame(scores).mean().round(3).to_frame().T\n",
    "    df = df.loc[:, df.columns.str.contains('test_')]\n",
    "    df['model_name'] = model_name\n",
    "    if return_scores == 1:\n",
    "        return df, scores_df\n",
    "    else:\n",
    "        return df\n",
    "\n",
    "def predict_model(model_name,model,x_train,x = X_val, y = y_val, df = val_df):\n",
    "\n",
    "    #align the data beforehand\n",
    "    _, x = align_train_n_test(x_train, x)\n",
    "\n",
    "    predict_val = model.predict(x)\n",
    "    print(model_name, ': Done!')\n",
    "    predict_prob_val = model.predict_proba(x)[:,1]\n",
    "    report = classification_report(y, predict_val,output_dict=True)\n",
    "    report['1']['roc_auc_score'] = roc_auc_score(y, predict_prob_val)\n",
    "    report['1']['balanced accuracy'] = balanced_accuracy_score(y, predict_val)\n",
    "    report['1']['accuracy'] = report['accuracy']\n",
    "    report['1']['model'] = model_name\n",
    "    df = pd.DataFrame(report['1'], index=[0])\n",
    "    \n",
    "    return df "
   ]
  },
  {
   "cell_type": "code",
   "execution_count": 186,
   "metadata": {},
   "outputs": [
    {
     "name": "stdout",
     "output_type": "stream",
     "text": [
      "dummy : Done!\n",
      "log_l2 : Done!\n",
      "tree : Done!\n",
      "rfc_tree : Done!\n",
      "xgb_tree : Done!\n"
     ]
    }
   ],
   "source": [
    "run_initial_models = True\n",
    "\n",
    "if run_initial_models:\n",
    "    ans = run_model(model_name='dummy',model=DummyClassifier(strategy='most_frequent'), x=X_train, y=y_train, grp=train['animal_id'])    \n",
    "    val_df = pd.concat([val_df, ans], ignore_index=True)\n",
    "\n",
    "    #Train all of our models\n",
    "    for model_name, model_run in model_run_dict.items():\n",
    "        ans = run_model(model_name=model_name,model=model_run, x=X_train, y=y_train, grp=train['animal_id'])\n",
    "        val_df = pd.concat([val_df, ans], ignore_index=True)"
   ]
  },
  {
   "cell_type": "code",
   "execution_count": 187,
   "metadata": {},
   "outputs": [],
   "source": [
    "scores = cross_validate(model_run,X_train, y_train,scoring=('accuracy', 'balanced_accuracy', 'roc_auc', 'precision', 'recall', 'f1')) "
   ]
  },
  {
   "cell_type": "code",
   "execution_count": 188,
   "metadata": {},
   "outputs": [
    {
     "data": {
      "text/html": [
       "<div>\n",
       "<style scoped>\n",
       "    .dataframe tbody tr th:only-of-type {\n",
       "        vertical-align: middle;\n",
       "    }\n",
       "\n",
       "    .dataframe tbody tr th {\n",
       "        vertical-align: top;\n",
       "    }\n",
       "\n",
       "    .dataframe thead th {\n",
       "        text-align: right;\n",
       "    }\n",
       "</style>\n",
       "<table border=\"1\" class=\"dataframe\">\n",
       "  <thead>\n",
       "    <tr style=\"text-align: right;\">\n",
       "      <th></th>\n",
       "      <th>fit_time</th>\n",
       "      <th>score_time</th>\n",
       "      <th>test_accuracy</th>\n",
       "      <th>test_balanced_accuracy</th>\n",
       "      <th>test_roc_auc</th>\n",
       "      <th>test_precision</th>\n",
       "      <th>test_recall</th>\n",
       "      <th>test_f1</th>\n",
       "    </tr>\n",
       "  </thead>\n",
       "  <tbody>\n",
       "    <tr>\n",
       "      <th>0</th>\n",
       "      <td>3.801</td>\n",
       "      <td>0.071</td>\n",
       "      <td>0.785</td>\n",
       "      <td>0.602</td>\n",
       "      <td>0.724</td>\n",
       "      <td>0.732</td>\n",
       "      <td>0.233</td>\n",
       "      <td>0.353</td>\n",
       "    </tr>\n",
       "    <tr>\n",
       "      <th>1</th>\n",
       "      <td>3.464</td>\n",
       "      <td>0.069</td>\n",
       "      <td>0.789</td>\n",
       "      <td>0.611</td>\n",
       "      <td>0.732</td>\n",
       "      <td>0.737</td>\n",
       "      <td>0.253</td>\n",
       "      <td>0.377</td>\n",
       "    </tr>\n",
       "    <tr>\n",
       "      <th>2</th>\n",
       "      <td>3.635</td>\n",
       "      <td>0.094</td>\n",
       "      <td>0.785</td>\n",
       "      <td>0.605</td>\n",
       "      <td>0.726</td>\n",
       "      <td>0.719</td>\n",
       "      <td>0.242</td>\n",
       "      <td>0.362</td>\n",
       "    </tr>\n",
       "    <tr>\n",
       "      <th>3</th>\n",
       "      <td>3.653</td>\n",
       "      <td>0.080</td>\n",
       "      <td>0.788</td>\n",
       "      <td>0.610</td>\n",
       "      <td>0.722</td>\n",
       "      <td>0.743</td>\n",
       "      <td>0.248</td>\n",
       "      <td>0.372</td>\n",
       "    </tr>\n",
       "    <tr>\n",
       "      <th>4</th>\n",
       "      <td>3.416</td>\n",
       "      <td>0.070</td>\n",
       "      <td>0.788</td>\n",
       "      <td>0.611</td>\n",
       "      <td>0.724</td>\n",
       "      <td>0.728</td>\n",
       "      <td>0.254</td>\n",
       "      <td>0.377</td>\n",
       "    </tr>\n",
       "  </tbody>\n",
       "</table>\n",
       "</div>"
      ],
      "text/plain": [
       "   fit_time  score_time  test_accuracy  test_balanced_accuracy  test_roc_auc  \\\n",
       "0     3.801       0.071          0.785                   0.602         0.724   \n",
       "1     3.464       0.069          0.789                   0.611         0.732   \n",
       "2     3.635       0.094          0.785                   0.605         0.726   \n",
       "3     3.653       0.080          0.788                   0.610         0.722   \n",
       "4     3.416       0.070          0.788                   0.611         0.724   \n",
       "\n",
       "   test_precision  test_recall  test_f1  \n",
       "0           0.732        0.233    0.353  \n",
       "1           0.737        0.253    0.377  \n",
       "2           0.719        0.242    0.362  \n",
       "3           0.743        0.248    0.372  \n",
       "4           0.728        0.254    0.377  "
      ]
     },
     "execution_count": 188,
     "metadata": {},
     "output_type": "execute_result"
    }
   ],
   "source": [
    "scores\n",
    "scores_df = pd.DataFrame(scores).round(3)\n",
    "scores_df"
   ]
  },
  {
   "attachments": {},
   "cell_type": "markdown",
   "metadata": {},
   "source": [
    "# Attempt Balancing of Data"
   ]
  },
  {
   "attachments": {},
   "cell_type": "markdown",
   "metadata": {},
   "source": [
    "1. stratify kfold\n",
    "https://scikit-learn.org/stable/modules/generated/sklearn.model_selection.StratifiedGroupKFold.html"
   ]
  },
  {
   "cell_type": "code",
   "execution_count": 189,
   "metadata": {},
   "outputs": [
    {
     "data": {
      "text/plain": [
       "{'fit_time': array([35.78868747, 35.47714162, 33.9041729 , 31.87138557, 35.57765579]),\n",
       " 'score_time': array([0.3065424 , 0.36354876, 0.37324929, 0.38705349, 0.30254912]),\n",
       " 'test_accuracy': array([0.78832281, 0.78994439, 0.78717968, 0.78740513, 0.7874643 ]),\n",
       " 'test_balanced_accuracy': array([0.60811397, 0.61099006, 0.60844194, 0.60957769, 0.6069544 ]),\n",
       " 'test_roc_auc': array([0.72766735, 0.7309533 , 0.72612159, 0.73020441, 0.72715069]),\n",
       " 'test_precision': array([0.74817518, 0.75495495, 0.73345102, 0.73130435, 0.74270073]),\n",
       " 'test_recall': array([0.24397501, 0.24933056, 0.24724784, 0.25022315, 0.2422619 ])}"
      ]
     },
     "execution_count": 189,
     "metadata": {},
     "output_type": "execute_result"
    }
   ],
   "source": [
    "sgkf = StratifiedGroupKFold(n_splits=5)\n",
    "sgkf.split(X_train, y_train, train_clean['animal_id'])\n",
    "cross_validate(xgb.XGBClassifier(random_state=1), X_train, y_train, \n",
    "    scoring=('accuracy', 'balanced_accuracy', 'roc_auc', 'precision', 'recall'), \n",
    "    groups= train_clean['animal_id'],\n",
    "    cv=sgkf,\n",
    "    n_jobs=-1)"
   ]
  },
  {
   "attachments": {},
   "cell_type": "markdown",
   "metadata": {},
   "source": [
    "1. Duplicate the minority class"
   ]
  },
  {
   "cell_type": "code",
   "execution_count": 190,
   "metadata": {},
   "outputs": [
    {
     "name": "stdout",
     "output_type": "stream",
     "text": [
      "Class 0 in Training proportion is: 49730\n",
      "Class 1 in Training proportion is: 16804\n",
      "Class 0 in Training proportion is: 49730\n",
      "Class 1 in Training proportion is: 49730\n"
     ]
    }
   ],
   "source": [
    "outcome_0_train = train_clean[train_clean[y] == 0]\n",
    "outcome_1_train = train_clean[train_clean[y] == 1]\n",
    "\n",
    "print(f'Class 0 in Training proportion is: {len(outcome_0_train)}')\n",
    "print(f'Class 1 in Training proportion is: {len(outcome_1_train)}')\n",
    "\n",
    "upsampled_class_1_no = outcome_1_train.sample(\n",
    "    n=len(outcome_0_train), replace=True, random_state=1)\n",
    "train_duplicate_upsample = pd.concat([outcome_0_train, upsampled_class_1_no])\n",
    "train_duplicate_upsample = train_duplicate_upsample.sample(frac=1).reset_index(drop=True)\n",
    "\n",
    "outcome_0_train = train_duplicate_upsample[train_duplicate_upsample[y] == 0]\n",
    "outcome_1_train = train_duplicate_upsample[train_duplicate_upsample[y] == 1]\n",
    "\n",
    "print(f'Class 0 in Training proportion is: {len(outcome_0_train)}')\n",
    "print(f'Class 1 in Training proportion is: {len(outcome_1_train)}')\n",
    "\n",
    "X_duplicate_upsample = train_duplicate_upsample.loc[:, train_duplicate_upsample.columns.str.contains('|'.join(x))]\n",
    "y_duplicate_upsample = train_duplicate_upsample[y]\n",
    "\n",
    "datasets_to_run['duplicate_upsample'] = X_duplicate_upsample"
   ]
  },
  {
   "cell_type": "code",
   "execution_count": 191,
   "metadata": {},
   "outputs": [
    {
     "name": "stdout",
     "output_type": "stream",
     "text": [
      "log_l2_oversample : Done!\n",
      "tree_oversample : Done!\n",
      "rfc_tree_oversample : Done!\n",
      "xgb_tree_oversample : Done!\n"
     ]
    }
   ],
   "source": [
    "for model_name, model_run in model_run_dict.items():\n",
    "    imba_pipeline = make_pipeline(RandomOverSampler(sampling_strategy='minority', random_state=1), \n",
    "                              model_run)\n",
    "    ans = run_model(model_name=model_name+'_oversample',model=imba_pipeline, x=X_train, y=y_train, grp=train['animal_id'])\n",
    "    val_df = pd.concat([val_df, ans], ignore_index=True)"
   ]
  },
  {
   "attachments": {},
   "cell_type": "markdown",
   "metadata": {},
   "source": [
    "2. Utilize SMOTE to balance data"
   ]
  },
  {
   "cell_type": "code",
   "execution_count": 192,
   "metadata": {},
   "outputs": [
    {
     "name": "stdout",
     "output_type": "stream",
     "text": [
      "log_l2_smote : Done!\n",
      "tree_smote : Done!\n",
      "rfc_tree_smote : Done!\n",
      "xgb_tree_smote : Done!\n"
     ]
    }
   ],
   "source": [
    "smote_model = SMOTE(random_state=1, sampling_strategy='minority')\n",
    "datasets_to_run['smote'] = smote_model.fit_resample(X_train, y_train)[0]\n",
    "\n",
    "for model_name, model_run in model_run_dict.items():\n",
    "    imba_pipeline = make_pipeline(SMOTE(random_state=1, sampling_strategy='minority'), \n",
    "                              model_run)\n",
    "    ans = run_model(model_name=model_name+'_smote',model=imba_pipeline, x=X_train, y=y_train, grp=train['animal_id'])\n",
    "    val_df = pd.concat([val_df, ans], ignore_index=True)\n"
   ]
  },
  {
   "attachments": {},
   "cell_type": "markdown",
   "metadata": {},
   "source": [
    "3. Balance Weights on L2 and XGBoost"
   ]
  },
  {
   "cell_type": "code",
   "execution_count": 193,
   "metadata": {},
   "outputs": [
    {
     "name": "stdout",
     "output_type": "stream",
     "text": [
      "{0: 1, 1: 1} : Done!\n",
      "balanced : Done!\n",
      "{0: 1, 1: 1.5} : Done!\n",
      "{0: 1, 1: 2} : Done!\n",
      "{0: 1, 1: 3} : Done!\n",
      "{0: 1, 1: 4} : Done!\n",
      "{0: 1, 1: 5} : Done!\n",
      "1 : Done!\n",
      "3.959414425136872 : Done!\n",
      "1.5 : Done!\n",
      "2 : Done!\n",
      "3 : Done!\n",
      "4 : Done!\n",
      "5 : Done!\n"
     ]
    }
   ],
   "source": [
    "group_kfold = GroupKFold(n_splits=10)\n",
    "cv = group_kfold.split(X_train, y_train, train_clean['animal_id'])\n",
    "scores_l2 = []\n",
    "scores_xgb = []\n",
    "for weights in [{0:1, 1:1},'balanced', {0:1, 1:1.5},{0:1, 1:2} ,{0:1, 1:3}, {0:1, 1:4},{0:1, 1:5}]:\n",
    "    clf = LogisticRegression(penalty='l2',solver='saga',C=.01,class_weight=weights,max_iter=1000)\n",
    "    ans, score_list = run_model(model_name=weights,model=clf, x=X_train, y=y_train, grp=train['animal_id'], return_scores=1)\n",
    "    scores_l2.append(score_list['test_f1'])\n",
    "\n",
    "balanced = 1/(y_train.value_counts()[1]/y_train.value_counts().sum())\n",
    "\n",
    "for weights in [1 ,balanced, 1.5, 2, 3, 4 ,5]:\n",
    "    cv = group_kfold.split(X_train, y_train, train_clean['animal_id'])\n",
    "    clf_xgb = xgb.XGBClassifier(random_state=1, scale_pos_weight=weights)\n",
    "    ans, score_list = run_model(model_name=weights,model=clf_xgb, x=X_train, y=y_train, grp=train['animal_id'], return_scores=1)\n",
    "    scores_xgb.append(score_list['test_f1'])\n",
    "\n",
    "\n",
    "    "
   ]
  },
  {
   "cell_type": "code",
   "execution_count": 195,
   "metadata": {},
   "outputs": [
    {
     "data": {
      "image/png": "[encoded data removed]",
      "text/plain": [
       "<Figure size 1440x720 with 1 Axes>"
      ]
     },
     "metadata": {},
     "output_type": "display_data"
    }
   ],
   "source": [
    "box_df = pd.DataFrame(np.array(scores_l2))\n",
    "box_df_2 = pd.DataFrame(np.array(scores_xgb))\n",
    "box_df['Weights'], box_df_2['Weights'] = [1, 'Balanced', 1.5, 2 ,3, 4,5], [1, 'Balanced', 1.5, 2 ,3,4, 5]\n",
    "box_df['model'], box_df_2['model'] = 'log_l2', 'xgb'\n",
    "box_df = pd.concat([box_df, box_df_2])\n",
    "box_df = box_df.melt(id_vars=['Weights', 'model'])\n",
    "\n",
    "\n",
    "plt.figure(figsize=(20,10))\n",
    "sns.set_style(\"white\")\n",
    "sns.boxplot(x=\"Weights\", \n",
    "            y=\"value\", \n",
    "            hue='model',\n",
    "            data=box_df, \n",
    "            showmeans=True);\n",
    "plt.xlabel('Weight of Minority Class')\n",
    "plt.ylabel('F1 score')\n",
    "plt.title('F1 score as a function of the number of minority weight');"
   ]
  },
  {
   "cell_type": "code",
   "execution_count": 196,
   "metadata": {},
   "outputs": [
    {
     "name": "stdout",
     "output_type": "stream",
     "text": [
      "log_l2_3weight : Done!\n",
      "xgb_tree_3weight : Done!\n"
     ]
    }
   ],
   "source": [
    "clf = LogisticRegression(penalty='l2',solver='saga',C=.01,class_weight={0:1, 1:3},max_iter=1000)\n",
    "ans = run_model(model_name='log_l2_3weight',model=clf, x=X_train, y=y_train, grp=train['animal_id'])\n",
    "val_df = pd.concat([val_df, ans], ignore_index=True)\n",
    "\n",
    "clf_xgb = xgb.XGBClassifier(random_state=1, scale_pos_weight=3)\n",
    "ans = run_model(model_name='xgb_tree_3weight',model=clf_xgb, x=X_train, y=y_train, grp=train['animal_id'])\n",
    "val_df = pd.concat([val_df, ans], ignore_index=True)\n"
   ]
  },
  {
   "attachments": {},
   "cell_type": "markdown",
   "metadata": {},
   "source": [
    "# Feature Importance"
   ]
  },
  {
   "attachments": {},
   "cell_type": "markdown",
   "metadata": {},
   "source": [
    "1. Manual Cleaning"
   ]
  },
  {
   "cell_type": "code",
   "execution_count": 197,
   "metadata": {},
   "outputs": [],
   "source": [
    "#Check correlation between variables, see if anything is highly correlated:\n",
    "corr_df = abs(X_train.corr())\n",
    "\n",
    "for col in corr_df:\n",
    "    temp_df = corr_df[corr_df[col] >= 0.95]\n",
    "    if temp_df.shape[0] > 1:\n",
    "        print('{} has {} highly correlated features associated with it.'.format(col, temp_df.shape[0]))\n",
    "\n"
   ]
  },
  {
   "cell_type": "code",
   "execution_count": 198,
   "metadata": {},
   "outputs": [],
   "source": [
    "corr_df = pd.concat([X_train, y_train], axis=1)\n",
    "mask = abs(corr_df.corr())[y].sort_values() < 0.05\n",
    "index_list = mask.index[mask == True]\n",
    "X_train_manual_clean = X_train.loc[:, ~X_train.columns.isin(index_list)]\n",
    "datasets_to_run['manual_clean'] = X_train_manual_clean\n"
   ]
  },
  {
   "cell_type": "code",
   "execution_count": 199,
   "metadata": {},
   "outputs": [
    {
     "name": "stdout",
     "output_type": "stream",
     "text": [
      "log_l2_manual_clean : Done!\n",
      "tree_manual_clean : Done!\n",
      "rfc_tree_manual_clean : Done!\n",
      "xgb_tree_manual_clean : Done!\n"
     ]
    }
   ],
   "source": [
    "#Train all of our models\n",
    "for model_name, model_run in model_run_dict.items():\n",
    "    ans = run_model(model_name=model_name+'_manual_clean',model=model_run, x=X_train_manual_clean, y=y_train, grp=train['animal_id'])\n",
    "    val_df = pd.concat([val_df, ans], ignore_index=True)"
   ]
  },
  {
   "attachments": {},
   "cell_type": "markdown",
   "metadata": {},
   "source": [
    "2. Boruta"
   ]
  },
  {
   "cell_type": "code",
   "execution_count": null,
   "metadata": {},
   "outputs": [],
   "source": [
    "#Takes ~7min to run so flag to turn it off or on\n",
    "run_boruta_process_flag = False\n",
    "\n",
    "if run_boruta_process_flag:\n",
    "    \n",
    "    ### initialize Boruta\n",
    "    feat_selector = BorutaPy(model_run_dict['xgb_tree'], n_estimators='auto', random_state=1)\n",
    "    # fit Boruta (it accepts np.array, not pd.DataFrame)\n",
    "    train_X_np = X_train.to_numpy()\n",
    "    train_Y_np = y_train.to_numpy()\n",
    "\n",
    "    feat_selector.fit(train_X_np, train_Y_np)\n",
    "\n",
    "\n",
    "# Results\n",
    "boruta_features = X_train.columns\n",
    "\n",
    "boruta_strong_features = boruta_features[feat_selector.support_].values.tolist()\n",
    "boruta_weak_features = boruta_features[feat_selector.support_weak_].values.tolist()\n",
    "\n",
    "print('Features to keep per Boruta:', boruta_strong_features)\n",
    "print('Features that are weak per Boruta:', boruta_weak_features)\n",
    "\n",
    "# select relevant features per Boruta and output column \n",
    "train_df_selected_strong_features_boruta = X_train[boruta_strong_features]\n",
    "train_df_all_selected_features_boruta = X_train[boruta_strong_features + boruta_weak_features]\n",
    "\n",
    "datasets_to_run['boruta_strong'] = train_df_selected_strong_features_boruta\n",
    "datasets_to_run['boruta_all'] = train_df_all_selected_features_boruta\n",
    "\n",
    "#Train all of our models\n",
    "for i in ['boruta_strong', 'boruta_all']:\n",
    "    for model_name, model_run in model_run_dict.items():\n",
    "        ans = run_model(model_name=model_name+\"_\"+i,model=model_run, x=datasets_to_run[i], y=y_train, grp=train['animal_id'])\n",
    "        val_df = pd.concat([val_df, ans], ignore_index=True)"
   ]
  },
  {
   "attachments": {},
   "cell_type": "markdown",
   "metadata": {},
   "source": [
    "# View Baseline Results"
   ]
  },
  {
   "cell_type": "code",
   "execution_count": 200,
   "metadata": {},
   "outputs": [
    {
     "data": {
      "text/html": [
       "<div>\n",
       "<style scoped>\n",
       "    .dataframe tbody tr th:only-of-type {\n",
       "        vertical-align: middle;\n",
       "    }\n",
       "\n",
       "    .dataframe tbody tr th {\n",
       "        vertical-align: top;\n",
       "    }\n",
       "\n",
       "    .dataframe thead th {\n",
       "        text-align: right;\n",
       "    }\n",
       "</style>\n",
       "<table border=\"1\" class=\"dataframe\">\n",
       "  <thead>\n",
       "    <tr style=\"text-align: right;\">\n",
       "      <th></th>\n",
       "      <th>test_accuracy</th>\n",
       "      <th>test_balanced_accuracy</th>\n",
       "      <th>test_roc_auc</th>\n",
       "      <th>test_precision</th>\n",
       "      <th>test_recall</th>\n",
       "      <th>test_f1</th>\n",
       "      <th>model_name</th>\n",
       "    </tr>\n",
       "  </thead>\n",
       "  <tbody>\n",
       "    <tr>\n",
       "      <th>0</th>\n",
       "      <td>0.747</td>\n",
       "      <td>0.500</td>\n",
       "      <td>0.500</td>\n",
       "      <td>0.000</td>\n",
       "      <td>0.000</td>\n",
       "      <td>0.000</td>\n",
       "      <td>dummy</td>\n",
       "    </tr>\n",
       "    <tr>\n",
       "      <th>1</th>\n",
       "      <td>0.774</td>\n",
       "      <td>0.577</td>\n",
       "      <td>0.703</td>\n",
       "      <td>0.712</td>\n",
       "      <td>0.178</td>\n",
       "      <td>0.285</td>\n",
       "      <td>log_l2</td>\n",
       "    </tr>\n",
       "    <tr>\n",
       "      <th>2</th>\n",
       "      <td>0.716</td>\n",
       "      <td>0.618</td>\n",
       "      <td>0.619</td>\n",
       "      <td>0.436</td>\n",
       "      <td>0.421</td>\n",
       "      <td>0.428</td>\n",
       "      <td>tree</td>\n",
       "    </tr>\n",
       "    <tr>\n",
       "      <th>3</th>\n",
       "      <td>0.779</td>\n",
       "      <td>0.628</td>\n",
       "      <td>0.707</td>\n",
       "      <td>0.619</td>\n",
       "      <td>0.323</td>\n",
       "      <td>0.424</td>\n",
       "      <td>rfc_tree</td>\n",
       "    </tr>\n",
       "    <tr>\n",
       "      <th>4</th>\n",
       "      <td>0.786</td>\n",
       "      <td>0.607</td>\n",
       "      <td>0.728</td>\n",
       "      <td>0.729</td>\n",
       "      <td>0.245</td>\n",
       "      <td>0.367</td>\n",
       "      <td>xgb_tree</td>\n",
       "    </tr>\n",
       "    <tr>\n",
       "      <th>5</th>\n",
       "      <td>0.687</td>\n",
       "      <td>0.649</td>\n",
       "      <td>0.705</td>\n",
       "      <td>0.414</td>\n",
       "      <td>0.571</td>\n",
       "      <td>0.480</td>\n",
       "      <td>log_l2_oversample</td>\n",
       "    </tr>\n",
       "    <tr>\n",
       "      <th>6</th>\n",
       "      <td>0.701</td>\n",
       "      <td>0.617</td>\n",
       "      <td>0.619</td>\n",
       "      <td>0.415</td>\n",
       "      <td>0.446</td>\n",
       "      <td>0.430</td>\n",
       "      <td>tree_oversample</td>\n",
       "    </tr>\n",
       "    <tr>\n",
       "      <th>7</th>\n",
       "      <td>0.753</td>\n",
       "      <td>0.641</td>\n",
       "      <td>0.702</td>\n",
       "      <td>0.515</td>\n",
       "      <td>0.413</td>\n",
       "      <td>0.458</td>\n",
       "      <td>rfc_tree_oversample</td>\n",
       "    </tr>\n",
       "    <tr>\n",
       "      <th>8</th>\n",
       "      <td>0.707</td>\n",
       "      <td>0.665</td>\n",
       "      <td>0.725</td>\n",
       "      <td>0.440</td>\n",
       "      <td>0.578</td>\n",
       "      <td>0.499</td>\n",
       "      <td>xgb_tree_oversample</td>\n",
       "    </tr>\n",
       "    <tr>\n",
       "      <th>9</th>\n",
       "      <td>0.717</td>\n",
       "      <td>0.639</td>\n",
       "      <td>0.692</td>\n",
       "      <td>0.445</td>\n",
       "      <td>0.482</td>\n",
       "      <td>0.463</td>\n",
       "      <td>log_l2_smote</td>\n",
       "    </tr>\n",
       "    <tr>\n",
       "      <th>10</th>\n",
       "      <td>0.691</td>\n",
       "      <td>0.612</td>\n",
       "      <td>0.613</td>\n",
       "      <td>0.401</td>\n",
       "      <td>0.452</td>\n",
       "      <td>0.425</td>\n",
       "      <td>tree_smote</td>\n",
       "    </tr>\n",
       "    <tr>\n",
       "      <th>11</th>\n",
       "      <td>0.726</td>\n",
       "      <td>0.648</td>\n",
       "      <td>0.702</td>\n",
       "      <td>0.461</td>\n",
       "      <td>0.490</td>\n",
       "      <td>0.475</td>\n",
       "      <td>rfc_tree_smote</td>\n",
       "    </tr>\n",
       "    <tr>\n",
       "      <th>12</th>\n",
       "      <td>0.758</td>\n",
       "      <td>0.647</td>\n",
       "      <td>0.714</td>\n",
       "      <td>0.527</td>\n",
       "      <td>0.422</td>\n",
       "      <td>0.469</td>\n",
       "      <td>xgb_tree_smote</td>\n",
       "    </tr>\n",
       "    <tr>\n",
       "      <th>13</th>\n",
       "      <td>0.686</td>\n",
       "      <td>0.649</td>\n",
       "      <td>0.705</td>\n",
       "      <td>0.412</td>\n",
       "      <td>0.575</td>\n",
       "      <td>0.480</td>\n",
       "      <td>log_l2_3weight</td>\n",
       "    </tr>\n",
       "    <tr>\n",
       "      <th>14</th>\n",
       "      <td>0.704</td>\n",
       "      <td>0.664</td>\n",
       "      <td>0.727</td>\n",
       "      <td>0.436</td>\n",
       "      <td>0.583</td>\n",
       "      <td>0.499</td>\n",
       "      <td>xgb_tree_3weight</td>\n",
       "    </tr>\n",
       "    <tr>\n",
       "      <th>15</th>\n",
       "      <td>0.774</td>\n",
       "      <td>0.574</td>\n",
       "      <td>0.698</td>\n",
       "      <td>0.720</td>\n",
       "      <td>0.170</td>\n",
       "      <td>0.276</td>\n",
       "      <td>log_l2_manual_clean</td>\n",
       "    </tr>\n",
       "    <tr>\n",
       "      <th>16</th>\n",
       "      <td>0.778</td>\n",
       "      <td>0.590</td>\n",
       "      <td>0.693</td>\n",
       "      <td>0.705</td>\n",
       "      <td>0.208</td>\n",
       "      <td>0.322</td>\n",
       "      <td>tree_manual_clean</td>\n",
       "    </tr>\n",
       "    <tr>\n",
       "      <th>17</th>\n",
       "      <td>0.779</td>\n",
       "      <td>0.593</td>\n",
       "      <td>0.697</td>\n",
       "      <td>0.702</td>\n",
       "      <td>0.217</td>\n",
       "      <td>0.331</td>\n",
       "      <td>rfc_tree_manual_clean</td>\n",
       "    </tr>\n",
       "    <tr>\n",
       "      <th>18</th>\n",
       "      <td>0.782</td>\n",
       "      <td>0.593</td>\n",
       "      <td>0.710</td>\n",
       "      <td>0.736</td>\n",
       "      <td>0.213</td>\n",
       "      <td>0.330</td>\n",
       "      <td>xgb_tree_manual_clean</td>\n",
       "    </tr>\n",
       "  </tbody>\n",
       "</table>\n",
       "</div>"
      ],
      "text/plain": [
       "    test_accuracy  test_balanced_accuracy  test_roc_auc  test_precision  \\\n",
       "0           0.747                   0.500         0.500           0.000   \n",
       "1           0.774                   0.577         0.703           0.712   \n",
       "2           0.716                   0.618         0.619           0.436   \n",
       "3           0.779                   0.628         0.707           0.619   \n",
       "4           0.786                   0.607         0.728           0.729   \n",
       "5           0.687                   0.649         0.705           0.414   \n",
       "6           0.701                   0.617         0.619           0.415   \n",
       "7           0.753                   0.641         0.702           0.515   \n",
       "8           0.707                   0.665         0.725           0.440   \n",
       "9           0.717                   0.639         0.692           0.445   \n",
       "10          0.691                   0.612         0.613           0.401   \n",
       "11          0.726                   0.648         0.702           0.461   \n",
       "12          0.758                   0.647         0.714           0.527   \n",
       "13          0.686                   0.649         0.705           0.412   \n",
       "14          0.704                   0.664         0.727           0.436   \n",
       "15          0.774                   0.574         0.698           0.720   \n",
       "16          0.778                   0.590         0.693           0.705   \n",
       "17          0.779                   0.593         0.697           0.702   \n",
       "18          0.782                   0.593         0.710           0.736   \n",
       "\n",
       "    test_recall  test_f1             model_name  \n",
       "0         0.000    0.000                  dummy  \n",
       "1         0.178    0.285                 log_l2  \n",
       "2         0.421    0.428                   tree  \n",
       "3         0.323    0.424               rfc_tree  \n",
       "4         0.245    0.367               xgb_tree  \n",
       "5         0.571    0.480      log_l2_oversample  \n",
       "6         0.446    0.430        tree_oversample  \n",
       "7         0.413    0.458    rfc_tree_oversample  \n",
       "8         0.578    0.499    xgb_tree_oversample  \n",
       "9         0.482    0.463           log_l2_smote  \n",
       "10        0.452    0.425             tree_smote  \n",
       "11        0.490    0.475         rfc_tree_smote  \n",
       "12        0.422    0.469         xgb_tree_smote  \n",
       "13        0.575    0.480         log_l2_3weight  \n",
       "14        0.583    0.499       xgb_tree_3weight  \n",
       "15        0.170    0.276    log_l2_manual_clean  \n",
       "16        0.208    0.322      tree_manual_clean  \n",
       "17        0.217    0.331  rfc_tree_manual_clean  \n",
       "18        0.213    0.330  xgb_tree_manual_clean  "
      ]
     },
     "execution_count": 200,
     "metadata": {},
     "output_type": "execute_result"
    }
   ],
   "source": [
    "val_df"
   ]
  },
  {
   "attachments": {},
   "cell_type": "markdown",
   "metadata": {},
   "source": [
    "# Fine Tune Models"
   ]
  },
  {
   "attachments": {},
   "cell_type": "markdown",
   "metadata": {},
   "source": [
    "1. test other hyperparams"
   ]
  },
  {
   "cell_type": "code",
   "execution_count": 231,
   "metadata": {},
   "outputs": [
    {
     "name": "stdout",
     "output_type": "stream",
     "text": [
      "5 : Done!\n",
      "5 : Done!\n",
      "5 : Done!\n",
      "5 : Done!\n",
      "5 : Done!\n",
      "5 : Done!\n"
     ]
    },
    {
     "data": {
      "image/png": "[encoded data removed]",
      "text/plain": [
       "<Figure size 1440x720 with 1 Axes>"
      ]
     },
     "metadata": {},
     "output_type": "display_data"
    }
   ],
   "source": [
    "scores_xgb = []\n",
    "depth_list = [6, 10, 20, 40, 80, 100]\n",
    "for depth in depth_list:\n",
    "    clf = xgb.XGBClassifier(random_state=1, scale_pos_weight=3, max_depth=depth)\n",
    "    ans, score_list = run_model(model_name=depth,model=clf, x=X_train, y=y_train, grp=train['animal_id'], return_scores=1)\n",
    "    scores_xgb.append(score_list['test_f1'])\n",
    "\n",
    "box_df = pd.DataFrame(np.array(scores_xgb))\n",
    "box_df['Weights'] = depth_list\n",
    "box_df = box_df.melt(id_vars=['Weights'])\n",
    "\n",
    "\n",
    "plt.figure(figsize=(20,10))\n",
    "sns.set_style(\"white\")\n",
    "sns.boxplot(x=\"Weights\", \n",
    "            y=\"value\", \n",
    "            data=box_df, \n",
    "            showmeans=True);\n",
    "plt.xlabel('Weight of Minority Class')\n",
    "plt.ylabel('F1 score')\n",
    "plt.title('F1 score as a function of the number of minority weight');"
   ]
  },
  {
   "attachments": {},
   "cell_type": "markdown",
   "metadata": {},
   "source": [
    "Extra Fluff:"
   ]
  },
  {
   "cell_type": "code",
   "execution_count": null,
   "metadata": {},
   "outputs": [],
   "source": [
    "extra_run = False\n",
    "if extra_run:\n",
    "    tester = X_train.copy()\n",
    "    tester['age^2'] = tester['age']**2\n",
    "    def interact_mix(df):\n",
    "        breed_col = df.loc[:, df.columns.str.contains('breed_')]\n",
    "        for col in breed_col:\n",
    "            df[col+'_mix'] = df[col]*df['mixed_1']\n",
    "        return df\n",
    "    tester = tester.pipe(interact_mix)\n",
    "\n",
    "    from sklearn.preprocessing import PolynomialFeatures\n",
    "    \"\"\"poly = PolynomialFeatures(2)\n",
    "    output = poly.fit_transform(X_train)\n",
    "    tester =pd.DataFrame(output, columns=poly.get_feature_names_out())\n",
    "    tester = tester.loc[:, ~tester.columns.str.contains('(breed_|color_).*\\^2.*')]\"\"\"\n",
    "    scores = cross_validate(model_run_dict['xgb_tree'], tester, y_train, scoring=('accuracy', \n",
    "    'balanced_accuracy', 'roc_auc', 'precision'), return_train_score=True, groups=train_clean['animal_id'], verbose=2, n_jobs=-1)\n",
    "    scores"
   ]
  },
  {
   "cell_type": "code",
   "execution_count": 211,
   "metadata": {},
   "outputs": [
    {
     "name": "stdout",
     "output_type": "stream",
     "text": [
      "              precision    recall  f1-score   support\n",
      "\n",
      "           0       0.85      0.73      0.79     12518\n",
      "           1       0.42      0.59      0.49      4061\n",
      "\n",
      "    accuracy                           0.70     16579\n",
      "   macro avg       0.63      0.66      0.64     16579\n",
      "weighted avg       0.74      0.70      0.71     16579\n",
      "\n"
     ]
    }
   ],
   "source": [
    "clf = xgb.XGBClassifier(random_state=1, scale_pos_weight=3)\n",
    "clf.fit(X_train, y_train)\n",
    "predicted = clf.predict(X_val)\n",
    "print(classification_report(y_val, predicted))\n",
    "val_clean['predicted'] = predicted\n",
    "val_clean['correct'] = np.where(val_clean['predicted'] == val_clean['not_adopted'], 1, 0)\n",
    "val_clean['correct'].value_counts()\n",
    "val_clean[['correct', 'outcome_type']].value_counts()"
   ]
  }
 ],
 "metadata": {
  "kernelspec": {
   "display_name": "base",
   "language": "python",
   "name": "python3"
  },
  "language_info": {
   "codemirror_mode": {
    "name": "ipython",
    "version": 3
   },
   "file_extension": ".py",
   "mimetype": "text/x-python",
   "name": "python",
   "nbconvert_exporter": "python",
   "pygments_lexer": "ipython3",
   "version": "3.9.12"
  },
  "orig_nbformat": 4
 },
 "nbformat": 4,
 "nbformat_minor": 2
}
